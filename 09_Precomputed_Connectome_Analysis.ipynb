{
 "cells": [
  {
   "cell_type": "markdown",
   "metadata": {},
   "source": [
    "# Precomputed Connectome Voxel-wise Map Correlations\n",
    "## Author: William Drew (wdrew@bwh.harvard.edu)\n",
    "\n",
    "This script uses the GSP1000_MF Precomputed Connectome to run a voxel-wise spatial correlation between your input map and all the voxel connectivity maps."
   ]
  },
  {
   "cell_type": "code",
   "execution_count": null,
   "metadata": {},
   "outputs": [],
   "source": [
    "from nilearn import image, plotting\n",
    "import numpy as np\n",
    "import os\n",
    "import json\n",
    "from nimlab import pcc_tools as pc\n",
    "from nimlab import datasets as nimds\n",
    "from tqdm import tqdm, trange"
   ]
  },
  {
   "cell_type": "markdown",
   "metadata": {},
   "source": [
    "## Choose an ROI Path"
   ]
  },
  {
   "cell_type": "code",
   "execution_count": null,
   "metadata": {},
   "outputs": [],
   "source": [
    "# This can be a path to a csv containing your nifti paths or a path to a single nifti\n",
    "roi_path = '/PHShome/wd957/test_lesions/2mm/connectivity/sub-0005_T.nii.gz'"
   ]
  },
  {
   "cell_type": "markdown",
   "metadata": {},
   "source": [
    "## Pick Map Type\n",
    "- Pick `'avgr'` for AvgR maps\n",
    "- Pick `'fz'` for AvgR_Fz maps\n",
    "- Pick `'t'` for T Maps"
   ]
  },
  {
   "cell_type": "code",
   "execution_count": null,
   "metadata": {},
   "outputs": [],
   "source": [
    "map_type = 't'"
   ]
  },
  {
   "cell_type": "markdown",
   "metadata": {},
   "source": [
    "## Choose output directory"
   ]
  },
  {
   "cell_type": "code",
   "execution_count": null,
   "metadata": {},
   "outputs": [],
   "source": [
    "output_dir = '/PHShome/wd957'"
   ]
  },
  {
   "cell_type": "markdown",
   "metadata": {},
   "source": [
    "## Load required files"
   ]
  },
  {
   "cell_type": "code",
   "execution_count": null,
   "metadata": {},
   "outputs": [],
   "source": [
    "# Both GSP1000_MF and yeo1000_dil precomputed connectomes are available:\n",
    "#json_path = '/data/nimlab/precomputed_connectomes/Production/configs/yeo1000_dil.json'\n",
    "json_path = '/data/nimlab/precomputed_connectomes/Production/configs/GSP1000_MF.json'\n",
    "# Load Precomputed Connectome JSON\n",
    "with open(json_path) as json_file:\n",
    "    precomputed_connectome = json.load(json_file)\n",
    "\n",
    "map_suffixes = {\n",
    "    \"avgr\":\"AvgR\",\n",
    "    \"fz\":\"AvgR_Fz\",\n",
    "    \"t\":\"T\"\n",
    "}\n",
    "    \n",
    "# Load in all required files\n",
    "brain_mask = nimds.get_img(precomputed_connectome['mask'])\n",
    "brain_masker = pc.NiftiMasker(brain_mask)\n",
    "brain_size = precomputed_connectome['brain_size']\n",
    "connectome_norms = image.load_img(precomputed_connectome['norm'])\n",
    "connectome_stdevs = image.load_img(precomputed_connectome['std'])\n",
    "\n",
    "chunk_dir = precomputed_connectome[map_type]\n",
    "chunk_img = image.load_img(precomputed_connectome['chunk_idx'])\n",
    "chunk_size = precomputed_connectome['chunk_size']\n",
    "num_chunks = precomputed_connectome['num_chunks']\n",
    "\n",
    "# Load list of ROIs\n",
    "roi_extension = roi_path.split('/')[-1].split('.')[1:]\n",
    "\n",
    "if 'csv' in roi_extension:\n",
    "    with open(roi_path, newline='') as f:\n",
    "        reader = csv.reader(f)\n",
    "        data = list(reader)\n",
    "    roi_paths = [path for line in data for path in line]\n",
    "    print(f\"Loaded {len(roi_paths)} ROIs...\")\n",
    "elif 'nii' in roi_extension:\n",
    "    roi_paths = [roi_path]\n",
    "else:\n",
    "    raise ValueError(\"Input File is not a NIfTI or a CSV containing paths to a list of NIfTIs\")\n",
    "    \n",
    "rois = {}\n",
    "output_maps = {}\n",
    "for roi in roi_paths:\n",
    "    rois[os.path.basename(roi).split(\".nii\")[0]] = brain_masker.transform(roi)\n",
    "    output_maps[os.path.basename(roi).split(\".nii\")[0]] = np.zeros(brain_size, dtype=np.float32)"
   ]
  },
  {
   "cell_type": "markdown",
   "metadata": {},
   "source": [
    "## Compute voxel-wise correlations"
   ]
  },
  {
   "cell_type": "code",
   "execution_count": null,
   "metadata": {},
   "outputs": [],
   "source": [
    "for i in trange(num_chunks):\n",
    "    selected_chunk = np.equal(chunk_img.get_fdata(), i+1)\n",
    "    selected_chunk_img = image.new_img_like(brain_mask, selected_chunk)\n",
    "    chunk_masker = pc.NiftiMasker(selected_chunk_img)\n",
    "    chunk_matrix = np.load(os.path.join(chunk_dir, f\"{str(i+1)}_{map_suffixes[map_type]}.npy\"))\n",
    "\n",
    "    for roi in rois:\n",
    "        correls = np.corrcoef(rois[roi], chunk_matrix)[0,1:]\n",
    "        output_maps[roi] += brain_masker.transform(chunk_masker.inverse_transform(correls))"
   ]
  },
  {
   "cell_type": "code",
   "execution_count": null,
   "metadata": {},
   "outputs": [],
   "source": [
    "for roi in output_maps:\n",
    "    brain_masker.inverse_transform(output_maps[roi]).to_filename(os.path.join(output_dir, roi+\"_pcc_inverse_r_map.nii.gz\"))"
   ]
  },
  {
   "cell_type": "code",
   "execution_count": null,
   "metadata": {},
   "outputs": [],
   "source": []
  }
 ],
 "metadata": {
  "kernelspec": {
   "display_name": "Py3.8 Nimlab",
   "language": "python",
   "name": "nimlab"
  },
  "language_info": {
   "codemirror_mode": {
    "name": "ipython",
    "version": 3
   },
   "file_extension": ".py",
   "mimetype": "text/x-python",
   "name": "python",
   "nbconvert_exporter": "python",
   "pygments_lexer": "ipython3",
   "version": "3.8.12"
  }
 },
 "nbformat": 4,
 "nbformat_minor": 4
}
