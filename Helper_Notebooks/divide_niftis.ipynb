{
 "cells": [
  {
   "cell_type": "markdown",
   "metadata": {},
   "source": [
    "A) Use FSLMaths\n",
    "> fslmaths /Users/cu135/Dropbox\\ \\(Partners\\ HealthCare\\)/studies/atrophy_seeds_2023/shared_analysis/niftis_for_elmira/combined_atrophy_seeds/combined_ad_seeds/ad_ct_summed_generated_nifti.nii -div 9 /Users/cu135/Dropbox\\ \\(Partners\\ HealthCare\\)/studies/atrophy_seeds_2023/shared_analysis/niftis_for_elmira/combined_atrophy_seeds/combined_ad_seeds/ad_ct_summed_generated_nifti_averaged.nii"
   ]
  },
  {
   "cell_type": "markdown",
   "metadata": {},
   "source": []
  },
  {
   "cell_type": "markdown",
   "metadata": {},
   "source": [
    "B) Use Python"
   ]
  },
  {
   "cell_type": "markdown",
   "metadata": {},
   "source": [
    "Find Files to Add Together"
   ]
  },
  {
   "cell_type": "code",
   "execution_count": null,
   "metadata": {},
   "outputs": [],
   "source": [
    "import glob\n",
    "\n",
    "def find_files(root_dir, target_str):\n",
    "    \"\"\"\n",
    "    Return a list of files globbed using a root directory and a target string.\n",
    "\n",
    "    Args:\n",
    "        root_dir (str): The root directory to start the search.\n",
    "        target_str (str): The target string to match in file names.\n",
    "\n",
    "    Returns:\n",
    "        list: A list of file paths matching the target string.\n",
    "    \n",
    "    # Example usage:\n",
    "    root_directory = '/path/to/root/directory'\n",
    "    target_string = 'example'\n",
    "\n",
    "    files_matching_target = find_files(root_directory, target_string)\n",
    "    print(files_matching_target)\n",
    "    \"\"\"\n",
    "    search_pattern = f\"{root_dir}/**/*{target_str}*\"\n",
    "    files = glob.glob(search_pattern, recursive=True)\n",
    "    return files\n"
   ]
  },
  {
   "cell_type": "markdown",
   "metadata": {},
   "source": [
    "Define the Root Directory and Target String of Files to Add"
   ]
  },
  {
   "cell_type": "code",
   "execution_count": null,
   "metadata": {},
   "outputs": [],
   "source": [
    "path = '/Users/cu135/Dropbox (Partners HealthCare)/studies/atrophy_seeds_2023/shared_analysis/niftis_for_elmira/atrophy_seeds/sub-*/ses-01/thresholded_tissue_segment_z_scores'\n",
    "target = '*cerebrospinal_fluid*'"
   ]
  },
  {
   "cell_type": "code",
   "execution_count": null,
   "metadata": {},
   "outputs": [],
   "source": [
    "file_list = find_files(path, target)\n",
    "file_list"
   ]
  },
  {
   "cell_type": "markdown",
   "metadata": {},
   "source": [
    "Edit the Files Above to Select the Specific Files you Want to Combine"
   ]
  },
  {
   "cell_type": "code",
   "execution_count": null,
   "metadata": {},
   "outputs": [],
   "source": [
    "file_list = [\n",
    " '/Users/cu135/Dropbox (Partners HealthCare)/studies/atrophy_seeds_2023/shared_analysis/niftis_for_elmira/atrophy_seeds/sub-029/ses-01/thresholded_tissue_segment_z_scores/sub-029_cerebrospinal_fluid_generated_nifti.nii',\n",
    " '/Users/cu135/Dropbox (Partners HealthCare)/studies/atrophy_seeds_2023/shared_analysis/niftis_for_elmira/atrophy_seeds/sub-045/ses-01/thresholded_tissue_segment_z_scores/sub-045_cerebrospinal_fluid_generated_nifti.nii',\n",
    " '/Users/cu135/Dropbox (Partners HealthCare)/studies/atrophy_seeds_2023/shared_analysis/niftis_for_elmira/atrophy_seeds/sub-042/ses-01/thresholded_tissue_segment_z_scores/sub-042_cerebrospinal_fluid_generated_nifti.nii',\n",
    " '/Users/cu135/Dropbox (Partners HealthCare)/studies/atrophy_seeds_2023/shared_analysis/niftis_for_elmira/atrophy_seeds/sub-005/ses-01/thresholded_tissue_segment_z_scores/sub-005_cerebrospinal_fluid_generated_nifti.nii',\n",
    " '/Users/cu135/Dropbox (Partners HealthCare)/studies/atrophy_seeds_2023/shared_analysis/niftis_for_elmira/atrophy_seeds/sub-003/ses-01/thresholded_tissue_segment_z_scores/sub-003_cerebrospinal_fluid_generated_nifti.nii',\n",
    " '/Users/cu135/Dropbox (Partners HealthCare)/studies/atrophy_seeds_2023/shared_analysis/niftis_for_elmira/atrophy_seeds/sub-022/ses-01/thresholded_tissue_segment_z_scores/sub-022_cerebrospinal_fluid_generated_nifti.nii',\n",
    " '/Users/cu135/Dropbox (Partners HealthCare)/studies/atrophy_seeds_2023/shared_analysis/niftis_for_elmira/atrophy_seeds/sub-046/ses-01/thresholded_tissue_segment_z_scores/sub-046_cerebrospinal_fluid_generated_nifti.nii',\n",
    " '/Users/cu135/Dropbox (Partners HealthCare)/studies/atrophy_seeds_2023/shared_analysis/niftis_for_elmira/atrophy_seeds/sub-024/ses-01/thresholded_tissue_segment_z_scores/sub-024_cerebrospinal_fluid_generated_nifti.nii',\n",
    " '/Users/cu135/Dropbox (Partners HealthCare)/studies/atrophy_seeds_2023/shared_analysis/niftis_for_elmira/atrophy_seeds/sub-007/ses-01/thresholded_tissue_segment_z_scores/sub-007_cerebrospinal_fluid_generated_nifti.nii']"
   ]
  },
  {
   "cell_type": "markdown",
   "metadata": {},
   "source": [
    "Add Niftis Toghether\n",
    "- This expects a list of file paths where the paths define the niftis to be added. \n",
    "- This expects an output path which defines the absolute path to the file to be created. "
   ]
  },
  {
   "cell_type": "code",
   "execution_count": null,
   "metadata": {},
   "outputs": [],
   "source": [
    "import subprocess\n",
    "from tqdm import tqdm\n",
    "\n",
    "def add_nifti_files(file_paths, output_path):\n",
    "    \"\"\"\n",
    "    Add together multiple NIfTI files using FSL's fslmaths command.\n",
    "    \n",
    "    Args:\n",
    "        file_paths (list): List of input file paths.\n",
    "        output_path (str): Output file path for the summary file.\n",
    "        \n",
    "    # Example usage:\n",
    "    # file_paths = ['/path/to/input1.nii.gz', '/path/to/input2.nii.gz', ..., '/path/to/input20.nii.gz']\n",
    "    # output_path = '/path/to/output_summary.nii.gz'\n",
    "\n",
    "    # add_nifti_files(file_paths, output_path)\n",
    "    \"\"\"\n",
    "    # Check if there are any files to process\n",
    "    if not file_paths:\n",
    "        print(\"No input files provided.\")\n",
    "        return\n",
    "    \n",
    "    # Construct the fslmaths command\n",
    "    command = ['fslmaths']\n",
    "    \n",
    "    # Add each input file to the command\n",
    "    for file_path in tqdm(file_paths, desc=\"Adding NIfTI files\", unit=\"file\"):\n",
    "        command.extend([file_path, '-add'])\n",
    "    \n",
    "    # Add the output path\n",
    "    command.append(output_path)\n",
    "    print(\"Attempting command: \\n \", command)\n",
    "    try:\n",
    "        # Execute the command\n",
    "        subprocess.run(command, check=True)\n",
    "        print(\"Summary file created successfully.\")\n",
    "    except subprocess.CalledProcessError as e:\n",
    "        print(f\"Error: {e}\")"
   ]
  },
  {
   "cell_type": "markdown",
   "metadata": {},
   "source": [
    "Define Output"
   ]
  },
  {
   "cell_type": "code",
   "execution_count": null,
   "metadata": {},
   "outputs": [],
   "source": [
    "output_path = '/Users/cu135/Dropbox (Partners HealthCare)/studies/atrophy_seeds_2023/shared_analysis/niftis_for_elmira/combined_atrophy_seeds/combined_ad_seeds/csf_ad_seeds.nii'"
   ]
  },
  {
   "cell_type": "markdown",
   "metadata": {},
   "source": [
    "Run it"
   ]
  },
  {
   "cell_type": "code",
   "execution_count": null,
   "metadata": {},
   "outputs": [],
   "source": [
    "add_nifti_files(file_paths=file_list, output_path=output_path)"
   ]
  },
  {
   "cell_type": "markdown",
   "metadata": {},
   "source": [
    "Done\n",
    "- Calvin"
   ]
  },
  {
   "cell_type": "code",
   "execution_count": null,
   "metadata": {},
   "outputs": [],
   "source": [
    "result = subprocess.run(\"/bin/echo $PATH\", shell=True, capture_output=True, text=True)\n",
    "print(\"PATH in subprocess:\", result.stdout)\n"
   ]
  },
  {
   "cell_type": "code",
   "execution_count": null,
   "metadata": {},
   "outputs": [],
   "source": []
  }
 ],
 "metadata": {
  "kernelspec": {
   "display_name": "Python 3",
   "language": "python",
   "name": "python3"
  },
  "language_info": {
   "codemirror_mode": {
    "name": "ipython",
    "version": 3
   },
   "file_extension": ".py",
   "mimetype": "text/x-python",
   "name": "python",
   "nbconvert_exporter": "python",
   "pygments_lexer": "ipython3",
   "version": "3.10.8"
  }
 },
 "nbformat": 4,
 "nbformat_minor": 2
}
