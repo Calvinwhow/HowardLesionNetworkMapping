{
 "cells": [
  {
   "cell_type": "markdown",
   "metadata": {},
   "source": [
    "# Optional - Discover Files"
   ]
  },
  {
   "cell_type": "markdown",
   "metadata": {},
   "source": [
    "Find Files to Add Together"
   ]
  },
  {
   "cell_type": "code",
   "execution_count": null,
   "metadata": {},
   "outputs": [],
   "source": [
    "import glob\n",
    "import pandas as pd\n",
    "\n",
    "def find_files(root_dir, target_str):\n",
    "    \"\"\"\n",
    "    Return a list of files globbed using a root directory and a target string.\n",
    "\n",
    "    Args:\n",
    "        root_dir (str): The root directory to start the search.\n",
    "        target_str (str): The target string to match in file names.\n",
    "\n",
    "    Returns:\n",
    "        list: A list of file paths matching the target string.\n",
    "    \n",
    "    # Example usage:\n",
    "    root_directory = '/path/to/root/directory'\n",
    "    target_string = 'example'\n",
    "\n",
    "    files_matching_target = find_files(root_directory, target_string)\n",
    "    print(files_matching_target)\n",
    "    \"\"\"\n",
    "    search_pattern = f\"{root_dir}/**/*{target_str}*\"\n",
    "    files = glob.glob(search_pattern, recursive=True)\n",
    "    return files\n",
    "\n",
    "def create_dataframe_and_save(paths, output_path):\n",
    "    \"\"\"\n",
    "    Creates a pandas DataFrame from a list of file paths with a single column 'paths'.\n",
    "    The DataFrame is saved to a specified output path without an index.\n",
    "\n",
    "    Parameters:\n",
    "    - paths (list): A list of file paths to include in the DataFrame.\n",
    "    - output_path (str): The file path where the DataFrame should be saved as a CSV.\n",
    "\n",
    "    Prints messages indicating the progress and completion of the DataFrame creation and saving process.\n",
    "    Includes error handling for potential issues during the DataFrame creation and saving process.\n",
    "    \"\"\"\n",
    "    try:\n",
    "        # Creating the DataFrame\n",
    "        df = pd.DataFrame(paths, columns=['paths'])\n",
    "        print(\"DataFrame created successfully.\")\n",
    "\n",
    "        # Saving the DataFrame to the specified output path\n",
    "        df.to_csv(output_path, index=False)\n",
    "        print(f\"DataFrame saved successfully to {output_path}.\")\n",
    "    except Exception as e:\n",
    "        print(f\"An error occurred: {e}\")\n",
    "    return df"
   ]
  },
  {
   "cell_type": "markdown",
   "metadata": {},
   "source": [
    "Define the Root Directory and Target String of Files to Add"
   ]
  },
  {
   "cell_type": "code",
   "execution_count": null,
   "metadata": {},
   "outputs": [],
   "source": [
    "path = '/Users/cu135/Dropbox (Partners HealthCare)/studies/atrophy_seeds_2023/shared_analysis/niftis_for_elmira/atrophy_seeds/sub-*/ses-01/thresholded_tissue_segment_z_scores'\n",
    "target = '*grey_matter_generated*'"
   ]
  },
  {
   "cell_type": "code",
   "execution_count": null,
   "metadata": {},
   "outputs": [],
   "source": [
    "file_list = find_files(path, target)\n",
    "file_list"
   ]
  },
  {
   "cell_type": "markdown",
   "metadata": {},
   "source": [
    "Edit the Files Above to Select the Specific Files you Want to Combine"
   ]
  },
  {
   "cell_type": "code",
   "execution_count": null,
   "metadata": {},
   "outputs": [],
   "source": [
    "file_list = [\n",
    " '/Users/cu135/Dropbox (Partners HealthCare)/studies/atrophy_seeds_2023/shared_analysis/niftis_for_elmira/atrophy_seeds/sub-030/ses-01/thresholded_tissue_segment_z_scores/sub-0030_ct_generated_nifti.nii',\n",
    " '/Users/cu135/Dropbox (Partners HealthCare)/studies/atrophy_seeds_2023/shared_analysis/niftis_for_elmira/atrophy_seeds/sub-023/ses-01/thresholded_tissue_segment_z_scores/sub-0023_ct_generated_nifti.nii',\n",
    " '/Users/cu135/Dropbox (Partners HealthCare)/studies/atrophy_seeds_2023/shared_analysis/niftis_for_elmira/atrophy_seeds/sub-021/ses-01/thresholded_tissue_segment_z_scores/sub-0021_ct_generated_nifti.nii',\n",
    " '/Users/cu135/Dropbox (Partners HealthCare)/studies/atrophy_seeds_2023/shared_analysis/niftis_for_elmira/atrophy_seeds/sub-041/ses-01/thresholded_tissue_segment_z_scores/sub-0041_ct_generated_nifti.nii',\n",
    " '/Users/cu135/Dropbox (Partners HealthCare)/studies/atrophy_seeds_2023/shared_analysis/niftis_for_elmira/atrophy_seeds/sub-013/ses-01/thresholded_tissue_segment_z_scores/sub-0013_ct_generated_nifti.nii',\n",
    " '/Users/cu135/Dropbox (Partners HealthCare)/studies/atrophy_seeds_2023/shared_analysis/niftis_for_elmira/atrophy_seeds/sub-032/ses-01/thresholded_tissue_segment_z_scores/sub-0032_ct_generated_nifti.nii',\n",
    " '/Users/cu135/Dropbox (Partners HealthCare)/studies/atrophy_seeds_2023/shared_analysis/niftis_for_elmira/atrophy_seeds/sub-033/ses-01/thresholded_tissue_segment_z_scores/sub-0033_ct_generated_nifti.nii',\n",
    " '/Users/cu135/Dropbox (Partners HealthCare)/studies/atrophy_seeds_2023/shared_analysis/niftis_for_elmira/atrophy_seeds/sub-000/ses-01/thresholded_tissue_segment_z_scores/sub-0000_ct_generated_nifti.nii',\n",
    " '/Users/cu135/Dropbox (Partners HealthCare)/studies/atrophy_seeds_2023/shared_analysis/niftis_for_elmira/atrophy_seeds/sub-020/ses-01/thresholded_tissue_segment_z_scores/sub-0020_ct_generated_nifti.nii',\n",
    "'/Users/cu135/Dropbox (Partners HealthCare)/studies/atrophy_seeds_2023/shared_analysis/niftis_for_elmira/atrophy_seeds/sub-027/ses-01/thresholded_tissue_segment_z_scores/sub-0027_ct_generated_nifti.nii',\n",
    "'/Users/cu135/Dropbox (Partners HealthCare)/studies/atrophy_seeds_2023/shared_analysis/niftis_for_elmira/atrophy_seeds/sub-015/ses-01/thresholded_tissue_segment_z_scores/sub-0015_ct_generated_nifti.nii',\n",
    "'/Users/cu135/Dropbox (Partners HealthCare)/studies/atrophy_seeds_2023/shared_analysis/niftis_for_elmira/atrophy_seeds/sub-009/ses-01/thresholded_tissue_segment_z_scores/sub-0009_ct_generated_nifti.nii',\n",
    "'/Users/cu135/Dropbox (Partners HealthCare)/studies/atrophy_seeds_2023/shared_analysis/niftis_for_elmira/atrophy_seeds/sub-014/ses-01/thresholded_tissue_segment_z_scores/sub-0014_ct_generated_nifti.nii',\n",
    "'/Users/cu135/Dropbox (Partners HealthCare)/studies/atrophy_seeds_2023/shared_analysis/niftis_for_elmira/atrophy_seeds/sub-038/ses-01/thresholded_tissue_segment_z_scores/sub-0038_ct_generated_nifti.nii',\n",
    "'/Users/cu135/Dropbox (Partners HealthCare)/studies/atrophy_seeds_2023/shared_analysis/niftis_for_elmira/atrophy_seeds/sub-019/ses-01/thresholded_tissue_segment_z_scores/sub-0019_ct_generated_nifti.nii',\n",
    "'/Users/cu135/Dropbox (Partners HealthCare)/studies/atrophy_seeds_2023/shared_analysis/niftis_for_elmira/atrophy_seeds/sub-017/ses-01/thresholded_tissue_segment_z_scores/sub-0017_ct_generated_nifti.nii',\n",
    "'/Users/cu135/Dropbox (Partners HealthCare)/studies/atrophy_seeds_2023/shared_analysis/niftis_for_elmira/atrophy_seeds/sub-037/ses-01/thresholded_tissue_segment_z_scores/sub-0037_ct_generated_nifti.nii',\n",
    "'/Users/cu135/Dropbox (Partners HealthCare)/studies/atrophy_seeds_2023/shared_analysis/niftis_for_elmira/atrophy_seeds/sub-031/ses-01/thresholded_tissue_segment_z_scores/sub-0031_ct_generated_nifti.nii',\n",
    "'/Users/cu135/Dropbox (Partners HealthCare)/studies/atrophy_seeds_2023/shared_analysis/niftis_for_elmira/atrophy_seeds/sub-040/ses-01/thresholded_tissue_segment_z_scores/sub-0040_ct_generated_nifti.nii',\n",
    "'/Users/cu135/Dropbox (Partners HealthCare)/studies/atrophy_seeds_2023/shared_analysis/niftis_for_elmira/atrophy_seeds/sub-010/ses-01/thresholded_tissue_segment_z_scores/sub-0010_ct_generated_nifti.nii',\n",
    "'/Users/cu135/Dropbox (Partners HealthCare)/studies/atrophy_seeds_2023/shared_analysis/niftis_for_elmira/atrophy_seeds/sub-001/ses-01/thresholded_tissue_segment_z_scores/sub-0001_ct_generated_nifti.nii']"
   ]
  },
  {
   "cell_type": "markdown",
   "metadata": {},
   "source": [
    "Define CSV Output Path"
   ]
  },
  {
   "cell_type": "code",
   "execution_count": null,
   "metadata": {},
   "outputs": [],
   "source": [
    "csv_path = '/Users/cu135/Dropbox (Partners HealthCare)/studies/atrophy_seeds_2023/shared_analysis/niftis_for_elmira/combined_atrophy_seeds/combined_ctrl_seeds/ct_ctrl_seeds.csv'"
   ]
  },
  {
   "cell_type": "markdown",
   "metadata": {},
   "source": [
    "Run it"
   ]
  },
  {
   "cell_type": "code",
   "execution_count": null,
   "metadata": {},
   "outputs": [],
   "source": [
    "df = create_dataframe_and_save(paths=file_list, output_path=csv_path)\n",
    "df"
   ]
  },
  {
   "cell_type": "markdown",
   "metadata": {},
   "source": [
    "# Import Files"
   ]
  },
  {
   "cell_type": "markdown",
   "metadata": {},
   "source": [
    "To import from CSV:\n",
    "- import_path = 'files_to_import.csv'\n",
    "- file_column = None\n",
    "- file_pattern = None\n",
    "\n",
    "To import from Folder\n",
    "- \n",
    "- \n",
    "-"
   ]
  },
  {
   "cell_type": "code",
   "execution_count": 1,
   "metadata": {},
   "outputs": [
    {
     "ename": "NameError",
     "evalue": "name 'csv_path' is not defined",
     "output_type": "error",
     "traceback": [
      "\u001b[0;31m---------------------------------------------------------------------------\u001b[0m",
      "\u001b[0;31mNameError\u001b[0m                                 Traceback (most recent call last)",
      "Cell \u001b[0;32mIn[1], line 1\u001b[0m\n\u001b[0;32m----> 1\u001b[0m csv_path \u001b[38;5;241m=\u001b[39m \u001b[43mcsv_path\u001b[49m\n\u001b[1;32m      2\u001b[0m file_column \u001b[38;5;241m=\u001b[39m \u001b[38;5;28;01mNone\u001b[39;00m\n\u001b[1;32m      3\u001b[0m file_pattern \u001b[38;5;241m=\u001b[39m \u001b[38;5;28;01mNone\u001b[39;00m\n",
      "\u001b[0;31mNameError\u001b[0m: name 'csv_path' is not defined"
     ]
    }
   ],
   "source": [
    "csv_path = csv_path\n",
    "file_column = None\n",
    "file_pattern = None"
   ]
  },
  {
   "cell_type": "code",
   "execution_count": 2,
   "metadata": {},
   "outputs": [
    {
     "ename": "NameError",
     "evalue": "name 'csv_path' is not defined",
     "output_type": "error",
     "traceback": [
      "\u001b[0;31m---------------------------------------------------------------------------\u001b[0m",
      "\u001b[0;31mNameError\u001b[0m                                 Traceback (most recent call last)",
      "Cell \u001b[0;32mIn[2], line 2\u001b[0m\n\u001b[1;32m      1\u001b[0m \u001b[38;5;28;01mfrom\u001b[39;00m \u001b[38;5;21;01mcalvin_utils\u001b[39;00m\u001b[38;5;21;01m.\u001b[39;00m\u001b[38;5;21;01mfile_utils\u001b[39;00m\u001b[38;5;21;01m.\u001b[39;00m\u001b[38;5;21;01mimport_functions\u001b[39;00m \u001b[38;5;28;01mimport\u001b[39;00m GiiNiiFileImport\n\u001b[0;32m----> 2\u001b[0m matrix_df1 \u001b[38;5;241m=\u001b[39m GiiNiiFileImport(import_path\u001b[38;5;241m=\u001b[39m\u001b[43mcsv_path\u001b[49m, file_column\u001b[38;5;241m=\u001b[39m\u001b[38;5;124m'\u001b[39m\u001b[38;5;124mpaths\u001b[39m\u001b[38;5;124m'\u001b[39m, file_pattern\u001b[38;5;241m=\u001b[39mfile_pattern)\u001b[38;5;241m.\u001b[39mrun()\n\u001b[1;32m      3\u001b[0m matrix_df1\n",
      "\u001b[0;31mNameError\u001b[0m: name 'csv_path' is not defined"
     ]
    }
   ],
   "source": [
    "from calvin_utils.file_utils.import_functions import GiiNiiFileImport\n",
    "matrix_df1 = GiiNiiFileImport(import_path=csv_path, file_column='paths', file_pattern=file_pattern).run()\n",
    "matrix_df1"
   ]
  },
  {
   "cell_type": "markdown",
   "metadata": {},
   "source": [
    "# Add and save nifits"
   ]
  },
  {
   "cell_type": "code",
   "execution_count": null,
   "metadata": {},
   "outputs": [],
   "source": [
    "matrix_df1['summed'] = matrix_df1.sum(axis=1)\n",
    "matrix_df1"
   ]
  },
  {
   "cell_type": "code",
   "execution_count": null,
   "metadata": {},
   "outputs": [],
   "source": [
    "output_directory = '/Users/cu135/Dropbox (Partners HealthCare)/studies/atrophy_seeds_2023/shared_analysis/niftis_for_elmira/combined_atrophy_seeds/combined_ctrl_seeds'\n",
    "nifti_name = 'ctrl_ct_summed'"
   ]
  },
  {
   "cell_type": "code",
   "execution_count": null,
   "metadata": {},
   "outputs": [],
   "source": [
    "from calvin_utils.nifti_utils.generate_nifti import view_and_save_nifti\n",
    "view_and_save_nifti(matrix_df1['summed'], out_dir=output_directory, output_name=nifti_name)"
   ]
  },
  {
   "cell_type": "code",
   "execution_count": null,
   "metadata": {},
   "outputs": [],
   "source": []
  }
 ],
 "metadata": {
  "kernelspec": {
   "display_name": "Python 3",
   "language": "python",
   "name": "python3"
  },
  "language_info": {
   "codemirror_mode": {
    "name": "ipython",
    "version": 3
   },
   "file_extension": ".py",
   "mimetype": "text/x-python",
   "name": "python",
   "nbconvert_exporter": "python",
   "pygments_lexer": "ipython3",
   "version": "3.10.8"
  }
 },
 "nbformat": 4,
 "nbformat_minor": 2
}
