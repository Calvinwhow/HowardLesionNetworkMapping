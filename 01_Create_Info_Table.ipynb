{
 "cells": [
  {
   "cell_type": "markdown",
   "metadata": {},
   "source": [
    "This expects you to have a spreadsheet with patients in rows, and demographic factors in columns\n",
    "**The CSV is expected to be in this format**\n",
    "- ID and absolute paths to niftis are critical\n",
    "```\n",
    "+-----+----------------------------+--------------+--------------+--------------+\n",
    "| ID  | Additional_Cov             | Covariate_1  | Covariate_2  | Covariate_3  |\n",
    "+-----+----------------------------+--------------+--------------+--------------+\n",
    "| 1   | /path/to/file1.nii.gz      | 0.5          | 1.2          | 3.4          |\n",
    "| 2   | /path/to/file2.nii.gz      | 0.7          | 1.4          | 3.1          |\n",
    "| 3   | /path/to/file3.nii.gz      | 0.6          | 1.5          | 3.5          |\n",
    "| 4   | /path/to/file4.nii.gz      | 0.9          | 1.1          | 3.2          |\n",
    "| ... | ...                        | ...          | ...          | ...          |\n",
    "+-----+----------------------------+--------------+--------------+--------------+\n",
    "```"
   ]
  },
  {
   "cell_type": "markdown",
   "metadata": {},
   "source": [
    "- If first time running this, uncomment and run the cell below\n",
    "- Then hit the 'restart' button in the notebook and run it. "
   ]
  },
  {
   "cell_type": "code",
   "execution_count": null,
   "metadata": {},
   "outputs": [],
   "source": [
    "# !pip install TableOne\n",
    "# !pip install pandas"
   ]
  },
  {
   "cell_type": "markdown",
   "metadata": {},
   "source": [
    "- Enter the paths to the excel/csv file containing your demographic data\n",
    "- if using an excel file, provide the name of the sheet the specific data is in, otherwise set to none\n",
    "\n",
    "- To use this, you need Python"
   ]
  },
  {
   "cell_type": "code",
   "execution_count": null,
   "metadata": {},
   "outputs": [],
   "source": [
    "file_path = '/Users/cu135/Library/CloudStorage/OneDrive-Personal/OneDrive_Documents/Work/KiTH_Solutions/Research/Clinical Trial/study_metadata/all_performances.xlsx'\n",
    "sheet = 'roca'"
   ]
  },
  {
   "cell_type": "markdown",
   "metadata": {},
   "source": [
    "Run"
   ]
  },
  {
   "cell_type": "code",
   "execution_count": null,
   "metadata": {},
   "outputs": [],
   "source": [
    "import pandas as pd\n",
    "df = pd.read_excel(file_path, sheet)\n",
    "df"
   ]
  },
  {
   "cell_type": "markdown",
   "metadata": {},
   "source": [
    "Use the information printed below to select the columns you would like to put in a demographics table"
   ]
  },
  {
   "cell_type": "code",
   "execution_count": null,
   "metadata": {},
   "outputs": [],
   "source": [
    "df.columns\n",
    "sorted_columns = sorted(df.columns)\n",
    "# Print the sorted column names\n",
    "print(sorted_columns)"
   ]
  },
  {
   "cell_type": "markdown",
   "metadata": {},
   "source": [
    "Enter the columns of interest.\n",
    "- For columns which have words in them, also add them to 'categorical_columns = []'"
   ]
  },
  {
   "cell_type": "code",
   "execution_count": null,
   "metadata": {},
   "outputs": [],
   "source": [
    "columns = ['Cube Actual', 'Cube Predicted', 'Infinity Actual', 'Infinity Predicted', 'Clock Actual', 'Clock Predicted']      \n",
    "categorical_columns = ['Cube Actual', 'Cube Predicted', 'Infinity Actual', 'Infinity Predicted', 'Clock Actual', 'Clock Predicted']"
   ]
  },
  {
   "cell_type": "markdown",
   "metadata": {},
   "source": [
    "- If you need to split a dataframe, say by treatment groups or arms, name the column to separate patients by using:\n",
    "    - groupby = ['grouping_column']\n",
    "- If you have a variable which is probably not normally distributed, name it here:\n",
    "    - nonnormal = ['ordinal_column']\n",
    "- If you want a column to be presented with a different name in the output table, you can write it here\n",
    "    - labels={'column_to_rename': 'New Label For Table'}"
   ]
  },
  {
   "cell_type": "code",
   "execution_count": null,
   "metadata": {},
   "outputs": [],
   "source": [
    "groupby = None\n",
    "nonnormal = None\n",
    "labels= None"
   ]
  },
  {
   "cell_type": "markdown",
   "metadata": {},
   "source": [
    "Run it and evaluate the output. Do not proceed until it looks right. "
   ]
  },
  {
   "cell_type": "code",
   "execution_count": null,
   "metadata": {},
   "outputs": [],
   "source": [
    "from tableone import TableOne, load_dataset\n",
    "mytable = TableOne(df, columns=columns, categorical=categorical_columns, groupby=groupby, nonnormal=nonnormal, rename=labels, pval=False if groupby is None else True)\n",
    "print(mytable.tabulate(tablefmt = \"fancy_grid\"))"
   ]
  },
  {
   "cell_type": "markdown",
   "metadata": {},
   "source": [
    "Where would you like to save to?"
   ]
  },
  {
   "cell_type": "code",
   "execution_count": null,
   "metadata": {},
   "outputs": [],
   "source": [
    "out_dir = '/Users/cu135/Library/CloudStorage/OneDrive-Personal/OneDrive_Documents/Research/2023/roca/figures/drawing_table'"
   ]
  },
  {
   "cell_type": "code",
   "execution_count": null,
   "metadata": {},
   "outputs": [],
   "source": [
    "import os\n",
    "os.makedirs(out_dir, exist_ok=True)\n",
    "mytable.to_excel(os.path.join(out_dir, 'table.xlsx'))\n",
    "mytable.to_html(os.path.join(out_dir, 'table.html'))"
   ]
  },
  {
   "cell_type": "markdown",
   "metadata": {},
   "source": [
    "Generate the Fancy Figure. Follow this installation\n",
    "\n",
    "**macOS**\n",
    "Install Homebrew (if not already installed):\n",
    "Open Terminal and run:\n",
    "- /bin/bash -c \"$(curl -fsSL https://raw.githubusercontent.com/Homebrew/install/HEAD/install.sh)\"\n",
    "- brew install --cask mactex\n",
    "- pdflatex --version\n",
    "\n",
    "\n",
    "**Windows**\n",
    "Download MiKTeX:\n",
    "- Go to the MiKTeX download page and download the installer.\n",
    "\n",
    "Run the Installer:\n",
    "- Follow the installer instructions to complete the installation.\n",
    "\n",
    "Verify Installation:\n",
    "Open Command Prompt and check the pdflatex version:\n",
    "- pdflatex --version"
   ]
  },
  {
   "cell_type": "code",
   "execution_count": null,
   "metadata": {},
   "outputs": [],
   "source": [
    "import os\n",
    "import subprocess\n",
    "def run_pdflatex(tex_file):\n",
    "    print('Converting latex to PDF using file:', tex_file)\n",
    "    process = subprocess.run(['pdflatex', tex_file], \n",
    "                             cwd = os.path.dirname(tex_file),\n",
    "                             stdout=subprocess.PIPE, stderr=subprocess.PIPE)\n",
    "    stdout, stderr = process.stdout, process.stderr\n",
    "    return stdout, stderr\n",
    "\n",
    "def run_pdfpng(tex_file):\n",
    "    base_file, _ = os.path.splitext(tex_file)\n",
    "    print('Converting PDF to PNG using file:', tex_file)\n",
    "    process = subprocess.run([\"convert\", \"-density\", \"300\", \n",
    "                              f'{base_file}.pdf', \n",
    "                              f'{base_file}.png'], \n",
    "                              stdout=subprocess.PIPE, stderr=subprocess.PIPE)\n",
    "    stdout, stderr = process.stdout, process.stderr\n",
    "    return stdout, stderr\n",
    "\n",
    "def run_latex(df, tex_file):\n",
    "    df.to_latex(tex_file)\n",
    "    with open(f'{tex_file}', \"r\") as f:\n",
    "        data = f.read()\n",
    "    data = (r\"\\documentclass{standalone}\" + '\\n' +\n",
    "            r\"\\usepackage{booktabs}\" + '\\n' +\n",
    "            r\"\\begin{document}\" + '\\n' +\n",
    "            data +\n",
    "            r\"\\end{document}\")\n",
    "    with open(f'{tex_file}', \"w\") as f:\n",
    "        f.write(data)\n",
    "\n",
    "def generate_latex_table(table, out_dir, manual=True):\n",
    "    output_name = os.path.join(out_dir, 'table.tex')\n",
    "    print(\"Generating file: \", output_name)\n",
    "    os.makedirs(out_dir, exist_ok=True)\n",
    "    if manual:\n",
    "        run_latex(table, output_name)\n",
    "    else:\n",
    "        table.to_latex(output_name)\n",
    "    \n",
    "    _,_ = run_pdflatex(output_name)\n",
    "    _,_ = run_pdfpng(output_name)\n",
    "    \n",
    "\n",
    "generate_latex_table(mytable, out_dir)"
   ]
  },
  {
   "cell_type": "markdown",
   "metadata": {},
   "source": [
    "Enjoy\n",
    "- Calvin "
   ]
  },
  {
   "cell_type": "markdown",
   "metadata": {},
   "source": []
  }
 ],
 "metadata": {
  "kernelspec": {
   "display_name": "nimlab_py310",
   "language": "python",
   "name": "python3"
  },
  "language_info": {
   "codemirror_mode": {
    "name": "ipython",
    "version": 3
   },
   "file_extension": ".py",
   "mimetype": "text/x-python",
   "name": "python",
   "nbconvert_exporter": "python",
   "pygments_lexer": "ipython3",
   "version": "3.10.8"
  }
 },
 "nbformat": 4,
 "nbformat_minor": 2
}
