{
 "cells": [
  {
   "cell_type": "markdown",
   "metadata": {},
   "source": [
    "# Perform Lesion Network Mapping 'Overlap' Experiment\n",
    "\n",
    "### Authors: Alexander Cohen, Christopher Lin\n",
    "\n",
    "Notes:\n",
    "- This notebook requires the NIMLAB Python 3 environment as a kernel. Directions at: (https://github.com/nimlab/software_env)\n",
    "- This notebook is a combination of the old Simple Analysis Notebook and the overlap_maps notebooks (does the same thing)."
   ]
  },
  {
   "cell_type": "code",
   "execution_count": null,
   "metadata": {},
   "outputs": [],
   "source": [
    "## Packages and environmental settings:\n",
    "\n",
    "##Packages:\n",
    "import os\n",
    "import numpy as np\n",
    "import pandas as pd\n",
    "from tqdm import tqdm\n",
    "from matplotlib import pyplot as plt\n",
    "from nilearn import image, plotting, regions\n",
    "from nimlab import datasets as nimds\n",
    "from nimlab import functions as nimf\n",
    "\n",
    "%matplotlib inline"
   ]
  },
  {
   "cell_type": "markdown",
   "metadata": {},
   "source": [
    "# Input/Output Setup"
   ]
  },
  {
   "cell_type": "markdown",
   "metadata": {},
   "source": [
    "### 1. Provide your email address for future reference:"
   ]
  },
  {
   "cell_type": "code",
   "execution_count": null,
   "metadata": {},
   "outputs": [],
   "source": [
    "# Enter your email address here in quotes:\n",
    "creator_email = \"alexander.cohen2@childrens.harvard.edu\""
   ]
  },
  {
   "cell_type": "markdown",
   "metadata": {},
   "source": [
    "### 2. Where are your data? and where do you want the results to go?\n",
    "NOTE: Provide a csv file created from the `Preprocessing` or `xnat_grabber` notebooks that points to your Lesions and fcMaps (will also work with older csv files from `xnat_gate`)."
   ]
  },
  {
   "cell_type": "code",
   "execution_count": null,
   "metadata": {},
   "outputs": [],
   "source": [
    "# Specify the path to your dataset.csv file\n",
    "\n",
    "dataset_csv = \"your_dataset_csv_file.csv\"\n",
    "output_dir = \"2_LNM_of_your_lesions_w_a_particular_connectome\"\n",
    "\n",
    "# EXAMPLE dataset_csv = \"Prosopagnosia_w_Yeo1000.csv\"\n",
    "# EXAMPLE output_dir = \"2_LNM_of_Prosopagnosia_w_Yeo1000\"\n",
    "\n",
    "if not os.path.exists(output_dir):\n",
    "    os.makedirs(output_dir)\n",
    "\n",
    "img_csv = pd.read_csv(dataset_csv)\n",
    "print(\"I found\", len(img_csv), \"participants:\")\n",
    "img_csv.head()"
   ]
  },
  {
   "cell_type": "markdown",
   "metadata": {},
   "source": [
    "# Before we look at the *lesion network* overlap, let's review the *lesion* overlap map"
   ]
  },
  {
   "cell_type": "code",
   "execution_count": null,
   "metadata": {},
   "outputs": [],
   "source": [
    "# Generate an \"N-image\" and a \"Coverage Map\", then show me:\n",
    "lesions = [image.load_img(entry, dtype=\"float32\") for entry in img_csv['roi_2mm']]\n",
    "lesion_overlap = image.math_img(\"img*\" + str(len(img_csv)), img=image.mean_img(lesions))\n",
    "lesion_mask = image.math_img(\"img>=1\", img=lesion_overlap)\n",
    "\n",
    "plotting.plot_stat_map(\n",
    "    lesion_overlap, display_mode=\"z\", cut_coords=range(-54,72,6), cmap=\"Spectral_r\", colorbar=True\n",
    ")\n",
    "plotting.plot_stat_map(\n",
    "    lesion_mask, display_mode=\"z\", cut_coords=range(-54,72,6), cmap=\"bwr\", colorbar=True\n",
    ")"
   ]
  },
  {
   "cell_type": "markdown",
   "metadata": {},
   "source": [
    "# Lesion Network Mapping"
   ]
  },
  {
   "cell_type": "markdown",
   "metadata": {},
   "source": [
    "### 1. Load the fcMap Tmaps and generate a plot relating T-thresholds to the maximum percentage of overlap\n",
    "#### Select a brain mask for visualization\n",
    "- Default brain mask is `MNI152_T1_2mm_brain_mask_dil`\n",
    "- A more strict brain mask option available is `MNI152_T1_2mm_brain_mask`\n",
    "- Additional options are listed in `nimfs.check_mask()` or you can specify a path to a binary mask of your choosing\n",
    "    \n",
    "NOTES:\n",
    "- This can be useful for selecting an appropriate threshold.\n",
    "- See [Cohen and Fox, 2020](https://doi.org/10.1093/brain/awaa095) for details.\n"
   ]
  },
  {
   "cell_type": "code",
   "execution_count": null,
   "metadata": {},
   "outputs": [],
   "source": [
    "# Specify the range of T score levels to test as (start, end+1, increment).\n",
    "\n",
    "t_levels = range(4,16,1)\n",
    "# EXAMPLE t_levels = range(4,16,1)\n",
    "\n",
    "# You can change this mask to a more restrictive one for visualization purposes\n",
    "# Can be a name of a mask in nimlab.datasets or a path to a binary mask nifti file.\n",
    "mask=\"MNI152_T1_2mm_brain_mask_dil\"\n",
    "\n",
    "\n",
    "t_maps = [image.load_img(entry) for entry in img_csv['t']]\n",
    "\n",
    "max_positives = []\n",
    "max_negatives = []\n",
    "for t in tqdm(t_levels):\n",
    "    pos_overlap, neg_overlap = nimf.get_pos_neg_overlap_maps(t_maps, t, mask = mask) \n",
    "    max_positives.append(pos_overlap.get_fdata().max())\n",
    "    max_negatives.append(neg_overlap.get_fdata().max())\n",
    "\n",
    "plt.plot(t_levels, max_positives, label='Positive')\n",
    "plt.plot(t_levels, max_negatives, label='Negative')\n",
    "plt.title(\"T-score levels vs. peak LNM overlap\")\n",
    "plt.xlabel(\"T-score threshold\")\n",
    "plt.ylabel(\"Max overlap\")\n",
    "plt.legend();"
   ]
  },
  {
   "cell_type": "markdown",
   "metadata": {},
   "source": [
    "### 2. At a specific threshold, show me the spatial overlap at various percentages\n",
    "\n",
    "NOTES:\n",
    "- We have typically considered a rough guideline of $\\geq$90-95% overlap to be important (100% is easiest to interpret of course)\n",
    "- Be mindful of how you think about thresholds for the overlap:\n",
    "  - Here, I have modified the code to show voxels **$\\geq$ instead of $\\gt$thresholds**, so if a voxel is present in exactly 75% of subjects, I am displaying it here.\n",
    "  - FSLeyes (and nilearn) default to show data $\\gt$threshold, so if you load the `LNM_fraction_xxx.nii.gz` and set the range to 0.75 to 1, you are viewing voxels **$\\gt$0.75, not $\\geq$0.75**.\n",
    "  - `direction` defaults to `\"twosided\"`, which considers both positive and negative connectivity when calculating overlaps. You can also set `direction` to `\"positive\"` or `\"negative\"` to consider only positive or negative connectivity when calculating overlaps, respectively.\n",
    "  - `mode` defaults to `\"fraction\"`, which plots the overlap maps as a fraction of the total number of subjects. You can also set `mode` to `\"count\"` to plot the overlap maps as a count of the number of subjects that overlap at any particular region. \n"
   ]
  },
  {
   "cell_type": "code",
   "execution_count": null,
   "metadata": {},
   "outputs": [],
   "source": [
    "# Specify a T-score threshold\n",
    "\n",
    "T_level = 9\n",
    "# EXAMPLE T_level = 9\n",
    "\n",
    "# Specify a range of overlap fractions to examine\n",
    "range_to_examine = np.linspace(0.75,1,6)\n",
    "\n",
    "nimf.plot_overlap_map_to_screen(\n",
    "    t_maps, T_level, range_to_examine, mask = mask,\n",
    "    direction = \"twosided\",\n",
    "    mode = \"fraction\"\n",
    ")"
   ]
  },
  {
   "cell_type": "markdown",
   "metadata": {},
   "source": [
    "### 3. Final required step: Write your overlap maps to files\n",
    "\n",
    "NOTE: I put this in a separate cell, so you can re-run the prior cell multiple times to view the differences. Once you've selected the T-score thresholds you want to use, specify them below to write the overlap maps to files\n",
    "- `direction` defaults to `\"twosided\"`, which considers both positive and negative connectivity when calculating overlaps. You can also set `direction` to `\"positive\"` or `\"negative\"` to consider only positive or negative connectivity when calculating overlaps, respectively."
   ]
  },
  {
   "cell_type": "code",
   "execution_count": null,
   "metadata": {},
   "outputs": [],
   "source": [
    "# Specify the specific T-score thresholds you want to print in the array here:\n",
    "for t in [5, 7, 9]:\n",
    "    print(\"Writing Files for a T>\",str(t))\n",
    "    nimf.write_overlap_map_to_file(\n",
    "        t_maps, t, output_dir, mask = mask,\n",
    "        direction = \"twosided\"\n",
    "    )"
   ]
  },
  {
   "cell_type": "markdown",
   "metadata": {},
   "source": [
    "### 4a. Optional: Generate Regions of Interest\n",
    "\n",
    "NOTES: \n",
    "- You probably found that a particular T-score threshold and fractional overlap that appears to most cleanly define some regions of interest\n",
    "- Put in those parameters here and then adjust the `minimum_region_size` parameter to isolate your ROIs.\n",
    "- Once you have a set of ROIs that you like, set `write_to_file` to `True` they will be written to files"
   ]
  },
  {
   "cell_type": "code",
   "execution_count": null,
   "metadata": {},
   "outputs": [],
   "source": [
    "# Copy your favorite parameters from above:\n",
    "T_level = 9\n",
    "fractional_overlap = 0.95\n",
    "\n",
    "# This is in mm^3, so each 2x2x2mm voxel is 8mm^3, anywhere from 100 to 250 seems good, if your regions are tiny, you will have to shrink this...\n",
    "minimum_region_size=250\n",
    "\n",
    "# Do you want to print out the regions as nifti files:\n",
    "write_to_file = True\n",
    "\n",
    "\n",
    "# Isolate the regions into separate ROIs:\n",
    "peak_regions, roi_index = nimf.define_ROIs_from_overlap(t_maps, T_level, fractional_overlap, minimum_region_size, mask = mask)\n",
    "\n",
    "for i in range(0,len(roi_index)):\n",
    "    plotting.plot_stat_map(image.index_img(peak_regions,i),\n",
    "                           colorbar=False,title=\"ROI #\" + str(i+1),cmap=\"bwr\")\n",
    "    \n",
    "if write_to_file:\n",
    "    for i in range(0,len(roi_index)):\n",
    "        filename = os.path.join(output_dir,\n",
    "                         \"LNM_ROI_#\" + str(i+1)\n",
    "                         + \"_at_T-\" + str(T_level)\n",
    "                         + \"_present_in_\" + str(fractional_overlap)\n",
    "                         + \"_of_\" + str(len(img_csv)) + \"_subjects.nii.gz\")\n",
    "        print(\"Writing\",filename)\n",
    "        image.math_img(\"img!=0\",img=image.index_img(peak_regions,i)).to_filename(filename)"
   ]
  }
 ],
 "metadata": {
  "kernelspec": {
   "display_name": "Py3.10 Nimlab",
   "language": "python",
   "name": "nimlab"
  },
  "language_info": {
   "codemirror_mode": {
    "name": "ipython",
    "version": 3
   },
   "file_extension": ".py",
   "mimetype": "text/x-python",
   "name": "python",
   "nbconvert_exporter": "python",
   "pygments_lexer": "ipython3",
   "version": "3.10.8"
  }
 },
 "nbformat": 4,
 "nbformat_minor": 4
}
