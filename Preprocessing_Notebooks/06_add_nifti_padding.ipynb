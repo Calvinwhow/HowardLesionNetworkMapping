{
 "cells": [
  {
   "cell_type": "code",
   "execution_count": 5,
   "metadata": {},
   "outputs": [
    {
     "name": "stdout",
     "output_type": "stream",
     "text": [
      "Padding added successfully!\n"
     ]
    }
   ],
   "source": [
    "import nibabel as nib\n",
    "import numpy as np\n",
    "\n",
    "# Load the NIfTI file\n",
    "nii = nib.load('/Users/cu135/hires_backdrops/fornix_rois/Fornix.nii.gz')\n",
    "\n",
    "# Get the image data and dimensions\n",
    "image_data = nii.get_fdata()\n",
    "rows, cols, slices = image_data.shape\n",
    "\n",
    "# Define the amount of padding\n",
    "padding_size = 20  # Adjust as needed\n",
    "\n",
    "# Create a new larger image with empty space\n",
    "padded_image = np.zeros((rows + 2 * padding_size, cols + 2 * padding_size, slices + 2 * padding_size), dtype=image_data.dtype)\n",
    "\n",
    "# Copy the original image into the center of the new image\n",
    "padded_image[padding_size:padding_size + rows, padding_size:padding_size + cols, padding_size:padding_size + slices] = image_data\n",
    "\n",
    "# Save the padded image to a new NIfTI file\n",
    "padded_nii = nib.Nifti1Image(padded_image, affine=nii.affine)\n",
    "nib.save(padded_nii, '/Users/cu135/hires_backdrops/fornix_rois/fornix_padded.nii.gz')\n",
    "\n",
    "print(\"Padding added successfully!\")\n",
    "\n"
   ]
  },
  {
   "cell_type": "code",
   "execution_count": null,
   "metadata": {},
   "outputs": [],
   "source": []
  },
  {
   "cell_type": "code",
   "execution_count": null,
   "metadata": {},
   "outputs": [],
   "source": []
  }
 ],
 "metadata": {
  "kernelspec": {
   "display_name": "nimlab_py310",
   "language": "python",
   "name": "python3"
  },
  "language_info": {
   "codemirror_mode": {
    "name": "ipython",
    "version": 3
   },
   "file_extension": ".py",
   "mimetype": "text/x-python",
   "name": "python",
   "nbconvert_exporter": "python",
   "pygments_lexer": "ipython3",
   "version": "3.10.8"
  }
 },
 "nbformat": 4,
 "nbformat_minor": 2
}
