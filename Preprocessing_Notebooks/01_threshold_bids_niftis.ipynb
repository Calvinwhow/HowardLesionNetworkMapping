{
 "cells": [
  {
   "cell_type": "markdown",
   "metadata": {},
   "source": [
    "- root_dir: the base of the BIDS directory.\n",
    "- file_pattern: the wildcarded matching pattern for the base file. \n",
    "- output_file_name: the name of your output file. "
   ]
  },
  {
   "cell_type": "code",
   "execution_count": 1,
   "metadata": {},
   "outputs": [],
   "source": [
    "root_dir = r\"/Volumes/One Touch/BWH_PD_DBS_MixedTarget/vtas\"\n",
    "file_pattern = r\"stimulation/*nii_generated_nifti.nii\"\n",
    "output_file_name = r\"_sim-binary_model-simbio_hemi-bl_preprocessed\""
   ]
  },
  {
   "cell_type": "code",
   "execution_count": 2,
   "metadata": {},
   "outputs": [],
   "source": [
    "import os \n",
    "import subprocess\n",
    "import numpy as np\n",
    "from tqdm import tqdm\n",
    "from glob import glob\n",
    "from calvin_utils.nifti_utils.generate_nifti import nifti_from_matrix\n",
    "from calvin_utils.file_utils.import_functions import GiiNiiFileImport\n",
    "\n",
    "def threshold_niftis_in_bids(root_dir=root_dir, file_pattern=file_pattern, output_file_name=output_file_name, threshold=0.05):\n",
    "    '''\n",
    "    Function to iterate over each subject in a BIDS directory, import them, threshold, and save the thresholded nifti file. \n",
    "    \n",
    "    Will by default threshold everything to a value over 0.2 and binarize. \n",
    "    '''\n",
    "\n",
    "    for sub_dir in tqdm(os.listdir(root_dir)):\n",
    "        sub_dir_path = os.path.join(root_dir, sub_dir)\n",
    "        if not os.path.isdir(sub_dir_path):\n",
    "            continue\n",
    "        \n",
    "        # recursively glob all intermediate directories to the file pattern target.\n",
    "        files1 = glob(root_dir+\"/\"+sub_dir+\"**/\"+file_pattern)\n",
    "\n",
    "        # If identified, begin processing\n",
    "        if files1:\n",
    "            # Extract identified files\n",
    "            file1 = files1[0]\n",
    "            try:\n",
    "                # Import the nifti and manipulate it\n",
    "                importer = GiiNiiFileImport(os.path.dirname(file1), file_pattern=os.path.basename(file1))\n",
    "                imports = importer.run()\n",
    "                imports[\"thresholded\"] = np.where(imports.iloc[:,0]>threshold, 1, 0)\n",
    "                \n",
    "                # Prepare Output File\n",
    "                output_dir = os.path.dirname(file1)\n",
    "                output_file_with_subject = os.path.basename(sub_dir_path)+\"_\"+output_file_name\n",
    "                nifti_from_matrix(matrix=imports[\"thresholded\"].to_numpy(), output_file=output_dir, output_name=output_file_with_subject, reference=\"MNI\")\n",
    "                \n",
    "                print(f\"\\n ***Processed: {sub_dir_path}\")\n",
    "                \n",
    "            except subprocess.CalledProcessError as e:\n",
    "                print(f\"Error processing {sub_dir_path}: {e}\")\n",
    "        else:\n",
    "            print(f\"Missing file(s) in {sub_dir_path}\")"
   ]
  },
  {
   "cell_type": "code",
   "execution_count": 3,
   "metadata": {},
   "outputs": [
    {
     "name": "stderr",
     "output_type": "stream",
     "text": [
      "  0%|          | 0/134 [00:00<?, ?it/s]"
     ]
    },
    {
     "name": "stdout",
     "output_type": "stream",
     "text": [
      "Attempting to import from: /Volumes/One Touch/BWH_PD_DBS_MixedTarget/vtas/sub-0037/stimulation/sub-0037_sim-efield_model-simbio_hemi-bl.nii_generated_nifti.nii\n"
     ]
    },
    {
     "name": "stderr",
     "output_type": "stream",
     "text": [
      "  1%|          | 1/134 [00:02<06:09,  2.78s/it]"
     ]
    },
    {
     "name": "stdout",
     "output_type": "stream",
     "text": [
      "Image saved to: \n",
      " /Volumes/One Touch/BWH_PD_DBS_MixedTarget/vtas/sub-0037/stimulation\n",
      "\n",
      " ***Processed: /Volumes/One Touch/BWH_PD_DBS_MixedTarget/vtas/sub-0037\n",
      "Attempting to import from: /Volumes/One Touch/BWH_PD_DBS_MixedTarget/vtas/sub-0039/stimulation/sub-0039_sim-efield_model-simbio_hemi-bl.nii_generated_nifti.nii\n"
     ]
    },
    {
     "name": "stderr",
     "output_type": "stream",
     "text": [
      "  1%|▏         | 2/134 [00:05<05:44,  2.61s/it]"
     ]
    },
    {
     "name": "stdout",
     "output_type": "stream",
     "text": [
      "Image saved to: \n",
      " /Volumes/One Touch/BWH_PD_DBS_MixedTarget/vtas/sub-0039/stimulation\n",
      "\n",
      " ***Processed: /Volumes/One Touch/BWH_PD_DBS_MixedTarget/vtas/sub-0039\n",
      "Attempting to import from: /Volumes/One Touch/BWH_PD_DBS_MixedTarget/vtas/sub-0040/stimulation/sub-0040_sim-efield_model-simbio_hemi-bl.nii_generated_nifti.nii\n"
     ]
    },
    {
     "name": "stderr",
     "output_type": "stream",
     "text": [
      "  2%|▏         | 3/134 [00:06<03:55,  1.80s/it]"
     ]
    },
    {
     "name": "stdout",
     "output_type": "stream",
     "text": [
      "Image saved to: \n",
      " /Volumes/One Touch/BWH_PD_DBS_MixedTarget/vtas/sub-0040/stimulation\n",
      "\n",
      " ***Processed: /Volumes/One Touch/BWH_PD_DBS_MixedTarget/vtas/sub-0040\n",
      "Attempting to import from: /Volumes/One Touch/BWH_PD_DBS_MixedTarget/vtas/sub-0041/stimulation/sub-0041_sim-efield_model-simbio_hemi-bl.nii_generated_nifti.nii\n"
     ]
    },
    {
     "name": "stderr",
     "output_type": "stream",
     "text": [
      "  3%|▎         | 4/134 [00:07<03:11,  1.47s/it]"
     ]
    },
    {
     "name": "stdout",
     "output_type": "stream",
     "text": [
      "Image saved to: \n",
      " /Volumes/One Touch/BWH_PD_DBS_MixedTarget/vtas/sub-0041/stimulation\n",
      "\n",
      " ***Processed: /Volumes/One Touch/BWH_PD_DBS_MixedTarget/vtas/sub-0041\n",
      "Attempting to import from: /Volumes/One Touch/BWH_PD_DBS_MixedTarget/vtas/sub-0043/stimulation/sub-0043_sim-efield_model-simbio_hemi-bl.nii_generated_nifti.nii\n"
     ]
    },
    {
     "name": "stderr",
     "output_type": "stream",
     "text": [
      "  4%|▎         | 5/134 [00:09<03:54,  1.82s/it]"
     ]
    },
    {
     "name": "stdout",
     "output_type": "stream",
     "text": [
      "Image saved to: \n",
      " /Volumes/One Touch/BWH_PD_DBS_MixedTarget/vtas/sub-0043/stimulation\n",
      "\n",
      " ***Processed: /Volumes/One Touch/BWH_PD_DBS_MixedTarget/vtas/sub-0043\n",
      "Attempting to import from: /Volumes/One Touch/BWH_PD_DBS_MixedTarget/vtas/sub-0044/stimulation/sub-0044_sim-efield_model-simbio_hemi-bl.nii_generated_nifti.nii\n"
     ]
    },
    {
     "name": "stderr",
     "output_type": "stream",
     "text": [
      "  4%|▍         | 6/134 [00:10<03:08,  1.47s/it]"
     ]
    },
    {
     "name": "stdout",
     "output_type": "stream",
     "text": [
      "Image saved to: \n",
      " /Volumes/One Touch/BWH_PD_DBS_MixedTarget/vtas/sub-0044/stimulation\n",
      "\n",
      " ***Processed: /Volumes/One Touch/BWH_PD_DBS_MixedTarget/vtas/sub-0044\n",
      "Attempting to import from: /Volumes/One Touch/BWH_PD_DBS_MixedTarget/vtas/sub-0045/stimulation/sub-0045_sim-efield_model-simbio_hemi-bl.nii_generated_nifti.nii\n"
     ]
    },
    {
     "name": "stderr",
     "output_type": "stream",
     "text": [
      "  5%|▌         | 7/134 [00:13<04:32,  2.15s/it]"
     ]
    },
    {
     "name": "stdout",
     "output_type": "stream",
     "text": [
      "Image saved to: \n",
      " /Volumes/One Touch/BWH_PD_DBS_MixedTarget/vtas/sub-0045/stimulation\n",
      "\n",
      " ***Processed: /Volumes/One Touch/BWH_PD_DBS_MixedTarget/vtas/sub-0045\n",
      "Attempting to import from: /Volumes/One Touch/BWH_PD_DBS_MixedTarget/vtas/sub-0046/stimulation/sub-0046_sim-efield_model-simbio_hemi-bl.nii_generated_nifti.nii\n"
     ]
    },
    {
     "name": "stderr",
     "output_type": "stream",
     "text": [
      "  6%|▌         | 8/134 [00:19<06:56,  3.31s/it]"
     ]
    },
    {
     "name": "stdout",
     "output_type": "stream",
     "text": [
      "Image saved to: \n",
      " /Volumes/One Touch/BWH_PD_DBS_MixedTarget/vtas/sub-0046/stimulation\n",
      "\n",
      " ***Processed: /Volumes/One Touch/BWH_PD_DBS_MixedTarget/vtas/sub-0046\n",
      "Attempting to import from: /Volumes/One Touch/BWH_PD_DBS_MixedTarget/vtas/sub-0047/stimulation/sub-0047_sim-efield_model-simbio_hemi-bl.nii_generated_nifti.nii\n"
     ]
    },
    {
     "name": "stderr",
     "output_type": "stream",
     "text": [
      "  7%|▋         | 9/134 [00:24<07:38,  3.67s/it]"
     ]
    },
    {
     "name": "stdout",
     "output_type": "stream",
     "text": [
      "Image saved to: \n",
      " /Volumes/One Touch/BWH_PD_DBS_MixedTarget/vtas/sub-0047/stimulation\n",
      "\n",
      " ***Processed: /Volumes/One Touch/BWH_PD_DBS_MixedTarget/vtas/sub-0047\n",
      "Attempting to import from: /Volumes/One Touch/BWH_PD_DBS_MixedTarget/vtas/sub-0048/stimulation/sub-0048_sim-efield_model-simbio_hemi-bl.nii_generated_nifti.nii\n"
     ]
    },
    {
     "name": "stderr",
     "output_type": "stream",
     "text": [
      "  7%|▋         | 10/134 [00:27<07:16,  3.52s/it]"
     ]
    },
    {
     "name": "stdout",
     "output_type": "stream",
     "text": [
      "Image saved to: \n",
      " /Volumes/One Touch/BWH_PD_DBS_MixedTarget/vtas/sub-0048/stimulation\n",
      "\n",
      " ***Processed: /Volumes/One Touch/BWH_PD_DBS_MixedTarget/vtas/sub-0048\n",
      "Attempting to import from: /Volumes/One Touch/BWH_PD_DBS_MixedTarget/vtas/sub-0049/stimulation/sub-0049_sim-efield_model-simbio_hemi-bl.nii_generated_nifti.nii\n"
     ]
    },
    {
     "name": "stderr",
     "output_type": "stream",
     "text": [
      "  8%|▊         | 11/134 [00:28<05:31,  2.69s/it]"
     ]
    },
    {
     "name": "stdout",
     "output_type": "stream",
     "text": [
      "Image saved to: \n",
      " /Volumes/One Touch/BWH_PD_DBS_MixedTarget/vtas/sub-0049/stimulation\n",
      "\n",
      " ***Processed: /Volumes/One Touch/BWH_PD_DBS_MixedTarget/vtas/sub-0049\n",
      "Attempting to import from: /Volumes/One Touch/BWH_PD_DBS_MixedTarget/vtas/sub-0051/stimulation/sub-0051_sim-efield_model-simbio_hemi-bl.nii_generated_nifti.nii\n"
     ]
    },
    {
     "name": "stderr",
     "output_type": "stream",
     "text": [
      "  9%|▉         | 12/134 [00:30<05:01,  2.47s/it]"
     ]
    },
    {
     "name": "stdout",
     "output_type": "stream",
     "text": [
      "Image saved to: \n",
      " /Volumes/One Touch/BWH_PD_DBS_MixedTarget/vtas/sub-0051/stimulation\n",
      "\n",
      " ***Processed: /Volumes/One Touch/BWH_PD_DBS_MixedTarget/vtas/sub-0051\n",
      "Attempting to import from: /Volumes/One Touch/BWH_PD_DBS_MixedTarget/vtas/sub-0052/stimulation/sub-0052_sim-efield_model-simbio_hemi-bl.nii_generated_nifti.nii\n"
     ]
    },
    {
     "name": "stderr",
     "output_type": "stream",
     "text": [
      " 10%|▉         | 13/134 [00:32<04:59,  2.47s/it]"
     ]
    },
    {
     "name": "stdout",
     "output_type": "stream",
     "text": [
      "Image saved to: \n",
      " /Volumes/One Touch/BWH_PD_DBS_MixedTarget/vtas/sub-0052/stimulation\n",
      "\n",
      " ***Processed: /Volumes/One Touch/BWH_PD_DBS_MixedTarget/vtas/sub-0052\n",
      "Attempting to import from: /Volumes/One Touch/BWH_PD_DBS_MixedTarget/vtas/sub-0053/stimulation/sub-0053_sim-efield_model-simbio_hemi-bl.nii_generated_nifti.nii\n"
     ]
    },
    {
     "name": "stderr",
     "output_type": "stream",
     "text": [
      " 10%|█         | 14/134 [00:36<05:37,  2.81s/it]"
     ]
    },
    {
     "name": "stdout",
     "output_type": "stream",
     "text": [
      "Image saved to: \n",
      " /Volumes/One Touch/BWH_PD_DBS_MixedTarget/vtas/sub-0053/stimulation\n",
      "\n",
      " ***Processed: /Volumes/One Touch/BWH_PD_DBS_MixedTarget/vtas/sub-0053\n",
      "Attempting to import from: /Volumes/One Touch/BWH_PD_DBS_MixedTarget/vtas/sub-0054/stimulation/sub-0054_sim-efield_model-simbio_hemi-bl.nii_generated_nifti.nii\n"
     ]
    },
    {
     "name": "stderr",
     "output_type": "stream",
     "text": [
      " 11%|█         | 15/134 [00:40<06:33,  3.31s/it]"
     ]
    },
    {
     "name": "stdout",
     "output_type": "stream",
     "text": [
      "Image saved to: \n",
      " /Volumes/One Touch/BWH_PD_DBS_MixedTarget/vtas/sub-0054/stimulation\n",
      "\n",
      " ***Processed: /Volumes/One Touch/BWH_PD_DBS_MixedTarget/vtas/sub-0054\n",
      "Attempting to import from: /Volumes/One Touch/BWH_PD_DBS_MixedTarget/vtas/sub-0055/stimulation/sub-0055_sim-efield_model-simbio_hemi-bl.nii_generated_nifti.nii\n"
     ]
    },
    {
     "name": "stderr",
     "output_type": "stream",
     "text": [
      " 12%|█▏        | 16/134 [00:46<07:49,  3.98s/it]"
     ]
    },
    {
     "name": "stdout",
     "output_type": "stream",
     "text": [
      "Image saved to: \n",
      " /Volumes/One Touch/BWH_PD_DBS_MixedTarget/vtas/sub-0055/stimulation\n",
      "\n",
      " ***Processed: /Volumes/One Touch/BWH_PD_DBS_MixedTarget/vtas/sub-0055\n",
      "Attempting to import from: /Volumes/One Touch/BWH_PD_DBS_MixedTarget/vtas/sub-0056/stimulation/sub-0056_sim-efield_model-simbio_hemi-bl.nii_generated_nifti.nii\n"
     ]
    },
    {
     "name": "stderr",
     "output_type": "stream",
     "text": [
      " 13%|█▎        | 17/134 [00:50<07:45,  3.98s/it]"
     ]
    },
    {
     "name": "stdout",
     "output_type": "stream",
     "text": [
      "Image saved to: \n",
      " /Volumes/One Touch/BWH_PD_DBS_MixedTarget/vtas/sub-0056/stimulation\n",
      "\n",
      " ***Processed: /Volumes/One Touch/BWH_PD_DBS_MixedTarget/vtas/sub-0056\n",
      "Attempting to import from: /Volumes/One Touch/BWH_PD_DBS_MixedTarget/vtas/sub-0057/stimulation/sub-0057_sim-efield_model-simbio_hemi-bl.nii_generated_nifti.nii\n"
     ]
    },
    {
     "name": "stderr",
     "output_type": "stream",
     "text": [
      " 13%|█▎        | 18/134 [00:54<08:04,  4.17s/it]"
     ]
    },
    {
     "name": "stdout",
     "output_type": "stream",
     "text": [
      "Image saved to: \n",
      " /Volumes/One Touch/BWH_PD_DBS_MixedTarget/vtas/sub-0057/stimulation\n",
      "\n",
      " ***Processed: /Volumes/One Touch/BWH_PD_DBS_MixedTarget/vtas/sub-0057\n",
      "Attempting to import from: /Volumes/One Touch/BWH_PD_DBS_MixedTarget/vtas/sub-0058/stimulation/sub-0058_sim-efield_model-simbio_hemi-bl.nii_generated_nifti.nii\n"
     ]
    },
    {
     "name": "stderr",
     "output_type": "stream",
     "text": [
      " 14%|█▍        | 19/134 [00:59<08:07,  4.24s/it]"
     ]
    },
    {
     "name": "stdout",
     "output_type": "stream",
     "text": [
      "Image saved to: \n",
      " /Volumes/One Touch/BWH_PD_DBS_MixedTarget/vtas/sub-0058/stimulation\n",
      "\n",
      " ***Processed: /Volumes/One Touch/BWH_PD_DBS_MixedTarget/vtas/sub-0058\n",
      "Attempting to import from: /Volumes/One Touch/BWH_PD_DBS_MixedTarget/vtas/sub-0059/stimulation/sub-0059_sim-efield_model-simbio_hemi-bl.nii_generated_nifti.nii\n"
     ]
    },
    {
     "name": "stderr",
     "output_type": "stream",
     "text": [
      " 15%|█▍        | 20/134 [01:01<07:03,  3.72s/it]"
     ]
    },
    {
     "name": "stdout",
     "output_type": "stream",
     "text": [
      "Image saved to: \n",
      " /Volumes/One Touch/BWH_PD_DBS_MixedTarget/vtas/sub-0059/stimulation\n",
      "\n",
      " ***Processed: /Volumes/One Touch/BWH_PD_DBS_MixedTarget/vtas/sub-0059\n",
      "Attempting to import from: /Volumes/One Touch/BWH_PD_DBS_MixedTarget/vtas/sub-0060/stimulation/sub-0060_sim-efield_model-simbio_hemi-bl.nii_generated_nifti.nii\n"
     ]
    },
    {
     "name": "stderr",
     "output_type": "stream",
     "text": [
      " 16%|█▌        | 21/134 [01:03<05:41,  3.02s/it]"
     ]
    },
    {
     "name": "stdout",
     "output_type": "stream",
     "text": [
      "Image saved to: \n",
      " /Volumes/One Touch/BWH_PD_DBS_MixedTarget/vtas/sub-0060/stimulation\n",
      "\n",
      " ***Processed: /Volumes/One Touch/BWH_PD_DBS_MixedTarget/vtas/sub-0060\n",
      "Attempting to import from: /Volumes/One Touch/BWH_PD_DBS_MixedTarget/vtas/sub-0061/stimulation/sub-0061_sim-efield_model-simbio_hemi-bl.nii_generated_nifti.nii\n"
     ]
    },
    {
     "name": "stderr",
     "output_type": "stream",
     "text": [
      " 16%|█▋        | 22/134 [01:04<04:52,  2.61s/it]"
     ]
    },
    {
     "name": "stdout",
     "output_type": "stream",
     "text": [
      "Image saved to: \n",
      " /Volumes/One Touch/BWH_PD_DBS_MixedTarget/vtas/sub-0061/stimulation\n",
      "\n",
      " ***Processed: /Volumes/One Touch/BWH_PD_DBS_MixedTarget/vtas/sub-0061\n",
      "Attempting to import from: /Volumes/One Touch/BWH_PD_DBS_MixedTarget/vtas/sub-0062/stimulation/sub-0062_sim-efield_model-simbio_hemi-bl.nii_generated_nifti.nii\n"
     ]
    },
    {
     "name": "stderr",
     "output_type": "stream",
     "text": [
      " 17%|█▋        | 23/134 [01:07<04:45,  2.58s/it]"
     ]
    },
    {
     "name": "stdout",
     "output_type": "stream",
     "text": [
      "Image saved to: \n",
      " /Volumes/One Touch/BWH_PD_DBS_MixedTarget/vtas/sub-0062/stimulation\n",
      "\n",
      " ***Processed: /Volumes/One Touch/BWH_PD_DBS_MixedTarget/vtas/sub-0062\n",
      "Attempting to import from: /Volumes/One Touch/BWH_PD_DBS_MixedTarget/vtas/sub-0064/stimulation/sub-0064_sim-efield_model-simbio_hemi-bl.nii_generated_nifti.nii\n"
     ]
    },
    {
     "name": "stderr",
     "output_type": "stream",
     "text": [
      " 18%|█▊        | 24/134 [01:09<04:20,  2.37s/it]"
     ]
    },
    {
     "name": "stdout",
     "output_type": "stream",
     "text": [
      "Image saved to: \n",
      " /Volumes/One Touch/BWH_PD_DBS_MixedTarget/vtas/sub-0064/stimulation\n",
      "\n",
      " ***Processed: /Volumes/One Touch/BWH_PD_DBS_MixedTarget/vtas/sub-0064\n",
      "Attempting to import from: /Volumes/One Touch/BWH_PD_DBS_MixedTarget/vtas/sub-0066/stimulation/sub-0066_sim-efield_model-simbio_hemi-bl.nii_generated_nifti.nii\n"
     ]
    },
    {
     "name": "stderr",
     "output_type": "stream",
     "text": [
      " 19%|█▊        | 25/134 [01:11<04:09,  2.29s/it]"
     ]
    },
    {
     "name": "stdout",
     "output_type": "stream",
     "text": [
      "Image saved to: \n",
      " /Volumes/One Touch/BWH_PD_DBS_MixedTarget/vtas/sub-0066/stimulation\n",
      "\n",
      " ***Processed: /Volumes/One Touch/BWH_PD_DBS_MixedTarget/vtas/sub-0066\n",
      "Attempting to import from: /Volumes/One Touch/BWH_PD_DBS_MixedTarget/vtas/sub-0067/stimulation/sub-0067_sim-efield_model-simbio_hemi-bl.nii_generated_nifti.nii\n"
     ]
    },
    {
     "name": "stderr",
     "output_type": "stream",
     "text": [
      " 19%|█▉        | 26/134 [01:12<03:45,  2.09s/it]"
     ]
    },
    {
     "name": "stdout",
     "output_type": "stream",
     "text": [
      "Image saved to: \n",
      " /Volumes/One Touch/BWH_PD_DBS_MixedTarget/vtas/sub-0067/stimulation\n",
      "\n",
      " ***Processed: /Volumes/One Touch/BWH_PD_DBS_MixedTarget/vtas/sub-0067\n",
      "Missing file(s) in /Volumes/One Touch/BWH_PD_DBS_MixedTarget/vtas/sub-0068\n",
      "Attempting to import from: /Volumes/One Touch/BWH_PD_DBS_MixedTarget/vtas/sub-0071/stimulation/sub-0071_sim-efield_model-simbio_hemi-bl.nii_generated_nifti.nii\n"
     ]
    },
    {
     "name": "stderr",
     "output_type": "stream",
     "text": [
      " 21%|██        | 28/134 [01:16<03:23,  1.92s/it]"
     ]
    },
    {
     "name": "stdout",
     "output_type": "stream",
     "text": [
      "Image saved to: \n",
      " /Volumes/One Touch/BWH_PD_DBS_MixedTarget/vtas/sub-0071/stimulation\n",
      "\n",
      " ***Processed: /Volumes/One Touch/BWH_PD_DBS_MixedTarget/vtas/sub-0071\n",
      "Attempting to import from: /Volumes/One Touch/BWH_PD_DBS_MixedTarget/vtas/sub-0072/stimulation/sub-0072_sim-efield_model-simbio_hemi-bl.nii_generated_nifti.nii\n"
     ]
    },
    {
     "name": "stderr",
     "output_type": "stream",
     "text": [
      " 22%|██▏       | 29/134 [01:22<05:04,  2.90s/it]"
     ]
    },
    {
     "name": "stdout",
     "output_type": "stream",
     "text": [
      "Image saved to: \n",
      " /Volumes/One Touch/BWH_PD_DBS_MixedTarget/vtas/sub-0072/stimulation\n",
      "\n",
      " ***Processed: /Volumes/One Touch/BWH_PD_DBS_MixedTarget/vtas/sub-0072\n",
      "Attempting to import from: /Volumes/One Touch/BWH_PD_DBS_MixedTarget/vtas/sub-0073/stimulation/sub-0073_sim-efield_model-simbio_hemi-bl.nii_generated_nifti.nii\n"
     ]
    },
    {
     "name": "stderr",
     "output_type": "stream",
     "text": [
      " 22%|██▏       | 30/134 [01:26<05:51,  3.38s/it]"
     ]
    },
    {
     "name": "stdout",
     "output_type": "stream",
     "text": [
      "Image saved to: \n",
      " /Volumes/One Touch/BWH_PD_DBS_MixedTarget/vtas/sub-0073/stimulation\n",
      "\n",
      " ***Processed: /Volumes/One Touch/BWH_PD_DBS_MixedTarget/vtas/sub-0073\n",
      "Attempting to import from: /Volumes/One Touch/BWH_PD_DBS_MixedTarget/vtas/sub-0074/stimulation/sub-0074_sim-efield_model-simbio_hemi-bl.nii_generated_nifti.nii\n"
     ]
    },
    {
     "name": "stderr",
     "output_type": "stream",
     "text": [
      " 23%|██▎       | 31/134 [01:31<06:22,  3.72s/it]"
     ]
    },
    {
     "name": "stdout",
     "output_type": "stream",
     "text": [
      "Image saved to: \n",
      " /Volumes/One Touch/BWH_PD_DBS_MixedTarget/vtas/sub-0074/stimulation\n",
      "\n",
      " ***Processed: /Volumes/One Touch/BWH_PD_DBS_MixedTarget/vtas/sub-0074\n",
      "Attempting to import from: /Volumes/One Touch/BWH_PD_DBS_MixedTarget/vtas/sub-0075/stimulation/sub-0075_sim-efield_model-simbio_hemi-bl.nii_generated_nifti.nii\n"
     ]
    },
    {
     "name": "stderr",
     "output_type": "stream",
     "text": [
      " 24%|██▍       | 32/134 [01:35<06:29,  3.82s/it]"
     ]
    },
    {
     "name": "stdout",
     "output_type": "stream",
     "text": [
      "Image saved to: \n",
      " /Volumes/One Touch/BWH_PD_DBS_MixedTarget/vtas/sub-0075/stimulation\n",
      "\n",
      " ***Processed: /Volumes/One Touch/BWH_PD_DBS_MixedTarget/vtas/sub-0075\n",
      "Attempting to import from: /Volumes/One Touch/BWH_PD_DBS_MixedTarget/vtas/sub-0076/stimulation/sub-0076_sim-efield_model-simbio_hemi-bl.nii_generated_nifti.nii\n"
     ]
    },
    {
     "name": "stderr",
     "output_type": "stream",
     "text": [
      " 25%|██▍       | 33/134 [01:40<06:45,  4.02s/it]"
     ]
    },
    {
     "name": "stdout",
     "output_type": "stream",
     "text": [
      "Image saved to: \n",
      " /Volumes/One Touch/BWH_PD_DBS_MixedTarget/vtas/sub-0076/stimulation\n",
      "\n",
      " ***Processed: /Volumes/One Touch/BWH_PD_DBS_MixedTarget/vtas/sub-0076\n",
      "Attempting to import from: /Volumes/One Touch/BWH_PD_DBS_MixedTarget/vtas/sub-0077/stimulation/sub-0077_sim-efield_model-simbio_hemi-bl.nii_generated_nifti.nii\n"
     ]
    },
    {
     "name": "stderr",
     "output_type": "stream",
     "text": [
      " 25%|██▌       | 34/134 [01:45<07:22,  4.42s/it]"
     ]
    },
    {
     "name": "stdout",
     "output_type": "stream",
     "text": [
      "Image saved to: \n",
      " /Volumes/One Touch/BWH_PD_DBS_MixedTarget/vtas/sub-0077/stimulation\n",
      "\n",
      " ***Processed: /Volumes/One Touch/BWH_PD_DBS_MixedTarget/vtas/sub-0077\n",
      "Attempting to import from: /Volumes/One Touch/BWH_PD_DBS_MixedTarget/vtas/sub-0078/stimulation/sub-0078_sim-efield_model-simbio_hemi-bl.nii_generated_nifti.nii\n"
     ]
    },
    {
     "name": "stderr",
     "output_type": "stream",
     "text": [
      " 26%|██▌       | 35/134 [01:49<07:03,  4.28s/it]"
     ]
    },
    {
     "name": "stdout",
     "output_type": "stream",
     "text": [
      "Image saved to: \n",
      " /Volumes/One Touch/BWH_PD_DBS_MixedTarget/vtas/sub-0078/stimulation\n",
      "\n",
      " ***Processed: /Volumes/One Touch/BWH_PD_DBS_MixedTarget/vtas/sub-0078\n",
      "Attempting to import from: /Volumes/One Touch/BWH_PD_DBS_MixedTarget/vtas/sub-0079/stimulation/sub-0079_sim-efield_model-simbio_hemi-bl.nii_generated_nifti.nii\n"
     ]
    },
    {
     "name": "stderr",
     "output_type": "stream",
     "text": [
      " 27%|██▋       | 36/134 [01:54<07:11,  4.40s/it]"
     ]
    },
    {
     "name": "stdout",
     "output_type": "stream",
     "text": [
      "Image saved to: \n",
      " /Volumes/One Touch/BWH_PD_DBS_MixedTarget/vtas/sub-0079/stimulation\n",
      "\n",
      " ***Processed: /Volumes/One Touch/BWH_PD_DBS_MixedTarget/vtas/sub-0079\n",
      "Attempting to import from: /Volumes/One Touch/BWH_PD_DBS_MixedTarget/vtas/sub-0080/stimulation/sub-0080_sim-efield_model-simbio_hemi-bl.nii_generated_nifti.nii\n"
     ]
    },
    {
     "name": "stderr",
     "output_type": "stream",
     "text": [
      " 28%|██▊       | 37/134 [01:58<07:13,  4.46s/it]"
     ]
    },
    {
     "name": "stdout",
     "output_type": "stream",
     "text": [
      "Image saved to: \n",
      " /Volumes/One Touch/BWH_PD_DBS_MixedTarget/vtas/sub-0080/stimulation\n",
      "\n",
      " ***Processed: /Volumes/One Touch/BWH_PD_DBS_MixedTarget/vtas/sub-0080\n",
      "Attempting to import from: /Volumes/One Touch/BWH_PD_DBS_MixedTarget/vtas/sub-0081/stimulation/sub-0081_sim-efield_model-simbio_hemi-bl.nii_generated_nifti.nii\n"
     ]
    },
    {
     "name": "stderr",
     "output_type": "stream",
     "text": [
      " 28%|██▊       | 38/134 [02:03<07:15,  4.54s/it]"
     ]
    },
    {
     "name": "stdout",
     "output_type": "stream",
     "text": [
      "Image saved to: \n",
      " /Volumes/One Touch/BWH_PD_DBS_MixedTarget/vtas/sub-0081/stimulation\n",
      "\n",
      " ***Processed: /Volumes/One Touch/BWH_PD_DBS_MixedTarget/vtas/sub-0081\n",
      "Attempting to import from: /Volumes/One Touch/BWH_PD_DBS_MixedTarget/vtas/sub-0082/stimulation/sub-0082_sim-efield_model-simbio_hemi-bl.nii_generated_nifti.nii\n"
     ]
    },
    {
     "name": "stderr",
     "output_type": "stream",
     "text": [
      " 29%|██▉       | 39/134 [02:07<07:03,  4.46s/it]"
     ]
    },
    {
     "name": "stdout",
     "output_type": "stream",
     "text": [
      "Image saved to: \n",
      " /Volumes/One Touch/BWH_PD_DBS_MixedTarget/vtas/sub-0082/stimulation\n",
      "\n",
      " ***Processed: /Volumes/One Touch/BWH_PD_DBS_MixedTarget/vtas/sub-0082\n",
      "Attempting to import from: /Volumes/One Touch/BWH_PD_DBS_MixedTarget/vtas/sub-0084/stimulation/sub-0084_sim-efield_model-simbio_hemi-bl.nii_generated_nifti.nii\n"
     ]
    },
    {
     "name": "stderr",
     "output_type": "stream",
     "text": [
      " 30%|██▉       | 40/134 [02:11<06:44,  4.30s/it]"
     ]
    },
    {
     "name": "stdout",
     "output_type": "stream",
     "text": [
      "Image saved to: \n",
      " /Volumes/One Touch/BWH_PD_DBS_MixedTarget/vtas/sub-0084/stimulation\n",
      "\n",
      " ***Processed: /Volumes/One Touch/BWH_PD_DBS_MixedTarget/vtas/sub-0084\n",
      "Attempting to import from: /Volumes/One Touch/BWH_PD_DBS_MixedTarget/vtas/sub-0085/stimulation/sub-0085_sim-efield_model-simbio_hemi-bl.nii_generated_nifti.nii\n"
     ]
    },
    {
     "name": "stderr",
     "output_type": "stream",
     "text": [
      " 31%|███       | 41/134 [02:13<05:34,  3.59s/it]"
     ]
    },
    {
     "name": "stdout",
     "output_type": "stream",
     "text": [
      "Image saved to: \n",
      " /Volumes/One Touch/BWH_PD_DBS_MixedTarget/vtas/sub-0085/stimulation\n",
      "\n",
      " ***Processed: /Volumes/One Touch/BWH_PD_DBS_MixedTarget/vtas/sub-0085\n",
      "Attempting to import from: /Volumes/One Touch/BWH_PD_DBS_MixedTarget/vtas/sub-0088/stimulation/sub-0088_sim-efield_model-simbio_hemi-bl.nii_generated_nifti.nii\n"
     ]
    },
    {
     "name": "stderr",
     "output_type": "stream",
     "text": [
      " 31%|███▏      | 42/134 [02:13<04:02,  2.63s/it]"
     ]
    },
    {
     "name": "stdout",
     "output_type": "stream",
     "text": [
      "Image saved to: \n",
      " /Volumes/One Touch/BWH_PD_DBS_MixedTarget/vtas/sub-0088/stimulation\n",
      "\n",
      " ***Processed: /Volumes/One Touch/BWH_PD_DBS_MixedTarget/vtas/sub-0088\n",
      "Attempting to import from: /Volumes/One Touch/BWH_PD_DBS_MixedTarget/vtas/sub-0090/stimulation/sub-0090_sim-efield_model-simbio_hemi-bl.nii_generated_nifti.nii\n"
     ]
    },
    {
     "name": "stderr",
     "output_type": "stream",
     "text": [
      " 32%|███▏      | 43/134 [02:18<04:51,  3.21s/it]"
     ]
    },
    {
     "name": "stdout",
     "output_type": "stream",
     "text": [
      "Image saved to: \n",
      " /Volumes/One Touch/BWH_PD_DBS_MixedTarget/vtas/sub-0090/stimulation\n",
      "\n",
      " ***Processed: /Volumes/One Touch/BWH_PD_DBS_MixedTarget/vtas/sub-0090\n",
      "Attempting to import from: /Volumes/One Touch/BWH_PD_DBS_MixedTarget/vtas/sub-0091/stimulation/sub-0091_sim-efield_model-simbio_hemi-bl.nii_generated_nifti.nii\n"
     ]
    },
    {
     "name": "stderr",
     "output_type": "stream",
     "text": [
      " 33%|███▎      | 44/134 [02:21<04:34,  3.05s/it]"
     ]
    },
    {
     "name": "stdout",
     "output_type": "stream",
     "text": [
      "Image saved to: \n",
      " /Volumes/One Touch/BWH_PD_DBS_MixedTarget/vtas/sub-0091/stimulation\n",
      "\n",
      " ***Processed: /Volumes/One Touch/BWH_PD_DBS_MixedTarget/vtas/sub-0091\n",
      "Attempting to import from: /Volumes/One Touch/BWH_PD_DBS_MixedTarget/vtas/sub-0092/stimulation/sub-0092_sim-efield_model-simbio_hemi-bl.nii_generated_nifti.nii\n"
     ]
    },
    {
     "name": "stderr",
     "output_type": "stream",
     "text": [
      " 34%|███▎      | 45/134 [02:21<03:30,  2.37s/it]"
     ]
    },
    {
     "name": "stdout",
     "output_type": "stream",
     "text": [
      "Image saved to: \n",
      " /Volumes/One Touch/BWH_PD_DBS_MixedTarget/vtas/sub-0092/stimulation\n",
      "\n",
      " ***Processed: /Volumes/One Touch/BWH_PD_DBS_MixedTarget/vtas/sub-0092\n",
      "Attempting to import from: /Volumes/One Touch/BWH_PD_DBS_MixedTarget/vtas/sub-0093/stimulation/sub-0093_sim-efield_model-simbio_hemi-bl.nii_generated_nifti.nii\n"
     ]
    },
    {
     "name": "stderr",
     "output_type": "stream",
     "text": [
      " 34%|███▍      | 46/134 [02:25<04:00,  2.73s/it]"
     ]
    },
    {
     "name": "stdout",
     "output_type": "stream",
     "text": [
      "Image saved to: \n",
      " /Volumes/One Touch/BWH_PD_DBS_MixedTarget/vtas/sub-0093/stimulation\n",
      "\n",
      " ***Processed: /Volumes/One Touch/BWH_PD_DBS_MixedTarget/vtas/sub-0093\n",
      "Attempting to import from: /Volumes/One Touch/BWH_PD_DBS_MixedTarget/vtas/sub-0095/stimulation/sub-0095_sim-efield_model-simbio_hemi-bl.nii_generated_nifti.nii\n"
     ]
    },
    {
     "name": "stderr",
     "output_type": "stream",
     "text": [
      " 35%|███▌      | 47/134 [02:26<03:17,  2.27s/it]"
     ]
    },
    {
     "name": "stdout",
     "output_type": "stream",
     "text": [
      "Image saved to: \n",
      " /Volumes/One Touch/BWH_PD_DBS_MixedTarget/vtas/sub-0095/stimulation\n",
      "\n",
      " ***Processed: /Volumes/One Touch/BWH_PD_DBS_MixedTarget/vtas/sub-0095\n",
      "Attempting to import from: /Volumes/One Touch/BWH_PD_DBS_MixedTarget/vtas/sub-0096/stimulation/sub-0096_sim-efield_model-simbio_hemi-bl.nii_generated_nifti.nii\n"
     ]
    },
    {
     "name": "stderr",
     "output_type": "stream",
     "text": [
      " 36%|███▌      | 48/134 [02:27<02:33,  1.78s/it]"
     ]
    },
    {
     "name": "stdout",
     "output_type": "stream",
     "text": [
      "Image saved to: \n",
      " /Volumes/One Touch/BWH_PD_DBS_MixedTarget/vtas/sub-0096/stimulation\n",
      "\n",
      " ***Processed: /Volumes/One Touch/BWH_PD_DBS_MixedTarget/vtas/sub-0096\n",
      "Attempting to import from: /Volumes/One Touch/BWH_PD_DBS_MixedTarget/vtas/sub-0097/stimulation/sub-0097_sim-efield_model-simbio_hemi-bl.nii_generated_nifti.nii\n"
     ]
    },
    {
     "name": "stderr",
     "output_type": "stream",
     "text": [
      " 37%|███▋      | 49/134 [02:30<03:08,  2.22s/it]"
     ]
    },
    {
     "name": "stdout",
     "output_type": "stream",
     "text": [
      "Image saved to: \n",
      " /Volumes/One Touch/BWH_PD_DBS_MixedTarget/vtas/sub-0097/stimulation\n",
      "\n",
      " ***Processed: /Volumes/One Touch/BWH_PD_DBS_MixedTarget/vtas/sub-0097\n",
      "Attempting to import from: /Volumes/One Touch/BWH_PD_DBS_MixedTarget/vtas/sub-0098/stimulation/sub-0098_sim-efield_model-simbio_hemi-bl.nii_generated_nifti.nii\n"
     ]
    },
    {
     "name": "stderr",
     "output_type": "stream",
     "text": [
      " 37%|███▋      | 50/134 [02:33<03:31,  2.52s/it]"
     ]
    },
    {
     "name": "stdout",
     "output_type": "stream",
     "text": [
      "Image saved to: \n",
      " /Volumes/One Touch/BWH_PD_DBS_MixedTarget/vtas/sub-0098/stimulation\n",
      "\n",
      " ***Processed: /Volumes/One Touch/BWH_PD_DBS_MixedTarget/vtas/sub-0098\n",
      "Attempting to import from: /Volumes/One Touch/BWH_PD_DBS_MixedTarget/vtas/sub-0099/stimulation/sub-0099_sim-efield_model-simbio_hemi-bl.nii_generated_nifti.nii\n"
     ]
    },
    {
     "name": "stderr",
     "output_type": "stream",
     "text": [
      " 38%|███▊      | 51/134 [02:40<05:22,  3.88s/it]"
     ]
    },
    {
     "name": "stdout",
     "output_type": "stream",
     "text": [
      "Image saved to: \n",
      " /Volumes/One Touch/BWH_PD_DBS_MixedTarget/vtas/sub-0099/stimulation\n",
      "\n",
      " ***Processed: /Volumes/One Touch/BWH_PD_DBS_MixedTarget/vtas/sub-0099\n",
      "Attempting to import from: /Volumes/One Touch/BWH_PD_DBS_MixedTarget/vtas/sub-0101/stimulation/sub-0101_sim-efield_model-simbio_hemi-bl.nii_generated_nifti.nii\n"
     ]
    },
    {
     "name": "stderr",
     "output_type": "stream",
     "text": [
      " 39%|███▉      | 52/134 [02:44<05:10,  3.78s/it]"
     ]
    },
    {
     "name": "stdout",
     "output_type": "stream",
     "text": [
      "Image saved to: \n",
      " /Volumes/One Touch/BWH_PD_DBS_MixedTarget/vtas/sub-0101/stimulation\n",
      "\n",
      " ***Processed: /Volumes/One Touch/BWH_PD_DBS_MixedTarget/vtas/sub-0101\n",
      "Attempting to import from: /Volumes/One Touch/BWH_PD_DBS_MixedTarget/vtas/sub-0102/stimulation/sub-0102_sim-efield_model-simbio_hemi-bl.nii_generated_nifti.nii\n"
     ]
    },
    {
     "name": "stderr",
     "output_type": "stream",
     "text": [
      " 40%|███▉      | 53/134 [02:50<05:52,  4.35s/it]"
     ]
    },
    {
     "name": "stdout",
     "output_type": "stream",
     "text": [
      "Image saved to: \n",
      " /Volumes/One Touch/BWH_PD_DBS_MixedTarget/vtas/sub-0102/stimulation\n",
      "\n",
      " ***Processed: /Volumes/One Touch/BWH_PD_DBS_MixedTarget/vtas/sub-0102\n",
      "Attempting to import from: /Volumes/One Touch/BWH_PD_DBS_MixedTarget/vtas/sub-0103/stimulation/sub-0103_sim-efield_model-simbio_hemi-bl.nii_generated_nifti.nii\n"
     ]
    },
    {
     "name": "stderr",
     "output_type": "stream",
     "text": [
      " 40%|████      | 54/134 [02:52<05:05,  3.82s/it]"
     ]
    },
    {
     "name": "stdout",
     "output_type": "stream",
     "text": [
      "Image saved to: \n",
      " /Volumes/One Touch/BWH_PD_DBS_MixedTarget/vtas/sub-0103/stimulation\n",
      "\n",
      " ***Processed: /Volumes/One Touch/BWH_PD_DBS_MixedTarget/vtas/sub-0103\n",
      "Attempting to import from: /Volumes/One Touch/BWH_PD_DBS_MixedTarget/vtas/sub-0104/stimulation/sub-0104_sim-efield_model-simbio_hemi-bl.nii_generated_nifti.nii\n"
     ]
    },
    {
     "name": "stderr",
     "output_type": "stream",
     "text": [
      " 41%|████      | 55/134 [02:58<05:43,  4.35s/it]"
     ]
    },
    {
     "name": "stdout",
     "output_type": "stream",
     "text": [
      "Image saved to: \n",
      " /Volumes/One Touch/BWH_PD_DBS_MixedTarget/vtas/sub-0104/stimulation\n",
      "\n",
      " ***Processed: /Volumes/One Touch/BWH_PD_DBS_MixedTarget/vtas/sub-0104\n",
      "Attempting to import from: /Volumes/One Touch/BWH_PD_DBS_MixedTarget/vtas/sub-0115/stimulation/sub-0115_sim-efield_model-simbio_hemi-bl.nii_generated_nifti.nii\n"
     ]
    },
    {
     "name": "stderr",
     "output_type": "stream",
     "text": [
      " 42%|████▏     | 56/134 [03:00<04:43,  3.64s/it]"
     ]
    },
    {
     "name": "stdout",
     "output_type": "stream",
     "text": [
      "Image saved to: \n",
      " /Volumes/One Touch/BWH_PD_DBS_MixedTarget/vtas/sub-0115/stimulation\n",
      "\n",
      " ***Processed: /Volumes/One Touch/BWH_PD_DBS_MixedTarget/vtas/sub-0115\n",
      "Attempting to import from: /Volumes/One Touch/BWH_PD_DBS_MixedTarget/vtas/sub-0120/stimulation/sub-0120_sim-efield_model-simbio_hemi-bl.nii_generated_nifti.nii\n"
     ]
    },
    {
     "name": "stderr",
     "output_type": "stream",
     "text": [
      " 43%|████▎     | 57/134 [03:05<05:13,  4.07s/it]"
     ]
    },
    {
     "name": "stdout",
     "output_type": "stream",
     "text": [
      "Image saved to: \n",
      " /Volumes/One Touch/BWH_PD_DBS_MixedTarget/vtas/sub-0120/stimulation\n",
      "\n",
      " ***Processed: /Volumes/One Touch/BWH_PD_DBS_MixedTarget/vtas/sub-0120\n",
      "Attempting to import from: /Volumes/One Touch/BWH_PD_DBS_MixedTarget/vtas/sub-0126/stimulation/sub-0126_sim-efield_model-simbio_hemi-bl.nii_generated_nifti.nii\n"
     ]
    },
    {
     "name": "stderr",
     "output_type": "stream",
     "text": [
      " 43%|████▎     | 58/134 [03:10<05:23,  4.25s/it]"
     ]
    },
    {
     "name": "stdout",
     "output_type": "stream",
     "text": [
      "Image saved to: \n",
      " /Volumes/One Touch/BWH_PD_DBS_MixedTarget/vtas/sub-0126/stimulation\n",
      "\n",
      " ***Processed: /Volumes/One Touch/BWH_PD_DBS_MixedTarget/vtas/sub-0126\n",
      "Attempting to import from: /Volumes/One Touch/BWH_PD_DBS_MixedTarget/vtas/sub-0127/stimulation/sub-0127_sim-efield_model-simbio_hemi-bl.nii_generated_nifti.nii\n"
     ]
    },
    {
     "name": "stderr",
     "output_type": "stream",
     "text": [
      " 44%|████▍     | 59/134 [03:14<05:19,  4.26s/it]"
     ]
    },
    {
     "name": "stdout",
     "output_type": "stream",
     "text": [
      "Image saved to: \n",
      " /Volumes/One Touch/BWH_PD_DBS_MixedTarget/vtas/sub-0127/stimulation\n",
      "\n",
      " ***Processed: /Volumes/One Touch/BWH_PD_DBS_MixedTarget/vtas/sub-0127\n",
      "Attempting to import from: /Volumes/One Touch/BWH_PD_DBS_MixedTarget/vtas/sub-0128/stimulation/sub-0128_sim-efield_model-simbio_hemi-bl.nii_generated_nifti.nii\n"
     ]
    },
    {
     "name": "stderr",
     "output_type": "stream",
     "text": [
      " 45%|████▍     | 60/134 [03:18<05:09,  4.18s/it]"
     ]
    },
    {
     "name": "stdout",
     "output_type": "stream",
     "text": [
      "Image saved to: \n",
      " /Volumes/One Touch/BWH_PD_DBS_MixedTarget/vtas/sub-0128/stimulation\n",
      "\n",
      " ***Processed: /Volumes/One Touch/BWH_PD_DBS_MixedTarget/vtas/sub-0128\n",
      "Attempting to import from: /Volumes/One Touch/BWH_PD_DBS_MixedTarget/vtas/sub-0129/stimulation/sub-0129_sim-efield_model-simbio_hemi-bl.nii_generated_nifti.nii\n"
     ]
    },
    {
     "name": "stderr",
     "output_type": "stream",
     "text": [
      " 46%|████▌     | 61/134 [03:22<04:58,  4.09s/it]"
     ]
    },
    {
     "name": "stdout",
     "output_type": "stream",
     "text": [
      "Image saved to: \n",
      " /Volumes/One Touch/BWH_PD_DBS_MixedTarget/vtas/sub-0129/stimulation\n",
      "\n",
      " ***Processed: /Volumes/One Touch/BWH_PD_DBS_MixedTarget/vtas/sub-0129\n",
      "Attempting to import from: /Volumes/One Touch/BWH_PD_DBS_MixedTarget/vtas/sub-0131/stimulation/sub-0131_sim-efield_model-simbio_hemi-bl.nii_generated_nifti.nii\n"
     ]
    },
    {
     "name": "stderr",
     "output_type": "stream",
     "text": [
      " 46%|████▋     | 62/134 [03:26<05:04,  4.23s/it]"
     ]
    },
    {
     "name": "stdout",
     "output_type": "stream",
     "text": [
      "Image saved to: \n",
      " /Volumes/One Touch/BWH_PD_DBS_MixedTarget/vtas/sub-0131/stimulation\n",
      "\n",
      " ***Processed: /Volumes/One Touch/BWH_PD_DBS_MixedTarget/vtas/sub-0131\n",
      "Attempting to import from: /Volumes/One Touch/BWH_PD_DBS_MixedTarget/vtas/sub-0152/stimulation/sub-0152_sim-efield_model-simbio_hemi-bl.nii_generated_nifti.nii\n"
     ]
    },
    {
     "name": "stderr",
     "output_type": "stream",
     "text": [
      " 47%|████▋     | 63/134 [03:31<05:17,  4.47s/it]"
     ]
    },
    {
     "name": "stdout",
     "output_type": "stream",
     "text": [
      "Image saved to: \n",
      " /Volumes/One Touch/BWH_PD_DBS_MixedTarget/vtas/sub-0152/stimulation\n",
      "\n",
      " ***Processed: /Volumes/One Touch/BWH_PD_DBS_MixedTarget/vtas/sub-0152\n",
      "Attempting to import from: /Volumes/One Touch/BWH_PD_DBS_MixedTarget/vtas/sub-0156/stimulation/sub-0156_sim-efield_model-simbio_hemi-bl.nii_generated_nifti.nii\n"
     ]
    },
    {
     "name": "stderr",
     "output_type": "stream",
     "text": [
      " 48%|████▊     | 64/134 [03:35<04:47,  4.10s/it]"
     ]
    },
    {
     "name": "stdout",
     "output_type": "stream",
     "text": [
      "Image saved to: \n",
      " /Volumes/One Touch/BWH_PD_DBS_MixedTarget/vtas/sub-0156/stimulation\n",
      "\n",
      " ***Processed: /Volumes/One Touch/BWH_PD_DBS_MixedTarget/vtas/sub-0156\n",
      "Attempting to import from: /Volumes/One Touch/BWH_PD_DBS_MixedTarget/vtas/sub-0160/stimulation/sub-0160_sim-efield_model-simbio_hemi-bl.nii_generated_nifti.nii\n"
     ]
    },
    {
     "name": "stderr",
     "output_type": "stream",
     "text": [
      " 49%|████▊     | 65/134 [03:39<04:58,  4.32s/it]"
     ]
    },
    {
     "name": "stdout",
     "output_type": "stream",
     "text": [
      "Image saved to: \n",
      " /Volumes/One Touch/BWH_PD_DBS_MixedTarget/vtas/sub-0160/stimulation\n",
      "\n",
      " ***Processed: /Volumes/One Touch/BWH_PD_DBS_MixedTarget/vtas/sub-0160\n",
      "Attempting to import from: /Volumes/One Touch/BWH_PD_DBS_MixedTarget/vtas/sub-0171/stimulation/sub-0171_sim-efield_model-simbio_hemi-bl.nii_generated_nifti.nii\n"
     ]
    },
    {
     "name": "stderr",
     "output_type": "stream",
     "text": [
      " 49%|████▉     | 66/134 [03:42<04:16,  3.77s/it]"
     ]
    },
    {
     "name": "stdout",
     "output_type": "stream",
     "text": [
      "Image saved to: \n",
      " /Volumes/One Touch/BWH_PD_DBS_MixedTarget/vtas/sub-0171/stimulation\n",
      "\n",
      " ***Processed: /Volumes/One Touch/BWH_PD_DBS_MixedTarget/vtas/sub-0171\n",
      "Attempting to import from: /Volumes/One Touch/BWH_PD_DBS_MixedTarget/vtas/sub-0173/stimulation/sub-0173_sim-efield_model-simbio_hemi-bl.nii_generated_nifti.nii\n"
     ]
    },
    {
     "name": "stderr",
     "output_type": "stream",
     "text": [
      " 50%|█████     | 67/134 [03:47<04:36,  4.12s/it]"
     ]
    },
    {
     "name": "stdout",
     "output_type": "stream",
     "text": [
      "Image saved to: \n",
      " /Volumes/One Touch/BWH_PD_DBS_MixedTarget/vtas/sub-0173/stimulation\n",
      "\n",
      " ***Processed: /Volumes/One Touch/BWH_PD_DBS_MixedTarget/vtas/sub-0173\n",
      "Attempting to import from: /Volumes/One Touch/BWH_PD_DBS_MixedTarget/vtas/sub-0174/stimulation/sub-0174_sim-efield_model-simbio_hemi-bl.nii_generated_nifti.nii\n"
     ]
    },
    {
     "name": "stderr",
     "output_type": "stream",
     "text": [
      " 51%|█████     | 68/134 [03:52<05:03,  4.60s/it]"
     ]
    },
    {
     "name": "stdout",
     "output_type": "stream",
     "text": [
      "Image saved to: \n",
      " /Volumes/One Touch/BWH_PD_DBS_MixedTarget/vtas/sub-0174/stimulation\n",
      "\n",
      " ***Processed: /Volumes/One Touch/BWH_PD_DBS_MixedTarget/vtas/sub-0174\n",
      "Attempting to import from: /Volumes/One Touch/BWH_PD_DBS_MixedTarget/vtas/sub-0176/stimulation/sub-0176_sim-efield_model-simbio_hemi-bl.nii_generated_nifti.nii\n"
     ]
    },
    {
     "name": "stderr",
     "output_type": "stream",
     "text": [
      " 51%|█████▏    | 69/134 [03:55<04:27,  4.11s/it]"
     ]
    },
    {
     "name": "stdout",
     "output_type": "stream",
     "text": [
      "Image saved to: \n",
      " /Volumes/One Touch/BWH_PD_DBS_MixedTarget/vtas/sub-0176/stimulation\n",
      "\n",
      " ***Processed: /Volumes/One Touch/BWH_PD_DBS_MixedTarget/vtas/sub-0176\n",
      "Attempting to import from: /Volumes/One Touch/BWH_PD_DBS_MixedTarget/vtas/sub-0180/stimulation/sub-0180_sim-efield_model-simbio_hemi-bl.nii_generated_nifti.nii\n"
     ]
    },
    {
     "name": "stderr",
     "output_type": "stream",
     "text": [
      " 52%|█████▏    | 70/134 [03:58<03:55,  3.68s/it]"
     ]
    },
    {
     "name": "stdout",
     "output_type": "stream",
     "text": [
      "Image saved to: \n",
      " /Volumes/One Touch/BWH_PD_DBS_MixedTarget/vtas/sub-0180/stimulation\n",
      "\n",
      " ***Processed: /Volumes/One Touch/BWH_PD_DBS_MixedTarget/vtas/sub-0180\n",
      "Attempting to import from: /Volumes/One Touch/BWH_PD_DBS_MixedTarget/vtas/sub-0181/stimulation/sub-0181_sim-efield_model-simbio_hemi-bl.nii_generated_nifti.nii\n"
     ]
    },
    {
     "name": "stderr",
     "output_type": "stream",
     "text": [
      " 53%|█████▎    | 71/134 [04:02<03:53,  3.71s/it]"
     ]
    },
    {
     "name": "stdout",
     "output_type": "stream",
     "text": [
      "Image saved to: \n",
      " /Volumes/One Touch/BWH_PD_DBS_MixedTarget/vtas/sub-0181/stimulation\n",
      "\n",
      " ***Processed: /Volumes/One Touch/BWH_PD_DBS_MixedTarget/vtas/sub-0181\n",
      "Attempting to import from: /Volumes/One Touch/BWH_PD_DBS_MixedTarget/vtas/sub-0184/stimulation/sub-0184_sim-efield_model-simbio_hemi-bl.nii_generated_nifti.nii\n"
     ]
    },
    {
     "name": "stderr",
     "output_type": "stream",
     "text": [
      " 54%|█████▎    | 72/134 [04:04<03:28,  3.36s/it]"
     ]
    },
    {
     "name": "stdout",
     "output_type": "stream",
     "text": [
      "Image saved to: \n",
      " /Volumes/One Touch/BWH_PD_DBS_MixedTarget/vtas/sub-0184/stimulation\n",
      "\n",
      " ***Processed: /Volumes/One Touch/BWH_PD_DBS_MixedTarget/vtas/sub-0184\n",
      "Attempting to import from: /Volumes/One Touch/BWH_PD_DBS_MixedTarget/vtas/sub-0185/stimulation/sub-0185_sim-efield_model-simbio_hemi-bl.nii_generated_nifti.nii\n"
     ]
    },
    {
     "name": "stderr",
     "output_type": "stream",
     "text": [
      " 54%|█████▍    | 73/134 [04:08<03:33,  3.51s/it]"
     ]
    },
    {
     "name": "stdout",
     "output_type": "stream",
     "text": [
      "Image saved to: \n",
      " /Volumes/One Touch/BWH_PD_DBS_MixedTarget/vtas/sub-0185/stimulation\n",
      "\n",
      " ***Processed: /Volumes/One Touch/BWH_PD_DBS_MixedTarget/vtas/sub-0185\n",
      "Attempting to import from: /Volumes/One Touch/BWH_PD_DBS_MixedTarget/vtas/sub-0186/stimulation/sub-0186_sim-efield_model-simbio_hemi-bl.nii_generated_nifti.nii\n"
     ]
    },
    {
     "name": "stderr",
     "output_type": "stream",
     "text": [
      " 55%|█████▌    | 74/134 [04:12<03:29,  3.49s/it]"
     ]
    },
    {
     "name": "stdout",
     "output_type": "stream",
     "text": [
      "Image saved to: \n",
      " /Volumes/One Touch/BWH_PD_DBS_MixedTarget/vtas/sub-0186/stimulation\n",
      "\n",
      " ***Processed: /Volumes/One Touch/BWH_PD_DBS_MixedTarget/vtas/sub-0186\n",
      "Attempting to import from: /Volumes/One Touch/BWH_PD_DBS_MixedTarget/vtas/sub-0187/stimulation/sub-0187_sim-efield_model-simbio_hemi-bl.nii_generated_nifti.nii\n"
     ]
    },
    {
     "name": "stderr",
     "output_type": "stream",
     "text": [
      " 56%|█████▌    | 75/134 [04:17<03:53,  3.96s/it]"
     ]
    },
    {
     "name": "stdout",
     "output_type": "stream",
     "text": [
      "Image saved to: \n",
      " /Volumes/One Touch/BWH_PD_DBS_MixedTarget/vtas/sub-0187/stimulation\n",
      "\n",
      " ***Processed: /Volumes/One Touch/BWH_PD_DBS_MixedTarget/vtas/sub-0187\n",
      "Attempting to import from: /Volumes/One Touch/BWH_PD_DBS_MixedTarget/vtas/sub-0190/stimulation/sub-0190_sim-efield_model-simbio_hemi-bl.nii_generated_nifti.nii\n"
     ]
    },
    {
     "name": "stderr",
     "output_type": "stream",
     "text": [
      " 57%|█████▋    | 76/134 [04:21<03:49,  3.96s/it]"
     ]
    },
    {
     "name": "stdout",
     "output_type": "stream",
     "text": [
      "Image saved to: \n",
      " /Volumes/One Touch/BWH_PD_DBS_MixedTarget/vtas/sub-0190/stimulation\n",
      "\n",
      " ***Processed: /Volumes/One Touch/BWH_PD_DBS_MixedTarget/vtas/sub-0190\n",
      "Attempting to import from: /Volumes/One Touch/BWH_PD_DBS_MixedTarget/vtas/sub-0201/stimulation/sub-0201_sim-efield_model-simbio_hemi-bl.nii_generated_nifti.nii\n"
     ]
    },
    {
     "name": "stderr",
     "output_type": "stream",
     "text": [
      " 57%|█████▋    | 77/134 [04:26<04:07,  4.34s/it]"
     ]
    },
    {
     "name": "stdout",
     "output_type": "stream",
     "text": [
      "Image saved to: \n",
      " /Volumes/One Touch/BWH_PD_DBS_MixedTarget/vtas/sub-0201/stimulation\n",
      "\n",
      " ***Processed: /Volumes/One Touch/BWH_PD_DBS_MixedTarget/vtas/sub-0201\n",
      "Attempting to import from: /Volumes/One Touch/BWH_PD_DBS_MixedTarget/vtas/sub-0203/stimulation/sub-0203_sim-efield_model-simbio_hemi-bl.nii_generated_nifti.nii\n"
     ]
    },
    {
     "name": "stderr",
     "output_type": "stream",
     "text": [
      " 58%|█████▊    | 78/134 [04:29<03:38,  3.91s/it]"
     ]
    },
    {
     "name": "stdout",
     "output_type": "stream",
     "text": [
      "Image saved to: \n",
      " /Volumes/One Touch/BWH_PD_DBS_MixedTarget/vtas/sub-0203/stimulation\n",
      "\n",
      " ***Processed: /Volumes/One Touch/BWH_PD_DBS_MixedTarget/vtas/sub-0203\n",
      "Attempting to import from: /Volumes/One Touch/BWH_PD_DBS_MixedTarget/vtas/sub-0205/stimulation/sub-0205_sim-efield_model-simbio_hemi-bl.nii_generated_nifti.nii\n"
     ]
    },
    {
     "name": "stderr",
     "output_type": "stream",
     "text": [
      " 59%|█████▉    | 79/134 [04:34<03:49,  4.18s/it]"
     ]
    },
    {
     "name": "stdout",
     "output_type": "stream",
     "text": [
      "Image saved to: \n",
      " /Volumes/One Touch/BWH_PD_DBS_MixedTarget/vtas/sub-0205/stimulation\n",
      "\n",
      " ***Processed: /Volumes/One Touch/BWH_PD_DBS_MixedTarget/vtas/sub-0205\n",
      "Attempting to import from: /Volumes/One Touch/BWH_PD_DBS_MixedTarget/vtas/sub-0206/stimulation/sub-0206_sim-efield_model-simbio_hemi-bl.nii_generated_nifti.nii\n"
     ]
    },
    {
     "name": "stderr",
     "output_type": "stream",
     "text": [
      " 60%|█████▉    | 80/134 [04:41<04:33,  5.06s/it]"
     ]
    },
    {
     "name": "stdout",
     "output_type": "stream",
     "text": [
      "Image saved to: \n",
      " /Volumes/One Touch/BWH_PD_DBS_MixedTarget/vtas/sub-0206/stimulation\n",
      "\n",
      " ***Processed: /Volumes/One Touch/BWH_PD_DBS_MixedTarget/vtas/sub-0206\n",
      "Attempting to import from: /Volumes/One Touch/BWH_PD_DBS_MixedTarget/vtas/sub-0208/stimulation/sub-0208_sim-efield_model-simbio_hemi-bl.nii_generated_nifti.nii\n"
     ]
    },
    {
     "name": "stderr",
     "output_type": "stream",
     "text": [
      " 60%|██████    | 81/134 [04:46<04:32,  5.14s/it]"
     ]
    },
    {
     "name": "stdout",
     "output_type": "stream",
     "text": [
      "Image saved to: \n",
      " /Volumes/One Touch/BWH_PD_DBS_MixedTarget/vtas/sub-0208/stimulation\n",
      "\n",
      " ***Processed: /Volumes/One Touch/BWH_PD_DBS_MixedTarget/vtas/sub-0208\n",
      "Attempting to import from: /Volumes/One Touch/BWH_PD_DBS_MixedTarget/vtas/sub-0209/stimulation/sub-0209_sim-efield_model-simbio_hemi-bl.nii_generated_nifti.nii\n"
     ]
    },
    {
     "name": "stderr",
     "output_type": "stream",
     "text": [
      " 61%|██████    | 82/134 [04:52<04:36,  5.31s/it]"
     ]
    },
    {
     "name": "stdout",
     "output_type": "stream",
     "text": [
      "Image saved to: \n",
      " /Volumes/One Touch/BWH_PD_DBS_MixedTarget/vtas/sub-0209/stimulation\n",
      "\n",
      " ***Processed: /Volumes/One Touch/BWH_PD_DBS_MixedTarget/vtas/sub-0209\n",
      "Attempting to import from: /Volumes/One Touch/BWH_PD_DBS_MixedTarget/vtas/sub-0211/stimulation/sub-0211_sim-efield_model-simbio_hemi-bl.nii_generated_nifti.nii\n"
     ]
    },
    {
     "name": "stderr",
     "output_type": "stream",
     "text": [
      " 62%|██████▏   | 83/134 [04:58<04:36,  5.43s/it]"
     ]
    },
    {
     "name": "stdout",
     "output_type": "stream",
     "text": [
      "Image saved to: \n",
      " /Volumes/One Touch/BWH_PD_DBS_MixedTarget/vtas/sub-0211/stimulation\n",
      "\n",
      " ***Processed: /Volumes/One Touch/BWH_PD_DBS_MixedTarget/vtas/sub-0211\n",
      "Attempting to import from: /Volumes/One Touch/BWH_PD_DBS_MixedTarget/vtas/sub-0214/stimulation/sub-0214_sim-efield_model-simbio_hemi-bl.nii_generated_nifti.nii\n"
     ]
    },
    {
     "name": "stderr",
     "output_type": "stream",
     "text": [
      " 63%|██████▎   | 84/134 [05:03<04:30,  5.41s/it]"
     ]
    },
    {
     "name": "stdout",
     "output_type": "stream",
     "text": [
      "Image saved to: \n",
      " /Volumes/One Touch/BWH_PD_DBS_MixedTarget/vtas/sub-0214/stimulation\n",
      "\n",
      " ***Processed: /Volumes/One Touch/BWH_PD_DBS_MixedTarget/vtas/sub-0214\n",
      "Attempting to import from: /Volumes/One Touch/BWH_PD_DBS_MixedTarget/vtas/sub-0215/stimulation/sub-0215_sim-efield_model-simbio_hemi-bl.nii_generated_nifti.nii\n"
     ]
    },
    {
     "name": "stderr",
     "output_type": "stream",
     "text": [
      " 63%|██████▎   | 85/134 [05:08<04:16,  5.23s/it]"
     ]
    },
    {
     "name": "stdout",
     "output_type": "stream",
     "text": [
      "Image saved to: \n",
      " /Volumes/One Touch/BWH_PD_DBS_MixedTarget/vtas/sub-0215/stimulation\n",
      "\n",
      " ***Processed: /Volumes/One Touch/BWH_PD_DBS_MixedTarget/vtas/sub-0215\n",
      "Attempting to import from: /Volumes/One Touch/BWH_PD_DBS_MixedTarget/vtas/sub-0221/stimulation/sub-0221_sim-efield_model-simbio_hemi-bl.nii_generated_nifti.nii\n"
     ]
    },
    {
     "name": "stderr",
     "output_type": "stream",
     "text": [
      " 64%|██████▍   | 86/134 [05:11<03:49,  4.78s/it]"
     ]
    },
    {
     "name": "stdout",
     "output_type": "stream",
     "text": [
      "Image saved to: \n",
      " /Volumes/One Touch/BWH_PD_DBS_MixedTarget/vtas/sub-0221/stimulation\n",
      "\n",
      " ***Processed: /Volumes/One Touch/BWH_PD_DBS_MixedTarget/vtas/sub-0221\n",
      "Attempting to import from: /Volumes/One Touch/BWH_PD_DBS_MixedTarget/vtas/sub-0223/stimulation/sub-0223_sim-efield_model-simbio_hemi-bl.nii_generated_nifti.nii\n"
     ]
    },
    {
     "name": "stderr",
     "output_type": "stream",
     "text": [
      " 65%|██████▍   | 87/134 [05:17<03:52,  4.94s/it]"
     ]
    },
    {
     "name": "stdout",
     "output_type": "stream",
     "text": [
      "Image saved to: \n",
      " /Volumes/One Touch/BWH_PD_DBS_MixedTarget/vtas/sub-0223/stimulation\n",
      "\n",
      " ***Processed: /Volumes/One Touch/BWH_PD_DBS_MixedTarget/vtas/sub-0223\n",
      "Attempting to import from: /Volumes/One Touch/BWH_PD_DBS_MixedTarget/vtas/sub-0224/stimulation/sub-0224_sim-efield_model-simbio_hemi-bl.nii_generated_nifti.nii\n"
     ]
    },
    {
     "name": "stderr",
     "output_type": "stream",
     "text": [
      " 66%|██████▌   | 88/134 [05:21<03:36,  4.70s/it]"
     ]
    },
    {
     "name": "stdout",
     "output_type": "stream",
     "text": [
      "Image saved to: \n",
      " /Volumes/One Touch/BWH_PD_DBS_MixedTarget/vtas/sub-0224/stimulation\n",
      "\n",
      " ***Processed: /Volumes/One Touch/BWH_PD_DBS_MixedTarget/vtas/sub-0224\n",
      "Attempting to import from: /Volumes/One Touch/BWH_PD_DBS_MixedTarget/vtas/sub-0230/stimulation/sub-0230_sim-efield_model-simbio_hemi-bl.nii_generated_nifti.nii\n"
     ]
    },
    {
     "name": "stderr",
     "output_type": "stream",
     "text": [
      " 66%|██████▋   | 89/134 [05:26<03:35,  4.79s/it]"
     ]
    },
    {
     "name": "stdout",
     "output_type": "stream",
     "text": [
      "Image saved to: \n",
      " /Volumes/One Touch/BWH_PD_DBS_MixedTarget/vtas/sub-0230/stimulation\n",
      "\n",
      " ***Processed: /Volumes/One Touch/BWH_PD_DBS_MixedTarget/vtas/sub-0230\n",
      "Attempting to import from: /Volumes/One Touch/BWH_PD_DBS_MixedTarget/vtas/sub-0231/stimulation/sub-0231_sim-efield_model-simbio_hemi-bl.nii_generated_nifti.nii\n"
     ]
    },
    {
     "name": "stderr",
     "output_type": "stream",
     "text": [
      " 67%|██████▋   | 90/134 [05:29<03:06,  4.24s/it]"
     ]
    },
    {
     "name": "stdout",
     "output_type": "stream",
     "text": [
      "Image saved to: \n",
      " /Volumes/One Touch/BWH_PD_DBS_MixedTarget/vtas/sub-0231/stimulation\n",
      "\n",
      " ***Processed: /Volumes/One Touch/BWH_PD_DBS_MixedTarget/vtas/sub-0231\n",
      "Attempting to import from: /Volumes/One Touch/BWH_PD_DBS_MixedTarget/vtas/sub-0232/stimulation/sub-0232_sim-efield_model-simbio_hemi-bl.nii_generated_nifti.nii\n"
     ]
    },
    {
     "name": "stderr",
     "output_type": "stream",
     "text": [
      " 68%|██████▊   | 91/134 [05:31<02:39,  3.71s/it]"
     ]
    },
    {
     "name": "stdout",
     "output_type": "stream",
     "text": [
      "Image saved to: \n",
      " /Volumes/One Touch/BWH_PD_DBS_MixedTarget/vtas/sub-0232/stimulation\n",
      "\n",
      " ***Processed: /Volumes/One Touch/BWH_PD_DBS_MixedTarget/vtas/sub-0232\n",
      "Attempting to import from: /Volumes/One Touch/BWH_PD_DBS_MixedTarget/vtas/sub-0233/stimulation/sub-0233_sim-efield_model-simbio_hemi-bl.nii_generated_nifti.nii\n"
     ]
    },
    {
     "name": "stderr",
     "output_type": "stream",
     "text": [
      " 69%|██████▊   | 92/134 [05:34<02:18,  3.30s/it]"
     ]
    },
    {
     "name": "stdout",
     "output_type": "stream",
     "text": [
      "Image saved to: \n",
      " /Volumes/One Touch/BWH_PD_DBS_MixedTarget/vtas/sub-0233/stimulation\n",
      "\n",
      " ***Processed: /Volumes/One Touch/BWH_PD_DBS_MixedTarget/vtas/sub-0233\n",
      "Attempting to import from: /Volumes/One Touch/BWH_PD_DBS_MixedTarget/vtas/sub-0235/stimulation/sub-0235_sim-efield_model-simbio_hemi-bl.nii_generated_nifti.nii\n"
     ]
    },
    {
     "name": "stderr",
     "output_type": "stream",
     "text": [
      " 69%|██████▉   | 93/134 [05:36<02:05,  3.05s/it]"
     ]
    },
    {
     "name": "stdout",
     "output_type": "stream",
     "text": [
      "Image saved to: \n",
      " /Volumes/One Touch/BWH_PD_DBS_MixedTarget/vtas/sub-0235/stimulation\n",
      "\n",
      " ***Processed: /Volumes/One Touch/BWH_PD_DBS_MixedTarget/vtas/sub-0235\n",
      "Attempting to import from: /Volumes/One Touch/BWH_PD_DBS_MixedTarget/vtas/sub-0237/stimulation/sub-0237_sim-efield_model-simbio_hemi-bl.nii_generated_nifti.nii\n"
     ]
    },
    {
     "name": "stderr",
     "output_type": "stream",
     "text": [
      " 70%|███████   | 94/134 [05:42<02:38,  3.95s/it]"
     ]
    },
    {
     "name": "stdout",
     "output_type": "stream",
     "text": [
      "Image saved to: \n",
      " /Volumes/One Touch/BWH_PD_DBS_MixedTarget/vtas/sub-0237/stimulation\n",
      "\n",
      " ***Processed: /Volumes/One Touch/BWH_PD_DBS_MixedTarget/vtas/sub-0237\n",
      "Attempting to import from: /Volumes/One Touch/BWH_PD_DBS_MixedTarget/vtas/sub-0238/stimulation/sub-0238_sim-efield_model-simbio_hemi-bl.nii_generated_nifti.nii\n"
     ]
    },
    {
     "name": "stderr",
     "output_type": "stream",
     "text": [
      " 71%|███████   | 95/134 [05:45<02:24,  3.70s/it]"
     ]
    },
    {
     "name": "stdout",
     "output_type": "stream",
     "text": [
      "Image saved to: \n",
      " /Volumes/One Touch/BWH_PD_DBS_MixedTarget/vtas/sub-0238/stimulation\n",
      "\n",
      " ***Processed: /Volumes/One Touch/BWH_PD_DBS_MixedTarget/vtas/sub-0238\n",
      "Attempting to import from: /Volumes/One Touch/BWH_PD_DBS_MixedTarget/vtas/sub-0242/stimulation/sub-0242_sim-efield_model-simbio_hemi-bl.nii_generated_nifti.nii\n"
     ]
    },
    {
     "name": "stderr",
     "output_type": "stream",
     "text": [
      " 72%|███████▏  | 96/134 [05:49<02:23,  3.78s/it]"
     ]
    },
    {
     "name": "stdout",
     "output_type": "stream",
     "text": [
      "Image saved to: \n",
      " /Volumes/One Touch/BWH_PD_DBS_MixedTarget/vtas/sub-0242/stimulation\n",
      "\n",
      " ***Processed: /Volumes/One Touch/BWH_PD_DBS_MixedTarget/vtas/sub-0242\n",
      "Attempting to import from: /Volumes/One Touch/BWH_PD_DBS_MixedTarget/vtas/sub-0243/stimulation/sub-0243_sim-efield_model-simbio_hemi-bl.nii_generated_nifti.nii\n"
     ]
    },
    {
     "name": "stderr",
     "output_type": "stream",
     "text": [
      " 72%|███████▏  | 97/134 [05:54<02:25,  3.94s/it]"
     ]
    },
    {
     "name": "stdout",
     "output_type": "stream",
     "text": [
      "Image saved to: \n",
      " /Volumes/One Touch/BWH_PD_DBS_MixedTarget/vtas/sub-0243/stimulation\n",
      "\n",
      " ***Processed: /Volumes/One Touch/BWH_PD_DBS_MixedTarget/vtas/sub-0243\n"
     ]
    },
    {
     "name": "stderr",
     "output_type": "stream",
     "text": [
      " 73%|███████▎  | 98/134 [05:54<01:41,  2.83s/it]"
     ]
    },
    {
     "name": "stdout",
     "output_type": "stream",
     "text": [
      "Missing file(s) in /Volumes/One Touch/BWH_PD_DBS_MixedTarget/vtas/sub-0246\n",
      "Attempting to import from: /Volumes/One Touch/BWH_PD_DBS_MixedTarget/vtas/sub-0247/stimulation/sub-0247_sim-efield_model-simbio_hemi-bl.nii_generated_nifti.nii\n"
     ]
    },
    {
     "name": "stderr",
     "output_type": "stream",
     "text": [
      " 74%|███████▍  | 99/134 [05:59<02:01,  3.48s/it]"
     ]
    },
    {
     "name": "stdout",
     "output_type": "stream",
     "text": [
      "Image saved to: \n",
      " /Volumes/One Touch/BWH_PD_DBS_MixedTarget/vtas/sub-0247/stimulation\n",
      "\n",
      " ***Processed: /Volumes/One Touch/BWH_PD_DBS_MixedTarget/vtas/sub-0247\n",
      "Attempting to import from: /Volumes/One Touch/BWH_PD_DBS_MixedTarget/vtas/sub-0248/stimulation/sub-0248_sim-efield_model-simbio_hemi-bl.nii_generated_nifti.nii\n"
     ]
    },
    {
     "name": "stderr",
     "output_type": "stream",
     "text": [
      " 75%|███████▍  | 100/134 [06:04<02:18,  4.08s/it]"
     ]
    },
    {
     "name": "stdout",
     "output_type": "stream",
     "text": [
      "Image saved to: \n",
      " /Volumes/One Touch/BWH_PD_DBS_MixedTarget/vtas/sub-0248/stimulation\n",
      "\n",
      " ***Processed: /Volumes/One Touch/BWH_PD_DBS_MixedTarget/vtas/sub-0248\n",
      "Attempting to import from: /Volumes/One Touch/BWH_PD_DBS_MixedTarget/vtas/sub-0249/stimulation/sub-0249_sim-efield_model-simbio_hemi-bl.nii_generated_nifti.nii\n"
     ]
    },
    {
     "name": "stderr",
     "output_type": "stream",
     "text": [
      " 75%|███████▌  | 101/134 [06:09<02:21,  4.28s/it]"
     ]
    },
    {
     "name": "stdout",
     "output_type": "stream",
     "text": [
      "Image saved to: \n",
      " /Volumes/One Touch/BWH_PD_DBS_MixedTarget/vtas/sub-0249/stimulation\n",
      "\n",
      " ***Processed: /Volumes/One Touch/BWH_PD_DBS_MixedTarget/vtas/sub-0249\n",
      "Attempting to import from: /Volumes/One Touch/BWH_PD_DBS_MixedTarget/vtas/sub-0251/stimulation/sub-0251_sim-efield_model-simbio_hemi-bl.nii_generated_nifti.nii\n"
     ]
    },
    {
     "name": "stderr",
     "output_type": "stream",
     "text": [
      " 76%|███████▌  | 102/134 [06:14<02:19,  4.36s/it]"
     ]
    },
    {
     "name": "stdout",
     "output_type": "stream",
     "text": [
      "Image saved to: \n",
      " /Volumes/One Touch/BWH_PD_DBS_MixedTarget/vtas/sub-0251/stimulation\n",
      "\n",
      " ***Processed: /Volumes/One Touch/BWH_PD_DBS_MixedTarget/vtas/sub-0251\n",
      "Attempting to import from: /Volumes/One Touch/BWH_PD_DBS_MixedTarget/vtas/sub-0254/stimulation/sub-0254_sim-efield_model-simbio_hemi-bl.nii_generated_nifti.nii\n"
     ]
    },
    {
     "name": "stderr",
     "output_type": "stream",
     "text": [
      " 77%|███████▋  | 103/134 [06:21<02:46,  5.36s/it]"
     ]
    },
    {
     "name": "stdout",
     "output_type": "stream",
     "text": [
      "Image saved to: \n",
      " /Volumes/One Touch/BWH_PD_DBS_MixedTarget/vtas/sub-0254/stimulation\n",
      "\n",
      " ***Processed: /Volumes/One Touch/BWH_PD_DBS_MixedTarget/vtas/sub-0254\n",
      "Attempting to import from: /Volumes/One Touch/BWH_PD_DBS_MixedTarget/vtas/sub-0255/stimulation/sub-0255_sim-efield_model-simbio_hemi-bl.nii_generated_nifti.nii\n"
     ]
    },
    {
     "name": "stderr",
     "output_type": "stream",
     "text": [
      " 78%|███████▊  | 104/134 [06:27<02:46,  5.56s/it]"
     ]
    },
    {
     "name": "stdout",
     "output_type": "stream",
     "text": [
      "Image saved to: \n",
      " /Volumes/One Touch/BWH_PD_DBS_MixedTarget/vtas/sub-0255/stimulation\n",
      "\n",
      " ***Processed: /Volumes/One Touch/BWH_PD_DBS_MixedTarget/vtas/sub-0255\n",
      "Attempting to import from: /Volumes/One Touch/BWH_PD_DBS_MixedTarget/vtas/sub-0256/stimulation/sub-0256_sim-efield_model-simbio_hemi-bl.nii_generated_nifti.nii\n"
     ]
    },
    {
     "name": "stderr",
     "output_type": "stream",
     "text": [
      " 78%|███████▊  | 105/134 [06:34<02:49,  5.85s/it]"
     ]
    },
    {
     "name": "stdout",
     "output_type": "stream",
     "text": [
      "Image saved to: \n",
      " /Volumes/One Touch/BWH_PD_DBS_MixedTarget/vtas/sub-0256/stimulation\n",
      "\n",
      " ***Processed: /Volumes/One Touch/BWH_PD_DBS_MixedTarget/vtas/sub-0256\n",
      "Attempting to import from: /Volumes/One Touch/BWH_PD_DBS_MixedTarget/vtas/sub-0257/stimulation/sub-0257_sim-efield_model-simbio_hemi-bl.nii_generated_nifti.nii\n"
     ]
    },
    {
     "name": "stderr",
     "output_type": "stream",
     "text": [
      " 79%|███████▉  | 106/134 [06:41<02:51,  6.11s/it]"
     ]
    },
    {
     "name": "stdout",
     "output_type": "stream",
     "text": [
      "Image saved to: \n",
      " /Volumes/One Touch/BWH_PD_DBS_MixedTarget/vtas/sub-0257/stimulation\n",
      "\n",
      " ***Processed: /Volumes/One Touch/BWH_PD_DBS_MixedTarget/vtas/sub-0257\n",
      "Attempting to import from: /Volumes/One Touch/BWH_PD_DBS_MixedTarget/vtas/sub-0258/stimulation/sub-0258_sim-efield_model-simbio_hemi-bl.nii_generated_nifti.nii\n"
     ]
    },
    {
     "name": "stderr",
     "output_type": "stream",
     "text": [
      " 80%|███████▉  | 107/134 [06:47<02:43,  6.05s/it]"
     ]
    },
    {
     "name": "stdout",
     "output_type": "stream",
     "text": [
      "Image saved to: \n",
      " /Volumes/One Touch/BWH_PD_DBS_MixedTarget/vtas/sub-0258/stimulation\n",
      "\n",
      " ***Processed: /Volumes/One Touch/BWH_PD_DBS_MixedTarget/vtas/sub-0258\n",
      "Attempting to import from: /Volumes/One Touch/BWH_PD_DBS_MixedTarget/vtas/sub-0260/stimulation/sub-0260_sim-efield_model-simbio_hemi-bl.nii_generated_nifti.nii\n"
     ]
    },
    {
     "name": "stderr",
     "output_type": "stream",
     "text": [
      " 81%|████████  | 108/134 [06:51<02:25,  5.61s/it]"
     ]
    },
    {
     "name": "stdout",
     "output_type": "stream",
     "text": [
      "Image saved to: \n",
      " /Volumes/One Touch/BWH_PD_DBS_MixedTarget/vtas/sub-0260/stimulation\n",
      "\n",
      " ***Processed: /Volumes/One Touch/BWH_PD_DBS_MixedTarget/vtas/sub-0260\n",
      "Attempting to import from: /Volumes/One Touch/BWH_PD_DBS_MixedTarget/vtas/sub-0261/stimulation/sub-0261_sim-efield_model-simbio_hemi-bl.nii_generated_nifti.nii\n"
     ]
    },
    {
     "name": "stderr",
     "output_type": "stream",
     "text": [
      " 81%|████████▏ | 109/134 [06:54<01:56,  4.66s/it]"
     ]
    },
    {
     "name": "stdout",
     "output_type": "stream",
     "text": [
      "Image saved to: \n",
      " /Volumes/One Touch/BWH_PD_DBS_MixedTarget/vtas/sub-0261/stimulation\n",
      "\n",
      " ***Processed: /Volumes/One Touch/BWH_PD_DBS_MixedTarget/vtas/sub-0261\n",
      "Attempting to import from: /Volumes/One Touch/BWH_PD_DBS_MixedTarget/vtas/sub-0264/stimulation/sub-0264_sim-efield_model-simbio_hemi-bl.nii_generated_nifti.nii\n"
     ]
    },
    {
     "name": "stderr",
     "output_type": "stream",
     "text": [
      " 82%|████████▏ | 110/134 [06:57<01:46,  4.45s/it]"
     ]
    },
    {
     "name": "stdout",
     "output_type": "stream",
     "text": [
      "Image saved to: \n",
      " /Volumes/One Touch/BWH_PD_DBS_MixedTarget/vtas/sub-0264/stimulation\n",
      "\n",
      " ***Processed: /Volumes/One Touch/BWH_PD_DBS_MixedTarget/vtas/sub-0264\n",
      "Attempting to import from: /Volumes/One Touch/BWH_PD_DBS_MixedTarget/vtas/sub-0265/stimulation/sub-0265_sim-efield_model-simbio_hemi-bl.nii_generated_nifti.nii\n"
     ]
    },
    {
     "name": "stderr",
     "output_type": "stream",
     "text": [
      " 83%|████████▎ | 111/134 [07:00<01:29,  3.89s/it]"
     ]
    },
    {
     "name": "stdout",
     "output_type": "stream",
     "text": [
      "Image saved to: \n",
      " /Volumes/One Touch/BWH_PD_DBS_MixedTarget/vtas/sub-0265/stimulation\n",
      "\n",
      " ***Processed: /Volumes/One Touch/BWH_PD_DBS_MixedTarget/vtas/sub-0265\n",
      "Attempting to import from: /Volumes/One Touch/BWH_PD_DBS_MixedTarget/vtas/sub-0266/stimulation/sub-0266_sim-efield_model-simbio_hemi-bl.nii_generated_nifti.nii\n"
     ]
    },
    {
     "name": "stderr",
     "output_type": "stream",
     "text": [
      " 84%|████████▎ | 112/134 [07:06<01:37,  4.42s/it]"
     ]
    },
    {
     "name": "stdout",
     "output_type": "stream",
     "text": [
      "Image saved to: \n",
      " /Volumes/One Touch/BWH_PD_DBS_MixedTarget/vtas/sub-0266/stimulation\n",
      "\n",
      " ***Processed: /Volumes/One Touch/BWH_PD_DBS_MixedTarget/vtas/sub-0266\n",
      "Attempting to import from: /Volumes/One Touch/BWH_PD_DBS_MixedTarget/vtas/sub-0267/stimulation/sub-0267_sim-efield_model-simbio_hemi-bl.nii_generated_nifti.nii\n"
     ]
    },
    {
     "name": "stderr",
     "output_type": "stream",
     "text": [
      " 84%|████████▍ | 113/134 [07:13<01:48,  5.17s/it]"
     ]
    },
    {
     "name": "stdout",
     "output_type": "stream",
     "text": [
      "Image saved to: \n",
      " /Volumes/One Touch/BWH_PD_DBS_MixedTarget/vtas/sub-0267/stimulation\n",
      "\n",
      " ***Processed: /Volumes/One Touch/BWH_PD_DBS_MixedTarget/vtas/sub-0267\n",
      "Attempting to import from: /Volumes/One Touch/BWH_PD_DBS_MixedTarget/vtas/sub-0270/stimulation/sub-0270_sim-efield_model-simbio_hemi-bl.nii_generated_nifti.nii\n"
     ]
    },
    {
     "name": "stderr",
     "output_type": "stream",
     "text": [
      " 85%|████████▌ | 114/134 [07:18<01:44,  5.21s/it]"
     ]
    },
    {
     "name": "stdout",
     "output_type": "stream",
     "text": [
      "Image saved to: \n",
      " /Volumes/One Touch/BWH_PD_DBS_MixedTarget/vtas/sub-0270/stimulation\n",
      "\n",
      " ***Processed: /Volumes/One Touch/BWH_PD_DBS_MixedTarget/vtas/sub-0270\n",
      "Attempting to import from: /Volumes/One Touch/BWH_PD_DBS_MixedTarget/vtas/sub-0272/stimulation/sub-0272_sim-efield_model-simbio_hemi-bl.nii_generated_nifti.nii\n"
     ]
    },
    {
     "name": "stderr",
     "output_type": "stream",
     "text": [
      " 86%|████████▌ | 115/134 [07:24<01:42,  5.39s/it]"
     ]
    },
    {
     "name": "stdout",
     "output_type": "stream",
     "text": [
      "Image saved to: \n",
      " /Volumes/One Touch/BWH_PD_DBS_MixedTarget/vtas/sub-0272/stimulation\n",
      "\n",
      " ***Processed: /Volumes/One Touch/BWH_PD_DBS_MixedTarget/vtas/sub-0272\n",
      "Attempting to import from: /Volumes/One Touch/BWH_PD_DBS_MixedTarget/vtas/sub-0280/stimulation/sub-0280_sim-efield_model-simbio_hemi-bl.nii_generated_nifti.nii\n"
     ]
    },
    {
     "name": "stderr",
     "output_type": "stream",
     "text": [
      " 87%|████████▋ | 116/134 [07:29<01:35,  5.28s/it]"
     ]
    },
    {
     "name": "stdout",
     "output_type": "stream",
     "text": [
      "Image saved to: \n",
      " /Volumes/One Touch/BWH_PD_DBS_MixedTarget/vtas/sub-0280/stimulation\n",
      "\n",
      " ***Processed: /Volumes/One Touch/BWH_PD_DBS_MixedTarget/vtas/sub-0280\n",
      "Attempting to import from: /Volumes/One Touch/BWH_PD_DBS_MixedTarget/vtas/sub-0281/stimulation/sub-0281_sim-efield_model-simbio_hemi-bl.nii_generated_nifti.nii\n"
     ]
    },
    {
     "name": "stderr",
     "output_type": "stream",
     "text": [
      " 87%|████████▋ | 117/134 [07:33<01:23,  4.93s/it]"
     ]
    },
    {
     "name": "stdout",
     "output_type": "stream",
     "text": [
      "Image saved to: \n",
      " /Volumes/One Touch/BWH_PD_DBS_MixedTarget/vtas/sub-0281/stimulation\n",
      "\n",
      " ***Processed: /Volumes/One Touch/BWH_PD_DBS_MixedTarget/vtas/sub-0281\n",
      "Attempting to import from: /Volumes/One Touch/BWH_PD_DBS_MixedTarget/vtas/sub-0282/stimulation/sub-0282_sim-efield_model-simbio_hemi-bl.nii_generated_nifti.nii\n"
     ]
    },
    {
     "name": "stderr",
     "output_type": "stream",
     "text": [
      " 88%|████████▊ | 118/134 [07:37<01:13,  4.62s/it]"
     ]
    },
    {
     "name": "stdout",
     "output_type": "stream",
     "text": [
      "Image saved to: \n",
      " /Volumes/One Touch/BWH_PD_DBS_MixedTarget/vtas/sub-0282/stimulation\n",
      "\n",
      " ***Processed: /Volumes/One Touch/BWH_PD_DBS_MixedTarget/vtas/sub-0282\n",
      "Attempting to import from: /Volumes/One Touch/BWH_PD_DBS_MixedTarget/vtas/sub-0283/stimulation/sub-0283_sim-efield_model-simbio_hemi-bl.nii_generated_nifti.nii\n"
     ]
    },
    {
     "name": "stderr",
     "output_type": "stream",
     "text": [
      " 89%|████████▉ | 119/134 [07:42<01:10,  4.73s/it]"
     ]
    },
    {
     "name": "stdout",
     "output_type": "stream",
     "text": [
      "Image saved to: \n",
      " /Volumes/One Touch/BWH_PD_DBS_MixedTarget/vtas/sub-0283/stimulation\n",
      "\n",
      " ***Processed: /Volumes/One Touch/BWH_PD_DBS_MixedTarget/vtas/sub-0283\n",
      "Attempting to import from: /Volumes/One Touch/BWH_PD_DBS_MixedTarget/vtas/sub-0287/stimulation/sub-0287_sim-efield_model-simbio_hemi-bl.nii_generated_nifti.nii\n"
     ]
    },
    {
     "name": "stderr",
     "output_type": "stream",
     "text": [
      " 90%|████████▉ | 120/134 [07:47<01:10,  5.02s/it]"
     ]
    },
    {
     "name": "stdout",
     "output_type": "stream",
     "text": [
      "Image saved to: \n",
      " /Volumes/One Touch/BWH_PD_DBS_MixedTarget/vtas/sub-0287/stimulation\n",
      "\n",
      " ***Processed: /Volumes/One Touch/BWH_PD_DBS_MixedTarget/vtas/sub-0287\n",
      "Attempting to import from: /Volumes/One Touch/BWH_PD_DBS_MixedTarget/vtas/sub-0288/stimulation/sub-0288_sim-efield_model-simbio_hemi-bl.nii_generated_nifti.nii\n"
     ]
    },
    {
     "name": "stderr",
     "output_type": "stream",
     "text": [
      " 90%|█████████ | 121/134 [07:52<01:04,  4.94s/it]"
     ]
    },
    {
     "name": "stdout",
     "output_type": "stream",
     "text": [
      "Image saved to: \n",
      " /Volumes/One Touch/BWH_PD_DBS_MixedTarget/vtas/sub-0288/stimulation\n",
      "\n",
      " ***Processed: /Volumes/One Touch/BWH_PD_DBS_MixedTarget/vtas/sub-0288\n",
      "Attempting to import from: /Volumes/One Touch/BWH_PD_DBS_MixedTarget/vtas/sub-0289/stimulation/sub-0289_sim-efield_model-simbio_hemi-bl.nii_generated_nifti.nii\n"
     ]
    },
    {
     "name": "stderr",
     "output_type": "stream",
     "text": [
      " 91%|█████████ | 122/134 [07:56<00:55,  4.65s/it]"
     ]
    },
    {
     "name": "stdout",
     "output_type": "stream",
     "text": [
      "Image saved to: \n",
      " /Volumes/One Touch/BWH_PD_DBS_MixedTarget/vtas/sub-0289/stimulation\n",
      "\n",
      " ***Processed: /Volumes/One Touch/BWH_PD_DBS_MixedTarget/vtas/sub-0289\n",
      "Attempting to import from: /Volumes/One Touch/BWH_PD_DBS_MixedTarget/vtas/sub-0290/stimulation/sub-0290_sim-efield_model-simbio_hemi-bl.nii_generated_nifti.nii\n"
     ]
    },
    {
     "name": "stderr",
     "output_type": "stream",
     "text": [
      " 92%|█████████▏| 123/134 [07:58<00:42,  3.83s/it]"
     ]
    },
    {
     "name": "stdout",
     "output_type": "stream",
     "text": [
      "Image saved to: \n",
      " /Volumes/One Touch/BWH_PD_DBS_MixedTarget/vtas/sub-0290/stimulation\n",
      "\n",
      " ***Processed: /Volumes/One Touch/BWH_PD_DBS_MixedTarget/vtas/sub-0290\n",
      "Attempting to import from: /Volumes/One Touch/BWH_PD_DBS_MixedTarget/vtas/sub-0291/stimulation/sub-0291_sim-efield_model-simbio_hemi-bl.nii_generated_nifti.nii\n"
     ]
    },
    {
     "name": "stderr",
     "output_type": "stream",
     "text": [
      " 93%|█████████▎| 124/134 [08:02<00:39,  3.94s/it]"
     ]
    },
    {
     "name": "stdout",
     "output_type": "stream",
     "text": [
      "Image saved to: \n",
      " /Volumes/One Touch/BWH_PD_DBS_MixedTarget/vtas/sub-0291/stimulation\n",
      "\n",
      " ***Processed: /Volumes/One Touch/BWH_PD_DBS_MixedTarget/vtas/sub-0291\n",
      "Attempting to import from: /Volumes/One Touch/BWH_PD_DBS_MixedTarget/vtas/sub-0293/stimulation/sub-0293_sim-efield_model-simbio_hemi-bl.nii_generated_nifti.nii\n"
     ]
    },
    {
     "name": "stderr",
     "output_type": "stream",
     "text": [
      " 93%|█████████▎| 125/134 [08:07<00:37,  4.13s/it]"
     ]
    },
    {
     "name": "stdout",
     "output_type": "stream",
     "text": [
      "Image saved to: \n",
      " /Volumes/One Touch/BWH_PD_DBS_MixedTarget/vtas/sub-0293/stimulation\n",
      "\n",
      " ***Processed: /Volumes/One Touch/BWH_PD_DBS_MixedTarget/vtas/sub-0293\n",
      "Attempting to import from: /Volumes/One Touch/BWH_PD_DBS_MixedTarget/vtas/sub-0294/stimulation/sub-0294_sim-efield_model-simbio_hemi-bl.nii_generated_nifti.nii\n"
     ]
    },
    {
     "name": "stderr",
     "output_type": "stream",
     "text": [
      " 94%|█████████▍| 126/134 [08:14<00:40,  5.06s/it]"
     ]
    },
    {
     "name": "stdout",
     "output_type": "stream",
     "text": [
      "Image saved to: \n",
      " /Volumes/One Touch/BWH_PD_DBS_MixedTarget/vtas/sub-0294/stimulation\n",
      "\n",
      " ***Processed: /Volumes/One Touch/BWH_PD_DBS_MixedTarget/vtas/sub-0294\n",
      "Attempting to import from: /Volumes/One Touch/BWH_PD_DBS_MixedTarget/vtas/sub-0298/stimulation/sub-0298_sim-efield_model-simbio_hemi-bl.nii_generated_nifti.nii\n"
     ]
    },
    {
     "name": "stderr",
     "output_type": "stream",
     "text": [
      " 95%|█████████▍| 127/134 [08:19<00:35,  5.14s/it]"
     ]
    },
    {
     "name": "stdout",
     "output_type": "stream",
     "text": [
      "Image saved to: \n",
      " /Volumes/One Touch/BWH_PD_DBS_MixedTarget/vtas/sub-0298/stimulation\n",
      "\n",
      " ***Processed: /Volumes/One Touch/BWH_PD_DBS_MixedTarget/vtas/sub-0298\n",
      "Attempting to import from: /Volumes/One Touch/BWH_PD_DBS_MixedTarget/vtas/sub-0300/stimulation/sub-0300_sim-efield_model-simbio_hemi-bl.nii_generated_nifti.nii\n"
     ]
    },
    {
     "name": "stderr",
     "output_type": "stream",
     "text": [
      " 96%|█████████▌| 128/134 [08:27<00:34,  5.74s/it]"
     ]
    },
    {
     "name": "stdout",
     "output_type": "stream",
     "text": [
      "Image saved to: \n",
      " /Volumes/One Touch/BWH_PD_DBS_MixedTarget/vtas/sub-0300/stimulation\n",
      "\n",
      " ***Processed: /Volumes/One Touch/BWH_PD_DBS_MixedTarget/vtas/sub-0300\n",
      "Attempting to import from: /Volumes/One Touch/BWH_PD_DBS_MixedTarget/vtas/sub-0301/stimulation/sub-0301_sim-efield_model-simbio_hemi-bl.nii_generated_nifti.nii\n"
     ]
    },
    {
     "name": "stderr",
     "output_type": "stream",
     "text": [
      " 96%|█████████▋| 129/134 [08:36<00:34,  6.98s/it]"
     ]
    },
    {
     "name": "stdout",
     "output_type": "stream",
     "text": [
      "Image saved to: \n",
      " /Volumes/One Touch/BWH_PD_DBS_MixedTarget/vtas/sub-0301/stimulation\n",
      "\n",
      " ***Processed: /Volumes/One Touch/BWH_PD_DBS_MixedTarget/vtas/sub-0301\n",
      "Attempting to import from: /Volumes/One Touch/BWH_PD_DBS_MixedTarget/vtas/sub-0302/stimulation/sub-0302_sim-efield_model-simbio_hemi-bl.nii_generated_nifti.nii\n"
     ]
    },
    {
     "name": "stderr",
     "output_type": "stream",
     "text": [
      " 97%|█████████▋| 130/134 [08:42<00:25,  6.46s/it]"
     ]
    },
    {
     "name": "stdout",
     "output_type": "stream",
     "text": [
      "Image saved to: \n",
      " /Volumes/One Touch/BWH_PD_DBS_MixedTarget/vtas/sub-0302/stimulation\n",
      "\n",
      " ***Processed: /Volumes/One Touch/BWH_PD_DBS_MixedTarget/vtas/sub-0302\n",
      "Attempting to import from: /Volumes/One Touch/BWH_PD_DBS_MixedTarget/vtas/sub-0305/stimulation/sub-0305_sim-efield_model-simbio_hemi-bl.nii_generated_nifti.nii\n"
     ]
    },
    {
     "name": "stderr",
     "output_type": "stream",
     "text": [
      " 98%|█████████▊| 131/134 [08:46<00:17,  5.84s/it]"
     ]
    },
    {
     "name": "stdout",
     "output_type": "stream",
     "text": [
      "Image saved to: \n",
      " /Volumes/One Touch/BWH_PD_DBS_MixedTarget/vtas/sub-0305/stimulation\n",
      "\n",
      " ***Processed: /Volumes/One Touch/BWH_PD_DBS_MixedTarget/vtas/sub-0305\n",
      "Attempting to import from: /Volumes/One Touch/BWH_PD_DBS_MixedTarget/vtas/sub-0307/stimulation/sub-0307_sim-efield_model-simbio_hemi-bl.nii_generated_nifti.nii\n"
     ]
    },
    {
     "name": "stderr",
     "output_type": "stream",
     "text": [
      " 99%|█████████▊| 132/134 [08:52<00:11,  5.80s/it]"
     ]
    },
    {
     "name": "stdout",
     "output_type": "stream",
     "text": [
      "Image saved to: \n",
      " /Volumes/One Touch/BWH_PD_DBS_MixedTarget/vtas/sub-0307/stimulation\n",
      "\n",
      " ***Processed: /Volumes/One Touch/BWH_PD_DBS_MixedTarget/vtas/sub-0307\n",
      "Attempting to import from: /Volumes/One Touch/BWH_PD_DBS_MixedTarget/vtas/sub-0311/stimulation/sub-0311_sim-efield_model-simbio_hemi-bl.nii_generated_nifti.nii\n"
     ]
    },
    {
     "name": "stderr",
     "output_type": "stream",
     "text": [
      " 99%|█████████▉| 133/134 [08:56<00:05,  5.30s/it]"
     ]
    },
    {
     "name": "stdout",
     "output_type": "stream",
     "text": [
      "Image saved to: \n",
      " /Volumes/One Touch/BWH_PD_DBS_MixedTarget/vtas/sub-0311/stimulation\n",
      "\n",
      " ***Processed: /Volumes/One Touch/BWH_PD_DBS_MixedTarget/vtas/sub-0311\n",
      "Attempting to import from: /Volumes/One Touch/BWH_PD_DBS_MixedTarget/vtas/sub-0316/stimulation/sub-0316_sim-efield_model-simbio_hemi-bl.nii_generated_nifti.nii\n"
     ]
    },
    {
     "name": "stderr",
     "output_type": "stream",
     "text": [
      "100%|██████████| 134/134 [09:00<00:00,  4.03s/it]"
     ]
    },
    {
     "name": "stdout",
     "output_type": "stream",
     "text": [
      "Image saved to: \n",
      " /Volumes/One Touch/BWH_PD_DBS_MixedTarget/vtas/sub-0316/stimulation\n",
      "\n",
      " ***Processed: /Volumes/One Touch/BWH_PD_DBS_MixedTarget/vtas/sub-0316\n"
     ]
    },
    {
     "name": "stderr",
     "output_type": "stream",
     "text": [
      "\n"
     ]
    }
   ],
   "source": [
    "threshold_niftis_in_bids(root_dir=root_dir, file_pattern=file_pattern, output_file_name=output_file_name, threshold=0.2)"
   ]
  },
  {
   "cell_type": "code",
   "execution_count": null,
   "metadata": {},
   "outputs": [],
   "source": []
  }
 ],
 "metadata": {
  "kernelspec": {
   "display_name": "nimlab_py310",
   "language": "python",
   "name": "python3"
  },
  "language_info": {
   "codemirror_mode": {
    "name": "ipython",
    "version": 3
   },
   "file_extension": ".py",
   "mimetype": "text/x-python",
   "name": "python",
   "nbconvert_exporter": "python",
   "pygments_lexer": "ipython3",
   "version": "3.10.8"
  }
 },
 "nbformat": 4,
 "nbformat_minor": 2
}
