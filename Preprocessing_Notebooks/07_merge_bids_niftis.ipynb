{
 "cells": [
  {
   "cell_type": "markdown",
   "metadata": {},
   "source": [
    "# 01 - Process and Merge VTAs\n",
    "- Use if left and right VTAs are separate"
   ]
  },
  {
   "cell_type": "code",
   "execution_count": null,
   "metadata": {},
   "outputs": [],
   "source": [
    "from glob import glob\n",
    "import subprocess\n",
    "import os \n",
    "from nilearn.image import resample_to_img\n",
    "import nibabel as nib\n",
    "from tqdm import tqdm\n",
    "import shutil \n",
    "from nimlab import datasets as nimds\n",
    "\n",
    "from calvin_utils.nifti_utils.generate_nifti import nifti_from_matrix\n",
    "from calvin_utils.file_utils.import_functions import GiiNiiFileImport\n",
    "\n",
    "\n",
    "def downsample_image(input_path, output_path):\n",
    "    \"\"\"\n",
    "    Function to downsample a 3D image to a new voxel size using a target affine.\n",
    "    \n",
    "    Args:\n",
    "    input_path (str): Filepath to the input image.\n",
    "    output_path (str): Filepath to save the output image.\n",
    "    target_voxel_size (list): Target voxels to resample to.\n",
    "    \"\"\"\n",
    "    # Load the image\n",
    "    img = nib.load(input_path)\n",
    "    mni_mask = nimds.get_img(\"mni_icbm152\")\n",
    "    \n",
    "    # Downsample the image using the target affine\n",
    "    resampled_img = resample_to_img(img, mni_mask)\n",
    "\n",
    "    # Save the downsampled image\n",
    "    nib.save(resampled_img, output_path)\n",
    "    \n",
    "def prepare_backup_files(file_in):\n",
    "    # Prepare backup file name\n",
    "    copyfile_name = file_in.split('.nii')[0] + \"_copy.nii\"\n",
    "    # Copy files to create backups\n",
    "    shutil.copyfile(file_in, copyfile_name)\n",
    "    return copyfile_name\n",
    "    \n",
    "    \n",
    "def warp_nifti(copyfile, mni_template_path):\n",
    "    # Attempt resampling to MNI space to fix bad headers\n",
    "    subprocess.run([\"flirt\", \"-in\", copyfile, \"-ref\", mni_template_path, \"-out\", copyfile], check=True)\n",
    "            \n",
    "\n",
    "def merge_files(root_dir, file_pattern_1, file_pattern_2, output_file_pattern, mni_template_path=None, dry_run=True):\n",
    "    for sub_dir in tqdm(os.listdir(root_dir)):\n",
    "        sub_dir_path = os.path.join(root_dir, sub_dir)\n",
    "        if not os.path.isdir(sub_dir_path):\n",
    "            continue            \n",
    "        files1 = glob(root_dir+\"/\"+sub_dir+file_pattern_1)\n",
    "        files2 = glob(root_dir+\"/\"+sub_dir+file_pattern_2)\n",
    "        \n",
    "        if dry_run: \n",
    "            print(\"Searching: \", sub_dir_path)\n",
    "            print(\"Found first set: \", files1)\n",
    "            print(\"Found second set: \", files1)\n",
    "\n",
    "        if files1 and files2 and not dry_run:\n",
    "            # Extract identified files\n",
    "            file1 = files1[0]\n",
    "            file2 = files2[0]\n",
    "            \n",
    "            # Prepare Output File\n",
    "            output_dir = os.path.dirname(file1)\n",
    "            output_file_with_subject = os.path.basename(sub_dir_path)+\"_\"+output_file_pattern\n",
    "            \n",
    "            # Prepare Backup Files\n",
    "            copyfile1 = prepare_backup_files(file1)\n",
    "            copyfile2 = prepare_backup_files(file2)\n",
    "            \n",
    "            # Re-register if neded\n",
    "            if mni_template_path is not None:\n",
    "                warp_nifti(copyfile=copyfile1, mni_template_path=mni_template_path)\n",
    "                warp_nifti(copyfile=copyfile2, mni_template_path=mni_template_path)\n",
    "            \n",
    "            # Identify the downsampled file name\n",
    "            downfile1 = copyfile1.split('.nii')[0]+\"_mni152.nii\"\n",
    "            downfile2 = copyfile2.split('.nii')[0]+\"_mni152.nii\"\n",
    "            \n",
    "            # Add the aligned files\n",
    "            downsample_image(copyfile1, downfile1)\n",
    "            downsample_image(copyfile2, downfile2)\n",
    "            \n",
    "            try:\n",
    "                importer = GiiNiiFileImport(os.path.dirname(downfile1), file_pattern=\"*copy_mni152.nii\")\n",
    "                imports = importer.run()\n",
    "                imports[\"summated\"] = imports.iloc[:,0] + imports.iloc[:,1]\n",
    "                \n",
    "                nifti_from_matrix(matrix=imports[\"summated\"].to_numpy(), output_file=output_dir, output_name=output_file_with_subject, reference=\"MNI\")\n",
    "                \n",
    "                # Clean up and remove the copy files. \n",
    "                os.remove(copyfile1)\n",
    "                os.remove(copyfile2)\n",
    "                os.remove(downfile1)\n",
    "                os.remove(downfile2)\n",
    "                \n",
    "                print(f\"\\n ***Processed: {sub_dir_path}\")\n",
    "                \n",
    "            except subprocess.CalledProcessError as e:\n",
    "                print(f\"Error processing {sub_dir_path}: {e}\")\n",
    "        elif dry_run:\n",
    "            pass\n",
    "        else:\n",
    "            print(f\"Missing file(s) in {sub_dir_path}\")"
   ]
  },
  {
   "cell_type": "markdown",
   "metadata": {},
   "source": [
    "Set MNI Template path to None unless you are doing fancy re-registrations. First attempt default"
   ]
  },
  {
   "cell_type": "code",
   "execution_count": 14,
   "metadata": {},
   "outputs": [],
   "source": [
    "# User-defined variables\n",
    "root_dir = r\"/Users/cu135/Dropbox (Partners HealthCare)/studies/atrophy_seeds_2023/shared_analysis/niftis_for_elmira/atrophy_seeds\"\n",
    "file_pattern_1 = r\"*/*/thresholded*/*cerebrospinal_fluid_generated*\"\n",
    "file_pattern_2 = r\"*/*/thresholded*/*ct*\"\n",
    "output_file_pattern = r\"csf_ct_composite\"\n",
    "\n",
    "# Path to MNI template\n",
    "mni_template_path =None"
   ]
  },
  {
   "cell_type": "code",
   "execution_count": 15,
   "metadata": {},
   "outputs": [],
   "source": [
    "dry_run=False"
   ]
  },
  {
   "cell_type": "code",
   "execution_count": 16,
   "metadata": {},
   "outputs": [
    {
     "name": "stderr",
     "output_type": "stream",
     "text": [
      "  2%|▏         | 1/52 [00:00<00:09,  5.45it/s]"
     ]
    },
    {
     "name": "stdout",
     "output_type": "stream",
     "text": [
      "Attempting to import from: /Users/cu135/Dropbox (Partners HealthCare)/studies/atrophy_seeds_2023/shared_analysis/niftis_for_elmira/atrophy_seeds/sub-021/ses-01/thresholded_tissue_segment_z_scores/*copy_mni152.nii\n",
      "Image saved to: \n",
      " /Users/cu135/Dropbox (Partners HealthCare)/studies/atrophy_seeds_2023/shared_analysis/niftis_for_elmira/atrophy_seeds/sub-021/ses-01/thresholded_tissue_segment_z_scores\n",
      "\n",
      " ***Processed: /Users/cu135/Dropbox (Partners HealthCare)/studies/atrophy_seeds_2023/shared_analysis/niftis_for_elmira/atrophy_seeds/sub-021\n",
      "Attempting to import from: /Users/cu135/Dropbox (Partners HealthCare)/studies/atrophy_seeds_2023/shared_analysis/niftis_for_elmira/atrophy_seeds/sub-026/ses-01/thresholded_tissue_segment_z_scores/*copy_mni152.nii\n"
     ]
    },
    {
     "name": "stderr",
     "output_type": "stream",
     "text": [
      "  6%|▌         | 3/52 [00:00<00:08,  6.12it/s]"
     ]
    },
    {
     "name": "stdout",
     "output_type": "stream",
     "text": [
      "Image saved to: \n",
      " /Users/cu135/Dropbox (Partners HealthCare)/studies/atrophy_seeds_2023/shared_analysis/niftis_for_elmira/atrophy_seeds/sub-026/ses-01/thresholded_tissue_segment_z_scores\n",
      "\n",
      " ***Processed: /Users/cu135/Dropbox (Partners HealthCare)/studies/atrophy_seeds_2023/shared_analysis/niftis_for_elmira/atrophy_seeds/sub-026\n",
      "Attempting to import from: /Users/cu135/Dropbox (Partners HealthCare)/studies/atrophy_seeds_2023/shared_analysis/niftis_for_elmira/atrophy_seeds/sub-019/ses-01/thresholded_tissue_segment_z_scores/*copy_mni152.nii\n",
      "Image saved to: \n",
      " /Users/cu135/Dropbox (Partners HealthCare)/studies/atrophy_seeds_2023/shared_analysis/niftis_for_elmira/atrophy_seeds/sub-019/ses-01/thresholded_tissue_segment_z_scores\n",
      "\n",
      " ***Processed: /Users/cu135/Dropbox (Partners HealthCare)/studies/atrophy_seeds_2023/shared_analysis/niftis_for_elmira/atrophy_seeds/sub-019\n"
     ]
    },
    {
     "name": "stderr",
     "output_type": "stream",
     "text": [
      "  8%|▊         | 4/52 [00:00<00:07,  6.25it/s]"
     ]
    },
    {
     "name": "stdout",
     "output_type": "stream",
     "text": [
      "Attempting to import from: /Users/cu135/Dropbox (Partners HealthCare)/studies/atrophy_seeds_2023/shared_analysis/niftis_for_elmira/atrophy_seeds/sub-010/ses-01/thresholded_tissue_segment_z_scores/*copy_mni152.nii\n",
      "Image saved to: \n",
      " /Users/cu135/Dropbox (Partners HealthCare)/studies/atrophy_seeds_2023/shared_analysis/niftis_for_elmira/atrophy_seeds/sub-010/ses-01/thresholded_tissue_segment_z_scores\n",
      "\n",
      " ***Processed: /Users/cu135/Dropbox (Partners HealthCare)/studies/atrophy_seeds_2023/shared_analysis/niftis_for_elmira/atrophy_seeds/sub-010\n",
      "Attempting to import from: /Users/cu135/Dropbox (Partners HealthCare)/studies/atrophy_seeds_2023/shared_analysis/niftis_for_elmira/atrophy_seeds/sub-017/ses-01/thresholded_tissue_segment_z_scores/*copy_mni152.nii\n"
     ]
    },
    {
     "name": "stderr",
     "output_type": "stream",
     "text": [
      " 12%|█▏        | 6/52 [00:00<00:07,  6.33it/s]"
     ]
    },
    {
     "name": "stdout",
     "output_type": "stream",
     "text": [
      "Image saved to: \n",
      " /Users/cu135/Dropbox (Partners HealthCare)/studies/atrophy_seeds_2023/shared_analysis/niftis_for_elmira/atrophy_seeds/sub-017/ses-01/thresholded_tissue_segment_z_scores\n",
      "\n",
      " ***Processed: /Users/cu135/Dropbox (Partners HealthCare)/studies/atrophy_seeds_2023/shared_analysis/niftis_for_elmira/atrophy_seeds/sub-017\n",
      "Attempting to import from: /Users/cu135/Dropbox (Partners HealthCare)/studies/atrophy_seeds_2023/shared_analysis/niftis_for_elmira/atrophy_seeds/sub-028/ses-01/thresholded_tissue_segment_z_scores/*copy_mni152.nii\n",
      "Image saved to: \n",
      " /Users/cu135/Dropbox (Partners HealthCare)/studies/atrophy_seeds_2023/shared_analysis/niftis_for_elmira/atrophy_seeds/sub-028/ses-01/thresholded_tissue_segment_z_scores\n",
      "\n",
      " ***Processed: /Users/cu135/Dropbox (Partners HealthCare)/studies/atrophy_seeds_2023/shared_analysis/niftis_for_elmira/atrophy_seeds/sub-028\n"
     ]
    },
    {
     "name": "stderr",
     "output_type": "stream",
     "text": [
      " 13%|█▎        | 7/52 [00:01<00:07,  6.06it/s]"
     ]
    },
    {
     "name": "stdout",
     "output_type": "stream",
     "text": [
      "Attempting to import from: /Users/cu135/Dropbox (Partners HealthCare)/studies/atrophy_seeds_2023/shared_analysis/niftis_for_elmira/atrophy_seeds/sub-043/ses-01/thresholded_tissue_segment_z_scores/*copy_mni152.nii\n",
      "Image saved to: \n",
      " /Users/cu135/Dropbox (Partners HealthCare)/studies/atrophy_seeds_2023/shared_analysis/niftis_for_elmira/atrophy_seeds/sub-043/ses-01/thresholded_tissue_segment_z_scores\n",
      "\n",
      " ***Processed: /Users/cu135/Dropbox (Partners HealthCare)/studies/atrophy_seeds_2023/shared_analysis/niftis_for_elmira/atrophy_seeds/sub-043\n",
      "Attempting to import from: /Users/cu135/Dropbox (Partners HealthCare)/studies/atrophy_seeds_2023/shared_analysis/niftis_for_elmira/atrophy_seeds/sub-044/ses-01/thresholded_tissue_segment_z_scores/*copy_mni152.nii\n"
     ]
    },
    {
     "name": "stderr",
     "output_type": "stream",
     "text": [
      " 17%|█▋        | 9/52 [00:01<00:06,  6.21it/s]"
     ]
    },
    {
     "name": "stdout",
     "output_type": "stream",
     "text": [
      "Image saved to: \n",
      " /Users/cu135/Dropbox (Partners HealthCare)/studies/atrophy_seeds_2023/shared_analysis/niftis_for_elmira/atrophy_seeds/sub-044/ses-01/thresholded_tissue_segment_z_scores\n",
      "\n",
      " ***Processed: /Users/cu135/Dropbox (Partners HealthCare)/studies/atrophy_seeds_2023/shared_analysis/niftis_for_elmira/atrophy_seeds/sub-044\n",
      "Attempting to import from: /Users/cu135/Dropbox (Partners HealthCare)/studies/atrophy_seeds_2023/shared_analysis/niftis_for_elmira/atrophy_seeds/sub-016/ses-01/thresholded_tissue_segment_z_scores/*copy_mni152.nii\n",
      "Image saved to: \n",
      " /Users/cu135/Dropbox (Partners HealthCare)/studies/atrophy_seeds_2023/shared_analysis/niftis_for_elmira/atrophy_seeds/sub-016/ses-01/thresholded_tissue_segment_z_scores\n",
      "\n",
      " ***Processed: /Users/cu135/Dropbox (Partners HealthCare)/studies/atrophy_seeds_2023/shared_analysis/niftis_for_elmira/atrophy_seeds/sub-016\n"
     ]
    },
    {
     "name": "stderr",
     "output_type": "stream",
     "text": [
      " 19%|█▉        | 10/52 [00:01<00:06,  6.05it/s]"
     ]
    },
    {
     "name": "stdout",
     "output_type": "stream",
     "text": [
      "Attempting to import from: /Users/cu135/Dropbox (Partners HealthCare)/studies/atrophy_seeds_2023/shared_analysis/niftis_for_elmira/atrophy_seeds/sub-029/ses-01/thresholded_tissue_segment_z_scores/*copy_mni152.nii\n",
      "Image saved to: \n",
      " /Users/cu135/Dropbox (Partners HealthCare)/studies/atrophy_seeds_2023/shared_analysis/niftis_for_elmira/atrophy_seeds/sub-029/ses-01/thresholded_tissue_segment_z_scores\n",
      "\n",
      " ***Processed: /Users/cu135/Dropbox (Partners HealthCare)/studies/atrophy_seeds_2023/shared_analysis/niftis_for_elmira/atrophy_seeds/sub-029\n",
      "Attempting to import from: /Users/cu135/Dropbox (Partners HealthCare)/studies/atrophy_seeds_2023/shared_analysis/niftis_for_elmira/atrophy_seeds/sub-011/ses-01/thresholded_tissue_segment_z_scores/*copy_mni152.nii\n"
     ]
    },
    {
     "name": "stderr",
     "output_type": "stream",
     "text": [
      " 23%|██▎       | 12/52 [00:01<00:06,  5.94it/s]"
     ]
    },
    {
     "name": "stdout",
     "output_type": "stream",
     "text": [
      "Image saved to: \n",
      " /Users/cu135/Dropbox (Partners HealthCare)/studies/atrophy_seeds_2023/shared_analysis/niftis_for_elmira/atrophy_seeds/sub-011/ses-01/thresholded_tissue_segment_z_scores\n",
      "\n",
      " ***Processed: /Users/cu135/Dropbox (Partners HealthCare)/studies/atrophy_seeds_2023/shared_analysis/niftis_for_elmira/atrophy_seeds/sub-011\n",
      "Attempting to import from: /Users/cu135/Dropbox (Partners HealthCare)/studies/atrophy_seeds_2023/shared_analysis/niftis_for_elmira/atrophy_seeds/sub-027/ses-01/thresholded_tissue_segment_z_scores/*copy_mni152.nii\n",
      "Image saved to: \n",
      " /Users/cu135/Dropbox (Partners HealthCare)/studies/atrophy_seeds_2023/shared_analysis/niftis_for_elmira/atrophy_seeds/sub-027/ses-01/thresholded_tissue_segment_z_scores\n",
      "\n",
      " ***Processed: /Users/cu135/Dropbox (Partners HealthCare)/studies/atrophy_seeds_2023/shared_analysis/niftis_for_elmira/atrophy_seeds/sub-027\n"
     ]
    },
    {
     "name": "stderr",
     "output_type": "stream",
     "text": [
      " 25%|██▌       | 13/52 [00:02<00:06,  5.97it/s]"
     ]
    },
    {
     "name": "stdout",
     "output_type": "stream",
     "text": [
      "Attempting to import from: /Users/cu135/Dropbox (Partners HealthCare)/studies/atrophy_seeds_2023/shared_analysis/niftis_for_elmira/atrophy_seeds/sub-018/ses-01/thresholded_tissue_segment_z_scores/*copy_mni152.nii\n",
      "Image saved to: \n",
      " /Users/cu135/Dropbox (Partners HealthCare)/studies/atrophy_seeds_2023/shared_analysis/niftis_for_elmira/atrophy_seeds/sub-018/ses-01/thresholded_tissue_segment_z_scores\n",
      "\n",
      " ***Processed: /Users/cu135/Dropbox (Partners HealthCare)/studies/atrophy_seeds_2023/shared_analysis/niftis_for_elmira/atrophy_seeds/sub-018\n",
      "Attempting to import from: /Users/cu135/Dropbox (Partners HealthCare)/studies/atrophy_seeds_2023/shared_analysis/niftis_for_elmira/atrophy_seeds/sub-020/ses-01/thresholded_tissue_segment_z_scores/*copy_mni152.nii\n"
     ]
    },
    {
     "name": "stderr",
     "output_type": "stream",
     "text": [
      " 29%|██▉       | 15/52 [00:02<00:06,  5.97it/s]"
     ]
    },
    {
     "name": "stdout",
     "output_type": "stream",
     "text": [
      "Image saved to: \n",
      " /Users/cu135/Dropbox (Partners HealthCare)/studies/atrophy_seeds_2023/shared_analysis/niftis_for_elmira/atrophy_seeds/sub-020/ses-01/thresholded_tissue_segment_z_scores\n",
      "\n",
      " ***Processed: /Users/cu135/Dropbox (Partners HealthCare)/studies/atrophy_seeds_2023/shared_analysis/niftis_for_elmira/atrophy_seeds/sub-020\n",
      "Attempting to import from: /Users/cu135/Dropbox (Partners HealthCare)/studies/atrophy_seeds_2023/shared_analysis/niftis_for_elmira/atrophy_seeds/sub-045/ses-01/thresholded_tissue_segment_z_scores/*copy_mni152.nii\n",
      "Image saved to: \n",
      " /Users/cu135/Dropbox (Partners HealthCare)/studies/atrophy_seeds_2023/shared_analysis/niftis_for_elmira/atrophy_seeds/sub-045/ses-01/thresholded_tissue_segment_z_scores\n",
      "\n",
      " ***Processed: /Users/cu135/Dropbox (Partners HealthCare)/studies/atrophy_seeds_2023/shared_analysis/niftis_for_elmira/atrophy_seeds/sub-045\n"
     ]
    },
    {
     "name": "stderr",
     "output_type": "stream",
     "text": [
      " 31%|███       | 16/52 [00:02<00:05,  6.04it/s]"
     ]
    },
    {
     "name": "stdout",
     "output_type": "stream",
     "text": [
      "Attempting to import from: /Users/cu135/Dropbox (Partners HealthCare)/studies/atrophy_seeds_2023/shared_analysis/niftis_for_elmira/atrophy_seeds/sub-042/ses-01/thresholded_tissue_segment_z_scores/*copy_mni152.nii\n",
      "Image saved to: \n",
      " /Users/cu135/Dropbox (Partners HealthCare)/studies/atrophy_seeds_2023/shared_analysis/niftis_for_elmira/atrophy_seeds/sub-042/ses-01/thresholded_tissue_segment_z_scores\n",
      "\n",
      " ***Processed: /Users/cu135/Dropbox (Partners HealthCare)/studies/atrophy_seeds_2023/shared_analysis/niftis_for_elmira/atrophy_seeds/sub-042\n",
      "Missing file(s) in /Users/cu135/Dropbox (Partners HealthCare)/studies/atrophy_seeds_2023/shared_analysis/niftis_for_elmira/atrophy_seeds/neuroimaging_analyses\n",
      "Attempting to import from: /Users/cu135/Dropbox (Partners HealthCare)/studies/atrophy_seeds_2023/shared_analysis/niftis_for_elmira/atrophy_seeds/sub-002/ses-01/thresholded_tissue_segment_z_scores/*copy_mni152.nii\n"
     ]
    },
    {
     "name": "stderr",
     "output_type": "stream",
     "text": [
      " 38%|███▊      | 20/52 [00:02<00:03,  8.54it/s]"
     ]
    },
    {
     "name": "stdout",
     "output_type": "stream",
     "text": [
      "Image saved to: \n",
      " /Users/cu135/Dropbox (Partners HealthCare)/studies/atrophy_seeds_2023/shared_analysis/niftis_for_elmira/atrophy_seeds/sub-002/ses-01/thresholded_tissue_segment_z_scores\n",
      "\n",
      " ***Processed: /Users/cu135/Dropbox (Partners HealthCare)/studies/atrophy_seeds_2023/shared_analysis/niftis_for_elmira/atrophy_seeds/sub-002\n",
      "Attempting to import from: /Users/cu135/Dropbox (Partners HealthCare)/studies/atrophy_seeds_2023/shared_analysis/niftis_for_elmira/atrophy_seeds/sub-005/ses-01/thresholded_tissue_segment_z_scores/*copy_mni152.nii\n",
      "Image saved to: \n",
      " /Users/cu135/Dropbox (Partners HealthCare)/studies/atrophy_seeds_2023/shared_analysis/niftis_for_elmira/atrophy_seeds/sub-005/ses-01/thresholded_tissue_segment_z_scores\n",
      "\n",
      " ***Processed: /Users/cu135/Dropbox (Partners HealthCare)/studies/atrophy_seeds_2023/shared_analysis/niftis_for_elmira/atrophy_seeds/sub-005\n"
     ]
    },
    {
     "name": "stderr",
     "output_type": "stream",
     "text": [
      " 40%|████      | 21/52 [00:03<00:04,  7.30it/s]"
     ]
    },
    {
     "name": "stdout",
     "output_type": "stream",
     "text": [
      "Attempting to import from: /Users/cu135/Dropbox (Partners HealthCare)/studies/atrophy_seeds_2023/shared_analysis/niftis_for_elmira/atrophy_seeds/sub-033/ses-01/thresholded_tissue_segment_z_scores/*copy_mni152.nii\n",
      "Image saved to: \n",
      " /Users/cu135/Dropbox (Partners HealthCare)/studies/atrophy_seeds_2023/shared_analysis/niftis_for_elmira/atrophy_seeds/sub-033/ses-01/thresholded_tissue_segment_z_scores\n",
      "\n",
      " ***Processed: /Users/cu135/Dropbox (Partners HealthCare)/studies/atrophy_seeds_2023/shared_analysis/niftis_for_elmira/atrophy_seeds/sub-033\n",
      "Attempting to import from: /Users/cu135/Dropbox (Partners HealthCare)/studies/atrophy_seeds_2023/shared_analysis/niftis_for_elmira/atrophy_seeds/sub-034/ses-01/thresholded_tissue_segment_z_scores/*copy_mni152.nii\n"
     ]
    },
    {
     "name": "stderr",
     "output_type": "stream",
     "text": [
      " 44%|████▍     | 23/52 [00:03<00:04,  6.78it/s]"
     ]
    },
    {
     "name": "stdout",
     "output_type": "stream",
     "text": [
      "Image saved to: \n",
      " /Users/cu135/Dropbox (Partners HealthCare)/studies/atrophy_seeds_2023/shared_analysis/niftis_for_elmira/atrophy_seeds/sub-034/ses-01/thresholded_tissue_segment_z_scores\n",
      "\n",
      " ***Processed: /Users/cu135/Dropbox (Partners HealthCare)/studies/atrophy_seeds_2023/shared_analysis/niftis_for_elmira/atrophy_seeds/sub-034\n",
      "Attempting to import from: /Users/cu135/Dropbox (Partners HealthCare)/studies/atrophy_seeds_2023/shared_analysis/niftis_for_elmira/atrophy_seeds/sub-050/ses-01/thresholded_tissue_segment_z_scores/*copy_mni152.nii\n",
      "Image saved to: \n",
      " /Users/cu135/Dropbox (Partners HealthCare)/studies/atrophy_seeds_2023/shared_analysis/niftis_for_elmira/atrophy_seeds/sub-050/ses-01/thresholded_tissue_segment_z_scores\n",
      "\n",
      " ***Processed: /Users/cu135/Dropbox (Partners HealthCare)/studies/atrophy_seeds_2023/shared_analysis/niftis_for_elmira/atrophy_seeds/sub-050\n"
     ]
    },
    {
     "name": "stderr",
     "output_type": "stream",
     "text": [
      " 46%|████▌     | 24/52 [00:03<00:04,  6.64it/s]"
     ]
    },
    {
     "name": "stdout",
     "output_type": "stream",
     "text": [
      "Attempting to import from: /Users/cu135/Dropbox (Partners HealthCare)/studies/atrophy_seeds_2023/shared_analysis/niftis_for_elmira/atrophy_seeds/sub-035/ses-01/thresholded_tissue_segment_z_scores/*copy_mni152.nii\n",
      "Image saved to: \n",
      " /Users/cu135/Dropbox (Partners HealthCare)/studies/atrophy_seeds_2023/shared_analysis/niftis_for_elmira/atrophy_seeds/sub-035/ses-01/thresholded_tissue_segment_z_scores\n",
      "\n",
      " ***Processed: /Users/cu135/Dropbox (Partners HealthCare)/studies/atrophy_seeds_2023/shared_analysis/niftis_for_elmira/atrophy_seeds/sub-035\n",
      "Attempting to import from: /Users/cu135/Dropbox (Partners HealthCare)/studies/atrophy_seeds_2023/shared_analysis/niftis_for_elmira/atrophy_seeds/sub-032/ses-01/thresholded_tissue_segment_z_scores/*copy_mni152.nii\n"
     ]
    },
    {
     "name": "stderr",
     "output_type": "stream",
     "text": [
      " 50%|█████     | 26/52 [00:03<00:04,  6.43it/s]"
     ]
    },
    {
     "name": "stdout",
     "output_type": "stream",
     "text": [
      "Image saved to: \n",
      " /Users/cu135/Dropbox (Partners HealthCare)/studies/atrophy_seeds_2023/shared_analysis/niftis_for_elmira/atrophy_seeds/sub-032/ses-01/thresholded_tissue_segment_z_scores\n",
      "\n",
      " ***Processed: /Users/cu135/Dropbox (Partners HealthCare)/studies/atrophy_seeds_2023/shared_analysis/niftis_for_elmira/atrophy_seeds/sub-032\n",
      "Attempting to import from: /Users/cu135/Dropbox (Partners HealthCare)/studies/atrophy_seeds_2023/shared_analysis/niftis_for_elmira/atrophy_seeds/sub-004/ses-01/thresholded_tissue_segment_z_scores/*copy_mni152.nii\n",
      "Image saved to: \n",
      " /Users/cu135/Dropbox (Partners HealthCare)/studies/atrophy_seeds_2023/shared_analysis/niftis_for_elmira/atrophy_seeds/sub-004/ses-01/thresholded_tissue_segment_z_scores\n",
      "\n",
      " ***Processed: /Users/cu135/Dropbox (Partners HealthCare)/studies/atrophy_seeds_2023/shared_analysis/niftis_for_elmira/atrophy_seeds/sub-004\n"
     ]
    },
    {
     "name": "stderr",
     "output_type": "stream",
     "text": [
      " 52%|█████▏    | 27/52 [00:04<00:04,  5.62it/s]"
     ]
    },
    {
     "name": "stdout",
     "output_type": "stream",
     "text": [
      "Attempting to import from: /Users/cu135/Dropbox (Partners HealthCare)/studies/atrophy_seeds_2023/shared_analysis/niftis_for_elmira/atrophy_seeds/sub-003/ses-01/thresholded_tissue_segment_z_scores/*copy_mni152.nii\n",
      "Image saved to: \n",
      " /Users/cu135/Dropbox (Partners HealthCare)/studies/atrophy_seeds_2023/shared_analysis/niftis_for_elmira/atrophy_seeds/sub-003/ses-01/thresholded_tissue_segment_z_scores\n",
      "\n",
      " ***Processed: /Users/cu135/Dropbox (Partners HealthCare)/studies/atrophy_seeds_2023/shared_analysis/niftis_for_elmira/atrophy_seeds/sub-003\n",
      "Attempting to import from: /Users/cu135/Dropbox (Partners HealthCare)/studies/atrophy_seeds_2023/shared_analysis/niftis_for_elmira/atrophy_seeds/sub-047/ses-01/thresholded_tissue_segment_z_scores/*copy_mni152.nii\n"
     ]
    },
    {
     "name": "stderr",
     "output_type": "stream",
     "text": [
      " 56%|█████▌    | 29/52 [00:04<00:03,  5.82it/s]"
     ]
    },
    {
     "name": "stdout",
     "output_type": "stream",
     "text": [
      "Image saved to: \n",
      " /Users/cu135/Dropbox (Partners HealthCare)/studies/atrophy_seeds_2023/shared_analysis/niftis_for_elmira/atrophy_seeds/sub-047/ses-01/thresholded_tissue_segment_z_scores\n",
      "\n",
      " ***Processed: /Users/cu135/Dropbox (Partners HealthCare)/studies/atrophy_seeds_2023/shared_analysis/niftis_for_elmira/atrophy_seeds/sub-047\n",
      "Attempting to import from: /Users/cu135/Dropbox (Partners HealthCare)/studies/atrophy_seeds_2023/shared_analysis/niftis_for_elmira/atrophy_seeds/sub-040/ses-01/thresholded_tissue_segment_z_scores/*copy_mni152.nii\n",
      "Image saved to: \n",
      " /Users/cu135/Dropbox (Partners HealthCare)/studies/atrophy_seeds_2023/shared_analysis/niftis_for_elmira/atrophy_seeds/sub-040/ses-01/thresholded_tissue_segment_z_scores\n",
      "\n",
      " ***Processed: /Users/cu135/Dropbox (Partners HealthCare)/studies/atrophy_seeds_2023/shared_analysis/niftis_for_elmira/atrophy_seeds/sub-040\n"
     ]
    },
    {
     "name": "stderr",
     "output_type": "stream",
     "text": [
      " 58%|█████▊    | 30/52 [00:04<00:03,  6.07it/s]"
     ]
    },
    {
     "name": "stdout",
     "output_type": "stream",
     "text": [
      "Attempting to import from: /Users/cu135/Dropbox (Partners HealthCare)/studies/atrophy_seeds_2023/shared_analysis/niftis_for_elmira/atrophy_seeds/sub-049/ses-01/thresholded_tissue_segment_z_scores/*copy_mni152.nii\n",
      "Image saved to: \n",
      " /Users/cu135/Dropbox (Partners HealthCare)/studies/atrophy_seeds_2023/shared_analysis/niftis_for_elmira/atrophy_seeds/sub-049/ses-01/thresholded_tissue_segment_z_scores\n",
      "\n",
      " ***Processed: /Users/cu135/Dropbox (Partners HealthCare)/studies/atrophy_seeds_2023/shared_analysis/niftis_for_elmira/atrophy_seeds/sub-049\n",
      "Attempting to import from: /Users/cu135/Dropbox (Partners HealthCare)/studies/atrophy_seeds_2023/shared_analysis/niftis_for_elmira/atrophy_seeds/sub-025/ses-01/thresholded_tissue_segment_z_scores/*copy_mni152.nii\n"
     ]
    },
    {
     "name": "stderr",
     "output_type": "stream",
     "text": [
      " 62%|██████▏   | 32/52 [00:04<00:03,  6.34it/s]"
     ]
    },
    {
     "name": "stdout",
     "output_type": "stream",
     "text": [
      "Image saved to: \n",
      " /Users/cu135/Dropbox (Partners HealthCare)/studies/atrophy_seeds_2023/shared_analysis/niftis_for_elmira/atrophy_seeds/sub-025/ses-01/thresholded_tissue_segment_z_scores\n",
      "\n",
      " ***Processed: /Users/cu135/Dropbox (Partners HealthCare)/studies/atrophy_seeds_2023/shared_analysis/niftis_for_elmira/atrophy_seeds/sub-025\n",
      "Attempting to import from: /Users/cu135/Dropbox (Partners HealthCare)/studies/atrophy_seeds_2023/shared_analysis/niftis_for_elmira/atrophy_seeds/sub-022/ses-01/thresholded_tissue_segment_z_scores/*copy_mni152.nii\n",
      "Image saved to: \n",
      " /Users/cu135/Dropbox (Partners HealthCare)/studies/atrophy_seeds_2023/shared_analysis/niftis_for_elmira/atrophy_seeds/sub-022/ses-01/thresholded_tissue_segment_z_scores\n",
      "\n",
      " ***Processed: /Users/cu135/Dropbox (Partners HealthCare)/studies/atrophy_seeds_2023/shared_analysis/niftis_for_elmira/atrophy_seeds/sub-022\n"
     ]
    },
    {
     "name": "stderr",
     "output_type": "stream",
     "text": [
      " 63%|██████▎   | 33/52 [00:05<00:02,  6.39it/s]"
     ]
    },
    {
     "name": "stdout",
     "output_type": "stream",
     "text": [
      "Attempting to import from: /Users/cu135/Dropbox (Partners HealthCare)/studies/atrophy_seeds_2023/shared_analysis/niftis_for_elmira/atrophy_seeds/sub-014/ses-01/thresholded_tissue_segment_z_scores/*copy_mni152.nii\n",
      "Image saved to: \n",
      " /Users/cu135/Dropbox (Partners HealthCare)/studies/atrophy_seeds_2023/shared_analysis/niftis_for_elmira/atrophy_seeds/sub-014/ses-01/thresholded_tissue_segment_z_scores\n",
      "\n",
      " ***Processed: /Users/cu135/Dropbox (Partners HealthCare)/studies/atrophy_seeds_2023/shared_analysis/niftis_for_elmira/atrophy_seeds/sub-014\n",
      "Attempting to import from: /Users/cu135/Dropbox (Partners HealthCare)/studies/atrophy_seeds_2023/shared_analysis/niftis_for_elmira/atrophy_seeds/sub-013/ses-01/thresholded_tissue_segment_z_scores/*copy_mni152.nii\n"
     ]
    },
    {
     "name": "stderr",
     "output_type": "stream",
     "text": [
      " 67%|██████▋   | 35/52 [00:05<00:02,  6.39it/s]"
     ]
    },
    {
     "name": "stdout",
     "output_type": "stream",
     "text": [
      "Image saved to: \n",
      " /Users/cu135/Dropbox (Partners HealthCare)/studies/atrophy_seeds_2023/shared_analysis/niftis_for_elmira/atrophy_seeds/sub-013/ses-01/thresholded_tissue_segment_z_scores\n",
      "\n",
      " ***Processed: /Users/cu135/Dropbox (Partners HealthCare)/studies/atrophy_seeds_2023/shared_analysis/niftis_for_elmira/atrophy_seeds/sub-013\n",
      "Attempting to import from: /Users/cu135/Dropbox (Partners HealthCare)/studies/atrophy_seeds_2023/shared_analysis/niftis_for_elmira/atrophy_seeds/sub-048/ses-01/thresholded_tissue_segment_z_scores/*copy_mni152.nii\n",
      "Image saved to: \n",
      " /Users/cu135/Dropbox (Partners HealthCare)/studies/atrophy_seeds_2023/shared_analysis/niftis_for_elmira/atrophy_seeds/sub-048/ses-01/thresholded_tissue_segment_z_scores\n",
      "\n",
      " ***Processed: /Users/cu135/Dropbox (Partners HealthCare)/studies/atrophy_seeds_2023/shared_analysis/niftis_for_elmira/atrophy_seeds/sub-048\n"
     ]
    },
    {
     "name": "stderr",
     "output_type": "stream",
     "text": [
      " 69%|██████▉   | 36/52 [00:05<00:02,  6.11it/s]"
     ]
    },
    {
     "name": "stdout",
     "output_type": "stream",
     "text": [
      "Attempting to import from: /Users/cu135/Dropbox (Partners HealthCare)/studies/atrophy_seeds_2023/shared_analysis/niftis_for_elmira/atrophy_seeds/sub-041/ses-01/thresholded_tissue_segment_z_scores/*copy_mni152.nii\n",
      "Image saved to: \n",
      " /Users/cu135/Dropbox (Partners HealthCare)/studies/atrophy_seeds_2023/shared_analysis/niftis_for_elmira/atrophy_seeds/sub-041/ses-01/thresholded_tissue_segment_z_scores\n",
      "\n",
      " ***Processed: /Users/cu135/Dropbox (Partners HealthCare)/studies/atrophy_seeds_2023/shared_analysis/niftis_for_elmira/atrophy_seeds/sub-041\n",
      "Attempting to import from: /Users/cu135/Dropbox (Partners HealthCare)/studies/atrophy_seeds_2023/shared_analysis/niftis_for_elmira/atrophy_seeds/sub-046/ses-01/thresholded_tissue_segment_z_scores/*copy_mni152.nii\n"
     ]
    },
    {
     "name": "stderr",
     "output_type": "stream",
     "text": [
      " 73%|███████▎  | 38/52 [00:05<00:02,  6.41it/s]"
     ]
    },
    {
     "name": "stdout",
     "output_type": "stream",
     "text": [
      "Image saved to: \n",
      " /Users/cu135/Dropbox (Partners HealthCare)/studies/atrophy_seeds_2023/shared_analysis/niftis_for_elmira/atrophy_seeds/sub-046/ses-01/thresholded_tissue_segment_z_scores\n",
      "\n",
      " ***Processed: /Users/cu135/Dropbox (Partners HealthCare)/studies/atrophy_seeds_2023/shared_analysis/niftis_for_elmira/atrophy_seeds/sub-046\n",
      "Attempting to import from: /Users/cu135/Dropbox (Partners HealthCare)/studies/atrophy_seeds_2023/shared_analysis/niftis_for_elmira/atrophy_seeds/sub-012/ses-01/thresholded_tissue_segment_z_scores/*copy_mni152.nii\n",
      "Image saved to: \n",
      " /Users/cu135/Dropbox (Partners HealthCare)/studies/atrophy_seeds_2023/shared_analysis/niftis_for_elmira/atrophy_seeds/sub-012/ses-01/thresholded_tissue_segment_z_scores\n",
      "\n",
      " ***Processed: /Users/cu135/Dropbox (Partners HealthCare)/studies/atrophy_seeds_2023/shared_analysis/niftis_for_elmira/atrophy_seeds/sub-012\n"
     ]
    },
    {
     "name": "stderr",
     "output_type": "stream",
     "text": [
      " 75%|███████▌  | 39/52 [00:06<00:02,  5.98it/s]"
     ]
    },
    {
     "name": "stdout",
     "output_type": "stream",
     "text": [
      "Attempting to import from: /Users/cu135/Dropbox (Partners HealthCare)/studies/atrophy_seeds_2023/shared_analysis/niftis_for_elmira/atrophy_seeds/sub-015/ses-01/thresholded_tissue_segment_z_scores/*copy_mni152.nii\n",
      "Image saved to: \n",
      " /Users/cu135/Dropbox (Partners HealthCare)/studies/atrophy_seeds_2023/shared_analysis/niftis_for_elmira/atrophy_seeds/sub-015/ses-01/thresholded_tissue_segment_z_scores\n",
      "\n",
      " ***Processed: /Users/cu135/Dropbox (Partners HealthCare)/studies/atrophy_seeds_2023/shared_analysis/niftis_for_elmira/atrophy_seeds/sub-015\n",
      "Attempting to import from: /Users/cu135/Dropbox (Partners HealthCare)/studies/atrophy_seeds_2023/shared_analysis/niftis_for_elmira/atrophy_seeds/sub-023/ses-01/thresholded_tissue_segment_z_scores/*copy_mni152.nii\n"
     ]
    },
    {
     "name": "stderr",
     "output_type": "stream",
     "text": [
      " 79%|███████▉  | 41/52 [00:06<00:01,  6.10it/s]"
     ]
    },
    {
     "name": "stdout",
     "output_type": "stream",
     "text": [
      "Image saved to: \n",
      " /Users/cu135/Dropbox (Partners HealthCare)/studies/atrophy_seeds_2023/shared_analysis/niftis_for_elmira/atrophy_seeds/sub-023/ses-01/thresholded_tissue_segment_z_scores\n",
      "\n",
      " ***Processed: /Users/cu135/Dropbox (Partners HealthCare)/studies/atrophy_seeds_2023/shared_analysis/niftis_for_elmira/atrophy_seeds/sub-023\n",
      "Attempting to import from: /Users/cu135/Dropbox (Partners HealthCare)/studies/atrophy_seeds_2023/shared_analysis/niftis_for_elmira/atrophy_seeds/sub-024/ses-01/thresholded_tissue_segment_z_scores/*copy_mni152.nii\n",
      "Image saved to: \n",
      " /Users/cu135/Dropbox (Partners HealthCare)/studies/atrophy_seeds_2023/shared_analysis/niftis_for_elmira/atrophy_seeds/sub-024/ses-01/thresholded_tissue_segment_z_scores\n",
      "\n",
      " ***Processed: /Users/cu135/Dropbox (Partners HealthCare)/studies/atrophy_seeds_2023/shared_analysis/niftis_for_elmira/atrophy_seeds/sub-024\n"
     ]
    },
    {
     "name": "stderr",
     "output_type": "stream",
     "text": [
      " 81%|████████  | 42/52 [00:06<00:01,  6.14it/s]"
     ]
    },
    {
     "name": "stdout",
     "output_type": "stream",
     "text": [
      "Attempting to import from: /Users/cu135/Dropbox (Partners HealthCare)/studies/atrophy_seeds_2023/shared_analysis/niftis_for_elmira/atrophy_seeds/sub-039/ses-01/thresholded_tissue_segment_z_scores/*copy_mni152.nii\n",
      "Image saved to: \n",
      " /Users/cu135/Dropbox (Partners HealthCare)/studies/atrophy_seeds_2023/shared_analysis/niftis_for_elmira/atrophy_seeds/sub-039/ses-01/thresholded_tissue_segment_z_scores\n",
      "\n",
      " ***Processed: /Users/cu135/Dropbox (Partners HealthCare)/studies/atrophy_seeds_2023/shared_analysis/niftis_for_elmira/atrophy_seeds/sub-039\n",
      "Attempting to import from: /Users/cu135/Dropbox (Partners HealthCare)/studies/atrophy_seeds_2023/shared_analysis/niftis_for_elmira/atrophy_seeds/sub-006/ses-01/thresholded_tissue_segment_z_scores/*copy_mni152.nii\n"
     ]
    },
    {
     "name": "stderr",
     "output_type": "stream",
     "text": [
      " 85%|████████▍ | 44/52 [00:06<00:01,  6.39it/s]"
     ]
    },
    {
     "name": "stdout",
     "output_type": "stream",
     "text": [
      "Image saved to: \n",
      " /Users/cu135/Dropbox (Partners HealthCare)/studies/atrophy_seeds_2023/shared_analysis/niftis_for_elmira/atrophy_seeds/sub-006/ses-01/thresholded_tissue_segment_z_scores\n",
      "\n",
      " ***Processed: /Users/cu135/Dropbox (Partners HealthCare)/studies/atrophy_seeds_2023/shared_analysis/niftis_for_elmira/atrophy_seeds/sub-006\n",
      "Attempting to import from: /Users/cu135/Dropbox (Partners HealthCare)/studies/atrophy_seeds_2023/shared_analysis/niftis_for_elmira/atrophy_seeds/sub-001/ses-01/thresholded_tissue_segment_z_scores/*copy_mni152.nii\n",
      "Image saved to: \n",
      " /Users/cu135/Dropbox (Partners HealthCare)/studies/atrophy_seeds_2023/shared_analysis/niftis_for_elmira/atrophy_seeds/sub-001/ses-01/thresholded_tissue_segment_z_scores\n",
      "\n",
      " ***Processed: /Users/cu135/Dropbox (Partners HealthCare)/studies/atrophy_seeds_2023/shared_analysis/niftis_for_elmira/atrophy_seeds/sub-001\n"
     ]
    },
    {
     "name": "stderr",
     "output_type": "stream",
     "text": [
      " 87%|████████▋ | 45/52 [00:07<00:01,  6.36it/s]"
     ]
    },
    {
     "name": "stdout",
     "output_type": "stream",
     "text": [
      "Attempting to import from: /Users/cu135/Dropbox (Partners HealthCare)/studies/atrophy_seeds_2023/shared_analysis/niftis_for_elmira/atrophy_seeds/sub-008/ses-01/thresholded_tissue_segment_z_scores/*copy_mni152.nii\n",
      "Image saved to: \n",
      " /Users/cu135/Dropbox (Partners HealthCare)/studies/atrophy_seeds_2023/shared_analysis/niftis_for_elmira/atrophy_seeds/sub-008/ses-01/thresholded_tissue_segment_z_scores\n",
      "\n",
      " ***Processed: /Users/cu135/Dropbox (Partners HealthCare)/studies/atrophy_seeds_2023/shared_analysis/niftis_for_elmira/atrophy_seeds/sub-008\n",
      "Attempting to import from: /Users/cu135/Dropbox (Partners HealthCare)/studies/atrophy_seeds_2023/shared_analysis/niftis_for_elmira/atrophy_seeds/sub-037/ses-01/thresholded_tissue_segment_z_scores/*copy_mni152.nii\n"
     ]
    },
    {
     "name": "stderr",
     "output_type": "stream",
     "text": [
      " 90%|█████████ | 47/52 [00:07<00:00,  6.15it/s]"
     ]
    },
    {
     "name": "stdout",
     "output_type": "stream",
     "text": [
      "Image saved to: \n",
      " /Users/cu135/Dropbox (Partners HealthCare)/studies/atrophy_seeds_2023/shared_analysis/niftis_for_elmira/atrophy_seeds/sub-037/ses-01/thresholded_tissue_segment_z_scores\n",
      "\n",
      " ***Processed: /Users/cu135/Dropbox (Partners HealthCare)/studies/atrophy_seeds_2023/shared_analysis/niftis_for_elmira/atrophy_seeds/sub-037\n",
      "Attempting to import from: /Users/cu135/Dropbox (Partners HealthCare)/studies/atrophy_seeds_2023/shared_analysis/niftis_for_elmira/atrophy_seeds/sub-030/ses-01/thresholded_tissue_segment_z_scores/*copy_mni152.nii\n",
      "Image saved to: \n",
      " /Users/cu135/Dropbox (Partners HealthCare)/studies/atrophy_seeds_2023/shared_analysis/niftis_for_elmira/atrophy_seeds/sub-030/ses-01/thresholded_tissue_segment_z_scores\n",
      "\n",
      " ***Processed: /Users/cu135/Dropbox (Partners HealthCare)/studies/atrophy_seeds_2023/shared_analysis/niftis_for_elmira/atrophy_seeds/sub-030\n"
     ]
    },
    {
     "name": "stderr",
     "output_type": "stream",
     "text": [
      " 92%|█████████▏| 48/52 [00:07<00:00,  6.13it/s]"
     ]
    },
    {
     "name": "stdout",
     "output_type": "stream",
     "text": [
      "Attempting to import from: /Users/cu135/Dropbox (Partners HealthCare)/studies/atrophy_seeds_2023/shared_analysis/niftis_for_elmira/atrophy_seeds/sub-031/ses-01/thresholded_tissue_segment_z_scores/*copy_mni152.nii\n",
      "Image saved to: \n",
      " /Users/cu135/Dropbox (Partners HealthCare)/studies/atrophy_seeds_2023/shared_analysis/niftis_for_elmira/atrophy_seeds/sub-031/ses-01/thresholded_tissue_segment_z_scores\n",
      "\n",
      " ***Processed: /Users/cu135/Dropbox (Partners HealthCare)/studies/atrophy_seeds_2023/shared_analysis/niftis_for_elmira/atrophy_seeds/sub-031\n",
      "Attempting to import from: /Users/cu135/Dropbox (Partners HealthCare)/studies/atrophy_seeds_2023/shared_analysis/niftis_for_elmira/atrophy_seeds/sub-009/ses-01/thresholded_tissue_segment_z_scores/*copy_mni152.nii\n"
     ]
    },
    {
     "name": "stderr",
     "output_type": "stream",
     "text": [
      " 96%|█████████▌| 50/52 [00:07<00:00,  6.05it/s]"
     ]
    },
    {
     "name": "stdout",
     "output_type": "stream",
     "text": [
      "Image saved to: \n",
      " /Users/cu135/Dropbox (Partners HealthCare)/studies/atrophy_seeds_2023/shared_analysis/niftis_for_elmira/atrophy_seeds/sub-009/ses-01/thresholded_tissue_segment_z_scores\n",
      "\n",
      " ***Processed: /Users/cu135/Dropbox (Partners HealthCare)/studies/atrophy_seeds_2023/shared_analysis/niftis_for_elmira/atrophy_seeds/sub-009\n",
      "Attempting to import from: /Users/cu135/Dropbox (Partners HealthCare)/studies/atrophy_seeds_2023/shared_analysis/niftis_for_elmira/atrophy_seeds/sub-036/ses-01/thresholded_tissue_segment_z_scores/*copy_mni152.nii\n",
      "Image saved to: \n",
      " /Users/cu135/Dropbox (Partners HealthCare)/studies/atrophy_seeds_2023/shared_analysis/niftis_for_elmira/atrophy_seeds/sub-036/ses-01/thresholded_tissue_segment_z_scores\n",
      "\n",
      " ***Processed: /Users/cu135/Dropbox (Partners HealthCare)/studies/atrophy_seeds_2023/shared_analysis/niftis_for_elmira/atrophy_seeds/sub-036\n"
     ]
    },
    {
     "name": "stderr",
     "output_type": "stream",
     "text": [
      " 98%|█████████▊| 51/52 [00:08<00:00,  6.19it/s]"
     ]
    },
    {
     "name": "stdout",
     "output_type": "stream",
     "text": [
      "Attempting to import from: /Users/cu135/Dropbox (Partners HealthCare)/studies/atrophy_seeds_2023/shared_analysis/niftis_for_elmira/atrophy_seeds/sub-038/ses-01/thresholded_tissue_segment_z_scores/*copy_mni152.nii\n",
      "Image saved to: \n",
      " /Users/cu135/Dropbox (Partners HealthCare)/studies/atrophy_seeds_2023/shared_analysis/niftis_for_elmira/atrophy_seeds/sub-038/ses-01/thresholded_tissue_segment_z_scores\n",
      "\n",
      " ***Processed: /Users/cu135/Dropbox (Partners HealthCare)/studies/atrophy_seeds_2023/shared_analysis/niftis_for_elmira/atrophy_seeds/sub-038\n",
      "Attempting to import from: /Users/cu135/Dropbox (Partners HealthCare)/studies/atrophy_seeds_2023/shared_analysis/niftis_for_elmira/atrophy_seeds/sub-007/ses-01/thresholded_tissue_segment_z_scores/*copy_mni152.nii\n"
     ]
    },
    {
     "name": "stderr",
     "output_type": "stream",
     "text": [
      "100%|██████████| 52/52 [00:08<00:00,  6.31it/s]"
     ]
    },
    {
     "name": "stdout",
     "output_type": "stream",
     "text": [
      "Image saved to: \n",
      " /Users/cu135/Dropbox (Partners HealthCare)/studies/atrophy_seeds_2023/shared_analysis/niftis_for_elmira/atrophy_seeds/sub-007/ses-01/thresholded_tissue_segment_z_scores\n",
      "\n",
      " ***Processed: /Users/cu135/Dropbox (Partners HealthCare)/studies/atrophy_seeds_2023/shared_analysis/niftis_for_elmira/atrophy_seeds/sub-007\n"
     ]
    },
    {
     "name": "stderr",
     "output_type": "stream",
     "text": [
      "\n"
     ]
    }
   ],
   "source": [
    "merge_files(root_dir=root_dir, file_pattern_1=file_pattern_1, file_pattern_2=file_pattern_2, output_file_pattern=output_file_pattern, mni_template_path=mni_template_path, dry_run=dry_run)"
   ]
  },
  {
   "cell_type": "code",
   "execution_count": null,
   "metadata": {},
   "outputs": [],
   "source": []
  }
 ],
 "metadata": {
  "kernelspec": {
   "display_name": "nimlab_py310",
   "language": "python",
   "name": "python3"
  },
  "language_info": {
   "codemirror_mode": {
    "name": "ipython",
    "version": 3
   },
   "file_extension": ".py",
   "mimetype": "text/x-python",
   "name": "python",
   "nbconvert_exporter": "python",
   "pygments_lexer": "ipython3",
   "version": "3.10.8"
  }
 },
 "nbformat": 4,
 "nbformat_minor": 2
}
