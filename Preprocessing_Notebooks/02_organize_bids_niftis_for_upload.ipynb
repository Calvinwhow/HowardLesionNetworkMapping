{
 "cells": [
  {
   "cell_type": "markdown",
   "metadata": {},
   "source": [
    "- root_dir: the base of the BIDS directory.\n",
    "- file_pattern: the wildcarded matching pattern for the base file. \n",
    "- destination folder is the singular folder you would like all the niftis to be copied to. "
   ]
  },
  {
   "cell_type": "code",
   "execution_count": 1,
   "metadata": {},
   "outputs": [],
   "source": [
    "destination_folder = \"/Users/cu135/Dropbox (Partners HealthCare)/resources/datasets/BWH_PD_DBS_STN/compound_vtas\"\n",
    "root_dir = r\"/Volumes/One Touch/BWH_PD_DBS_MixedTarget/vtas\"\n",
    "file_pattern = r\"*preprocessed_generated*\""
   ]
  },
  {
   "cell_type": "code",
   "execution_count": 2,
   "metadata": {},
   "outputs": [],
   "source": [
    "import os\n",
    "from glob import glob\n",
    "import shutil\n",
    "from tqdm import tqdm\n",
    "\n",
    "def copy_files_to_new_location(root_dir, file_pattern, new_location):\n",
    "    \"\"\"\n",
    "    Copies files matching a given pattern from a root directory to a new location.\n",
    "    \"\"\"\n",
    "    if not os.path.exists(new_location):\n",
    "        os.makedirs(new_location)\n",
    "\n",
    "    for sub_dir in tqdm(os.listdir(root_dir)):\n",
    "        sub_dir_path = os.path.join(root_dir, sub_dir)\n",
    "        if not os.path.isdir(sub_dir_path):\n",
    "            continue\n",
    "\n",
    "        files_to_copy = glob(os.path.join(sub_dir_path, \"**\", file_pattern), recursive=True)\n",
    "\n",
    "        for file in files_to_copy:\n",
    "            shutil.copy(file, new_location)\n",
    "            print(f\"Copied {file} to {new_location}\")\n",
    "\n",
    "# Example usage\n",
    "# copy_files_to_new_location(\"/path/to/root_dir\", \"*.nii\", \"/path/to/new_location\")"
   ]
  },
  {
   "cell_type": "code",
   "execution_count": 3,
   "metadata": {},
   "outputs": [
    {
     "name": "stderr",
     "output_type": "stream",
     "text": [
      "  1%|          | 1/134 [00:00<01:16,  1.75it/s]"
     ]
    },
    {
     "name": "stdout",
     "output_type": "stream",
     "text": [
      "Copied /Volumes/One Touch/BWH_PD_DBS_MixedTarget/vtas/sub-0037/stimulation/sub-0037__sim-binary_model-simbio_hemi-bl_preprocessed_generated_nifti.nii to /Users/cu135/Dropbox (Partners HealthCare)/resources/datasets/BWH_PD_DBS_STN/compound_vtas\n"
     ]
    },
    {
     "name": "stderr",
     "output_type": "stream",
     "text": [
      "  1%|▏         | 2/134 [00:01<01:13,  1.80it/s]"
     ]
    },
    {
     "name": "stdout",
     "output_type": "stream",
     "text": [
      "Copied /Volumes/One Touch/BWH_PD_DBS_MixedTarget/vtas/sub-0039/stimulation/sub-0039__sim-binary_model-simbio_hemi-bl_preprocessed_generated_nifti.nii to /Users/cu135/Dropbox (Partners HealthCare)/resources/datasets/BWH_PD_DBS_STN/compound_vtas\n"
     ]
    },
    {
     "name": "stderr",
     "output_type": "stream",
     "text": [
      "  2%|▏         | 3/134 [00:01<00:52,  2.50it/s]"
     ]
    },
    {
     "name": "stdout",
     "output_type": "stream",
     "text": [
      "Copied /Volumes/One Touch/BWH_PD_DBS_MixedTarget/vtas/sub-0040/stimulation/sub-0040__sim-binary_model-simbio_hemi-bl_preprocessed_generated_nifti.nii to /Users/cu135/Dropbox (Partners HealthCare)/resources/datasets/BWH_PD_DBS_STN/compound_vtas\n"
     ]
    },
    {
     "name": "stderr",
     "output_type": "stream",
     "text": [
      "  3%|▎         | 4/134 [00:01<00:47,  2.73it/s]"
     ]
    },
    {
     "name": "stdout",
     "output_type": "stream",
     "text": [
      "Copied /Volumes/One Touch/BWH_PD_DBS_MixedTarget/vtas/sub-0041/stimulation/sub-0041__sim-binary_model-simbio_hemi-bl_preprocessed_generated_nifti.nii to /Users/cu135/Dropbox (Partners HealthCare)/resources/datasets/BWH_PD_DBS_STN/compound_vtas\n"
     ]
    },
    {
     "name": "stderr",
     "output_type": "stream",
     "text": [
      "  4%|▎         | 5/134 [00:01<00:41,  3.12it/s]"
     ]
    },
    {
     "name": "stdout",
     "output_type": "stream",
     "text": [
      "Copied /Volumes/One Touch/BWH_PD_DBS_MixedTarget/vtas/sub-0043/stimulation/sub-0043__sim-binary_model-simbio_hemi-bl_preprocessed_generated_nifti.nii to /Users/cu135/Dropbox (Partners HealthCare)/resources/datasets/BWH_PD_DBS_STN/compound_vtas\n"
     ]
    },
    {
     "name": "stderr",
     "output_type": "stream",
     "text": [
      "  4%|▍         | 6/134 [00:02<01:00,  2.10it/s]"
     ]
    },
    {
     "name": "stdout",
     "output_type": "stream",
     "text": [
      "Copied /Volumes/One Touch/BWH_PD_DBS_MixedTarget/vtas/sub-0044/stimulation/sub-0044__sim-binary_model-simbio_hemi-bl_preprocessed_generated_nifti.nii to /Users/cu135/Dropbox (Partners HealthCare)/resources/datasets/BWH_PD_DBS_STN/compound_vtas\n"
     ]
    },
    {
     "name": "stderr",
     "output_type": "stream",
     "text": [
      "  5%|▌         | 7/134 [00:03<01:12,  1.75it/s]"
     ]
    },
    {
     "name": "stdout",
     "output_type": "stream",
     "text": [
      "Copied /Volumes/One Touch/BWH_PD_DBS_MixedTarget/vtas/sub-0045/stimulation/sub-0045__sim-binary_model-simbio_hemi-bl_preprocessed_generated_nifti.nii to /Users/cu135/Dropbox (Partners HealthCare)/resources/datasets/BWH_PD_DBS_STN/compound_vtas\n"
     ]
    },
    {
     "name": "stderr",
     "output_type": "stream",
     "text": [
      "  6%|▌         | 8/134 [00:03<01:11,  1.76it/s]"
     ]
    },
    {
     "name": "stdout",
     "output_type": "stream",
     "text": [
      "Copied /Volumes/One Touch/BWH_PD_DBS_MixedTarget/vtas/sub-0046/stimulation/sub-0046__sim-binary_model-simbio_hemi-bl_preprocessed_generated_nifti.nii to /Users/cu135/Dropbox (Partners HealthCare)/resources/datasets/BWH_PD_DBS_STN/compound_vtas\n"
     ]
    },
    {
     "name": "stderr",
     "output_type": "stream",
     "text": [
      "  7%|▋         | 9/134 [00:04<01:06,  1.89it/s]"
     ]
    },
    {
     "name": "stdout",
     "output_type": "stream",
     "text": [
      "Copied /Volumes/One Touch/BWH_PD_DBS_MixedTarget/vtas/sub-0047/stimulation/sub-0047__sim-binary_model-simbio_hemi-bl_preprocessed_generated_nifti.nii to /Users/cu135/Dropbox (Partners HealthCare)/resources/datasets/BWH_PD_DBS_STN/compound_vtas\n"
     ]
    },
    {
     "name": "stderr",
     "output_type": "stream",
     "text": [
      "  7%|▋         | 10/134 [00:04<01:03,  1.96it/s]"
     ]
    },
    {
     "name": "stdout",
     "output_type": "stream",
     "text": [
      "Copied /Volumes/One Touch/BWH_PD_DBS_MixedTarget/vtas/sub-0048/stimulation/sub-0048__sim-binary_model-simbio_hemi-bl_preprocessed_generated_nifti.nii to /Users/cu135/Dropbox (Partners HealthCare)/resources/datasets/BWH_PD_DBS_STN/compound_vtas\n"
     ]
    },
    {
     "name": "stderr",
     "output_type": "stream",
     "text": [
      "  8%|▊         | 11/134 [00:05<01:03,  1.93it/s]"
     ]
    },
    {
     "name": "stdout",
     "output_type": "stream",
     "text": [
      "Copied /Volumes/One Touch/BWH_PD_DBS_MixedTarget/vtas/sub-0049/stimulation/sub-0049__sim-binary_model-simbio_hemi-bl_preprocessed_generated_nifti.nii to /Users/cu135/Dropbox (Partners HealthCare)/resources/datasets/BWH_PD_DBS_STN/compound_vtas\n"
     ]
    },
    {
     "name": "stderr",
     "output_type": "stream",
     "text": [
      "  9%|▉         | 12/134 [00:06<01:09,  1.75it/s]"
     ]
    },
    {
     "name": "stdout",
     "output_type": "stream",
     "text": [
      "Copied /Volumes/One Touch/BWH_PD_DBS_MixedTarget/vtas/sub-0051/stimulation/sub-0051__sim-binary_model-simbio_hemi-bl_preprocessed_generated_nifti.nii to /Users/cu135/Dropbox (Partners HealthCare)/resources/datasets/BWH_PD_DBS_STN/compound_vtas\n"
     ]
    },
    {
     "name": "stderr",
     "output_type": "stream",
     "text": [
      " 10%|█         | 14/134 [00:06<00:46,  2.59it/s]"
     ]
    },
    {
     "name": "stdout",
     "output_type": "stream",
     "text": [
      "Copied /Volumes/One Touch/BWH_PD_DBS_MixedTarget/vtas/sub-0052/stimulation/sub-0052__sim-binary_model-simbio_hemi-bl_preprocessed_generated_nifti.nii to /Users/cu135/Dropbox (Partners HealthCare)/resources/datasets/BWH_PD_DBS_STN/compound_vtas\n",
      "Copied /Volumes/One Touch/BWH_PD_DBS_MixedTarget/vtas/sub-0053/stimulation/sub-0053__sim-binary_model-simbio_hemi-bl_preprocessed_generated_nifti.nii to /Users/cu135/Dropbox (Partners HealthCare)/resources/datasets/BWH_PD_DBS_STN/compound_vtas\n"
     ]
    },
    {
     "name": "stderr",
     "output_type": "stream",
     "text": [
      " 11%|█         | 15/134 [00:06<00:41,  2.84it/s]"
     ]
    },
    {
     "name": "stdout",
     "output_type": "stream",
     "text": [
      "Copied /Volumes/One Touch/BWH_PD_DBS_MixedTarget/vtas/sub-0054/stimulation/sub-0054__sim-binary_model-simbio_hemi-bl_preprocessed_generated_nifti.nii to /Users/cu135/Dropbox (Partners HealthCare)/resources/datasets/BWH_PD_DBS_STN/compound_vtas\n"
     ]
    },
    {
     "name": "stderr",
     "output_type": "stream",
     "text": [
      " 12%|█▏        | 16/134 [00:07<00:51,  2.30it/s]"
     ]
    },
    {
     "name": "stdout",
     "output_type": "stream",
     "text": [
      "Copied /Volumes/One Touch/BWH_PD_DBS_MixedTarget/vtas/sub-0055/stimulation/sub-0055__sim-binary_model-simbio_hemi-bl_preprocessed_generated_nifti.nii to /Users/cu135/Dropbox (Partners HealthCare)/resources/datasets/BWH_PD_DBS_STN/compound_vtas\n"
     ]
    },
    {
     "name": "stderr",
     "output_type": "stream",
     "text": [
      " 13%|█▎        | 17/134 [00:07<00:52,  2.23it/s]"
     ]
    },
    {
     "name": "stdout",
     "output_type": "stream",
     "text": [
      "Copied /Volumes/One Touch/BWH_PD_DBS_MixedTarget/vtas/sub-0056/stimulation/sub-0056__sim-binary_model-simbio_hemi-bl_preprocessed_generated_nifti.nii to /Users/cu135/Dropbox (Partners HealthCare)/resources/datasets/BWH_PD_DBS_STN/compound_vtas\n"
     ]
    },
    {
     "name": "stderr",
     "output_type": "stream",
     "text": [
      " 13%|█▎        | 18/134 [00:08<01:03,  1.82it/s]"
     ]
    },
    {
     "name": "stdout",
     "output_type": "stream",
     "text": [
      "Copied /Volumes/One Touch/BWH_PD_DBS_MixedTarget/vtas/sub-0057/stimulation/sub-0057__sim-binary_model-simbio_hemi-bl_preprocessed_generated_nifti.nii to /Users/cu135/Dropbox (Partners HealthCare)/resources/datasets/BWH_PD_DBS_STN/compound_vtas\n"
     ]
    },
    {
     "name": "stderr",
     "output_type": "stream",
     "text": [
      " 14%|█▍        | 19/134 [00:09<01:07,  1.70it/s]"
     ]
    },
    {
     "name": "stdout",
     "output_type": "stream",
     "text": [
      "Copied /Volumes/One Touch/BWH_PD_DBS_MixedTarget/vtas/sub-0058/stimulation/sub-0058__sim-binary_model-simbio_hemi-bl_preprocessed_generated_nifti.nii to /Users/cu135/Dropbox (Partners HealthCare)/resources/datasets/BWH_PD_DBS_STN/compound_vtas\n"
     ]
    },
    {
     "name": "stderr",
     "output_type": "stream",
     "text": [
      " 15%|█▍        | 20/134 [00:09<01:04,  1.76it/s]"
     ]
    },
    {
     "name": "stdout",
     "output_type": "stream",
     "text": [
      "Copied /Volumes/One Touch/BWH_PD_DBS_MixedTarget/vtas/sub-0059/stimulation/sub-0059__sim-binary_model-simbio_hemi-bl_preprocessed_generated_nifti.nii to /Users/cu135/Dropbox (Partners HealthCare)/resources/datasets/BWH_PD_DBS_STN/compound_vtas\n"
     ]
    },
    {
     "name": "stderr",
     "output_type": "stream",
     "text": [
      " 16%|█▌        | 21/134 [00:10<01:07,  1.68it/s]"
     ]
    },
    {
     "name": "stdout",
     "output_type": "stream",
     "text": [
      "Copied /Volumes/One Touch/BWH_PD_DBS_MixedTarget/vtas/sub-0060/stimulation/sub-0060__sim-binary_model-simbio_hemi-bl_preprocessed_generated_nifti.nii to /Users/cu135/Dropbox (Partners HealthCare)/resources/datasets/BWH_PD_DBS_STN/compound_vtas\n"
     ]
    },
    {
     "name": "stderr",
     "output_type": "stream",
     "text": [
      " 16%|█▋        | 22/134 [00:11<01:05,  1.71it/s]"
     ]
    },
    {
     "name": "stdout",
     "output_type": "stream",
     "text": [
      "Copied /Volumes/One Touch/BWH_PD_DBS_MixedTarget/vtas/sub-0061/stimulation/sub-0061__sim-binary_model-simbio_hemi-bl_preprocessed_generated_nifti.nii to /Users/cu135/Dropbox (Partners HealthCare)/resources/datasets/BWH_PD_DBS_STN/compound_vtas\n"
     ]
    },
    {
     "name": "stderr",
     "output_type": "stream",
     "text": [
      " 17%|█▋        | 23/134 [00:11<00:57,  1.93it/s]"
     ]
    },
    {
     "name": "stdout",
     "output_type": "stream",
     "text": [
      "Copied /Volumes/One Touch/BWH_PD_DBS_MixedTarget/vtas/sub-0062/stimulation/sub-0062__sim-binary_model-simbio_hemi-bl_preprocessed_generated_nifti.nii to /Users/cu135/Dropbox (Partners HealthCare)/resources/datasets/BWH_PD_DBS_STN/compound_vtas\n"
     ]
    },
    {
     "name": "stderr",
     "output_type": "stream",
     "text": [
      " 19%|█▊        | 25/134 [00:11<00:37,  2.93it/s]"
     ]
    },
    {
     "name": "stdout",
     "output_type": "stream",
     "text": [
      "Copied /Volumes/One Touch/BWH_PD_DBS_MixedTarget/vtas/sub-0064/stimulation/sub-0064__sim-binary_model-simbio_hemi-bl_preprocessed_generated_nifti.nii to /Users/cu135/Dropbox (Partners HealthCare)/resources/datasets/BWH_PD_DBS_STN/compound_vtas\n",
      "Copied /Volumes/One Touch/BWH_PD_DBS_MixedTarget/vtas/sub-0066/stimulation/sub-0066__sim-binary_model-simbio_hemi-bl_preprocessed_generated_nifti.nii to /Users/cu135/Dropbox (Partners HealthCare)/resources/datasets/BWH_PD_DBS_STN/compound_vtas\n"
     ]
    },
    {
     "name": "stderr",
     "output_type": "stream",
     "text": [
      " 19%|█▉        | 26/134 [00:12<00:33,  3.18it/s]"
     ]
    },
    {
     "name": "stdout",
     "output_type": "stream",
     "text": [
      "Copied /Volumes/One Touch/BWH_PD_DBS_MixedTarget/vtas/sub-0067/stimulation/sub-0067__sim-binary_model-simbio_hemi-bl_preprocessed_generated_nifti.nii to /Users/cu135/Dropbox (Partners HealthCare)/resources/datasets/BWH_PD_DBS_STN/compound_vtas\n"
     ]
    },
    {
     "name": "stderr",
     "output_type": "stream",
     "text": [
      " 21%|██        | 28/134 [00:12<00:26,  4.07it/s]"
     ]
    },
    {
     "name": "stdout",
     "output_type": "stream",
     "text": [
      "Copied /Volumes/One Touch/BWH_PD_DBS_MixedTarget/vtas/sub-0071/stimulation/sub-0071__sim-binary_model-simbio_hemi-bl_preprocessed_generated_nifti.nii to /Users/cu135/Dropbox (Partners HealthCare)/resources/datasets/BWH_PD_DBS_STN/compound_vtas\n"
     ]
    },
    {
     "name": "stderr",
     "output_type": "stream",
     "text": [
      " 22%|██▏       | 29/134 [00:12<00:33,  3.15it/s]"
     ]
    },
    {
     "name": "stdout",
     "output_type": "stream",
     "text": [
      "Copied /Volumes/One Touch/BWH_PD_DBS_MixedTarget/vtas/sub-0072/stimulation/sub-0072__sim-binary_model-simbio_hemi-bl_preprocessed_generated_nifti.nii to /Users/cu135/Dropbox (Partners HealthCare)/resources/datasets/BWH_PD_DBS_STN/compound_vtas\n"
     ]
    },
    {
     "name": "stderr",
     "output_type": "stream",
     "text": [
      " 22%|██▏       | 30/134 [00:13<00:36,  2.85it/s]"
     ]
    },
    {
     "name": "stdout",
     "output_type": "stream",
     "text": [
      "Copied /Volumes/One Touch/BWH_PD_DBS_MixedTarget/vtas/sub-0073/stimulation/sub-0073__sim-binary_model-simbio_hemi-bl_preprocessed_generated_nifti.nii to /Users/cu135/Dropbox (Partners HealthCare)/resources/datasets/BWH_PD_DBS_STN/compound_vtas\n"
     ]
    },
    {
     "name": "stderr",
     "output_type": "stream",
     "text": [
      " 23%|██▎       | 31/134 [00:14<00:43,  2.36it/s]"
     ]
    },
    {
     "name": "stdout",
     "output_type": "stream",
     "text": [
      "Copied /Volumes/One Touch/BWH_PD_DBS_MixedTarget/vtas/sub-0074/stimulation/sub-0074__sim-binary_model-simbio_hemi-bl_preprocessed_generated_nifti.nii to /Users/cu135/Dropbox (Partners HealthCare)/resources/datasets/BWH_PD_DBS_STN/compound_vtas\n"
     ]
    },
    {
     "name": "stderr",
     "output_type": "stream",
     "text": [
      " 24%|██▍       | 32/134 [00:14<00:51,  1.97it/s]"
     ]
    },
    {
     "name": "stdout",
     "output_type": "stream",
     "text": [
      "Copied /Volumes/One Touch/BWH_PD_DBS_MixedTarget/vtas/sub-0075/stimulation/sub-0075__sim-binary_model-simbio_hemi-bl_preprocessed_generated_nifti.nii to /Users/cu135/Dropbox (Partners HealthCare)/resources/datasets/BWH_PD_DBS_STN/compound_vtas\n"
     ]
    },
    {
     "name": "stderr",
     "output_type": "stream",
     "text": [
      " 25%|██▍       | 33/134 [00:15<00:54,  1.86it/s]"
     ]
    },
    {
     "name": "stdout",
     "output_type": "stream",
     "text": [
      "Copied /Volumes/One Touch/BWH_PD_DBS_MixedTarget/vtas/sub-0076/stimulation/sub-0076__sim-binary_model-simbio_hemi-bl_preprocessed_generated_nifti.nii to /Users/cu135/Dropbox (Partners HealthCare)/resources/datasets/BWH_PD_DBS_STN/compound_vtas\n"
     ]
    },
    {
     "name": "stderr",
     "output_type": "stream",
     "text": [
      " 25%|██▌       | 34/134 [00:15<00:49,  2.02it/s]"
     ]
    },
    {
     "name": "stdout",
     "output_type": "stream",
     "text": [
      "Copied /Volumes/One Touch/BWH_PD_DBS_MixedTarget/vtas/sub-0077/stimulation/sub-0077__sim-binary_model-simbio_hemi-bl_preprocessed_generated_nifti.nii to /Users/cu135/Dropbox (Partners HealthCare)/resources/datasets/BWH_PD_DBS_STN/compound_vtas\n"
     ]
    },
    {
     "name": "stderr",
     "output_type": "stream",
     "text": [
      " 26%|██▌       | 35/134 [00:16<00:56,  1.74it/s]"
     ]
    },
    {
     "name": "stdout",
     "output_type": "stream",
     "text": [
      "Copied /Volumes/One Touch/BWH_PD_DBS_MixedTarget/vtas/sub-0078/stimulation/sub-0078__sim-binary_model-simbio_hemi-bl_preprocessed_generated_nifti.nii to /Users/cu135/Dropbox (Partners HealthCare)/resources/datasets/BWH_PD_DBS_STN/compound_vtas\n"
     ]
    },
    {
     "name": "stderr",
     "output_type": "stream",
     "text": [
      " 27%|██▋       | 36/134 [00:17<00:58,  1.68it/s]"
     ]
    },
    {
     "name": "stdout",
     "output_type": "stream",
     "text": [
      "Copied /Volumes/One Touch/BWH_PD_DBS_MixedTarget/vtas/sub-0079/stimulation/sub-0079__sim-binary_model-simbio_hemi-bl_preprocessed_generated_nifti.nii to /Users/cu135/Dropbox (Partners HealthCare)/resources/datasets/BWH_PD_DBS_STN/compound_vtas\n"
     ]
    },
    {
     "name": "stderr",
     "output_type": "stream",
     "text": [
      " 28%|██▊       | 37/134 [00:17<00:53,  1.82it/s]"
     ]
    },
    {
     "name": "stdout",
     "output_type": "stream",
     "text": [
      "Copied /Volumes/One Touch/BWH_PD_DBS_MixedTarget/vtas/sub-0080/stimulation/sub-0080__sim-binary_model-simbio_hemi-bl_preprocessed_generated_nifti.nii to /Users/cu135/Dropbox (Partners HealthCare)/resources/datasets/BWH_PD_DBS_STN/compound_vtas\n"
     ]
    },
    {
     "name": "stderr",
     "output_type": "stream",
     "text": [
      " 28%|██▊       | 38/134 [00:17<00:46,  2.06it/s]"
     ]
    },
    {
     "name": "stdout",
     "output_type": "stream",
     "text": [
      "Copied /Volumes/One Touch/BWH_PD_DBS_MixedTarget/vtas/sub-0081/stimulation/sub-0081__sim-binary_model-simbio_hemi-bl_preprocessed_generated_nifti.nii to /Users/cu135/Dropbox (Partners HealthCare)/resources/datasets/BWH_PD_DBS_STN/compound_vtas\n"
     ]
    },
    {
     "name": "stderr",
     "output_type": "stream",
     "text": [
      " 29%|██▉       | 39/134 [00:18<00:47,  1.99it/s]"
     ]
    },
    {
     "name": "stdout",
     "output_type": "stream",
     "text": [
      "Copied /Volumes/One Touch/BWH_PD_DBS_MixedTarget/vtas/sub-0082/stimulation/sub-0082__sim-binary_model-simbio_hemi-bl_preprocessed_generated_nifti.nii to /Users/cu135/Dropbox (Partners HealthCare)/resources/datasets/BWH_PD_DBS_STN/compound_vtas\n"
     ]
    },
    {
     "name": "stderr",
     "output_type": "stream",
     "text": [
      " 30%|██▉       | 40/134 [00:19<00:49,  1.89it/s]"
     ]
    },
    {
     "name": "stdout",
     "output_type": "stream",
     "text": [
      "Copied /Volumes/One Touch/BWH_PD_DBS_MixedTarget/vtas/sub-0084/stimulation/sub-0084__sim-binary_model-simbio_hemi-bl_preprocessed_generated_nifti.nii to /Users/cu135/Dropbox (Partners HealthCare)/resources/datasets/BWH_PD_DBS_STN/compound_vtas\n"
     ]
    },
    {
     "name": "stderr",
     "output_type": "stream",
     "text": [
      " 31%|███       | 41/134 [00:19<00:52,  1.77it/s]"
     ]
    },
    {
     "name": "stdout",
     "output_type": "stream",
     "text": [
      "Copied /Volumes/One Touch/BWH_PD_DBS_MixedTarget/vtas/sub-0085/stimulation/sub-0085__sim-binary_model-simbio_hemi-bl_preprocessed_generated_nifti.nii to /Users/cu135/Dropbox (Partners HealthCare)/resources/datasets/BWH_PD_DBS_STN/compound_vtas\n"
     ]
    },
    {
     "name": "stderr",
     "output_type": "stream",
     "text": [
      " 31%|███▏      | 42/134 [00:20<00:51,  1.79it/s]"
     ]
    },
    {
     "name": "stdout",
     "output_type": "stream",
     "text": [
      "Copied /Volumes/One Touch/BWH_PD_DBS_MixedTarget/vtas/sub-0088/stimulation/sub-0088__sim-binary_model-simbio_hemi-bl_preprocessed_generated_nifti.nii to /Users/cu135/Dropbox (Partners HealthCare)/resources/datasets/BWH_PD_DBS_STN/compound_vtas\n"
     ]
    },
    {
     "name": "stderr",
     "output_type": "stream",
     "text": [
      " 32%|███▏      | 43/134 [00:20<00:52,  1.74it/s]"
     ]
    },
    {
     "name": "stdout",
     "output_type": "stream",
     "text": [
      "Copied /Volumes/One Touch/BWH_PD_DBS_MixedTarget/vtas/sub-0090/stimulation/sub-0090__sim-binary_model-simbio_hemi-bl_preprocessed_generated_nifti.nii to /Users/cu135/Dropbox (Partners HealthCare)/resources/datasets/BWH_PD_DBS_STN/compound_vtas\n"
     ]
    },
    {
     "name": "stderr",
     "output_type": "stream",
     "text": [
      " 33%|███▎      | 44/134 [00:21<00:48,  1.85it/s]"
     ]
    },
    {
     "name": "stdout",
     "output_type": "stream",
     "text": [
      "Copied /Volumes/One Touch/BWH_PD_DBS_MixedTarget/vtas/sub-0091/stimulation/sub-0091__sim-binary_model-simbio_hemi-bl_preprocessed_generated_nifti.nii to /Users/cu135/Dropbox (Partners HealthCare)/resources/datasets/BWH_PD_DBS_STN/compound_vtas\n"
     ]
    },
    {
     "name": "stderr",
     "output_type": "stream",
     "text": [
      " 34%|███▎      | 45/134 [00:21<00:43,  2.05it/s]"
     ]
    },
    {
     "name": "stdout",
     "output_type": "stream",
     "text": [
      "Copied /Volumes/One Touch/BWH_PD_DBS_MixedTarget/vtas/sub-0092/stimulation/sub-0092__sim-binary_model-simbio_hemi-bl_preprocessed_generated_nifti.nii to /Users/cu135/Dropbox (Partners HealthCare)/resources/datasets/BWH_PD_DBS_STN/compound_vtas\n"
     ]
    },
    {
     "name": "stderr",
     "output_type": "stream",
     "text": [
      " 35%|███▌      | 47/134 [00:22<00:33,  2.63it/s]"
     ]
    },
    {
     "name": "stdout",
     "output_type": "stream",
     "text": [
      "Copied /Volumes/One Touch/BWH_PD_DBS_MixedTarget/vtas/sub-0093/stimulation/sub-0093__sim-binary_model-simbio_hemi-bl_preprocessed_generated_nifti.nii to /Users/cu135/Dropbox (Partners HealthCare)/resources/datasets/BWH_PD_DBS_STN/compound_vtas\n",
      "Copied /Volumes/One Touch/BWH_PD_DBS_MixedTarget/vtas/sub-0095/stimulation/sub-0095__sim-binary_model-simbio_hemi-bl_preprocessed_generated_nifti.nii to /Users/cu135/Dropbox (Partners HealthCare)/resources/datasets/BWH_PD_DBS_STN/compound_vtas\n"
     ]
    },
    {
     "name": "stderr",
     "output_type": "stream",
     "text": [
      " 36%|███▌      | 48/134 [00:22<00:30,  2.84it/s]"
     ]
    },
    {
     "name": "stdout",
     "output_type": "stream",
     "text": [
      "Copied /Volumes/One Touch/BWH_PD_DBS_MixedTarget/vtas/sub-0096/stimulation/sub-0096__sim-binary_model-simbio_hemi-bl_preprocessed_generated_nifti.nii to /Users/cu135/Dropbox (Partners HealthCare)/resources/datasets/BWH_PD_DBS_STN/compound_vtas\n"
     ]
    },
    {
     "name": "stderr",
     "output_type": "stream",
     "text": [
      " 37%|███▋      | 49/134 [00:23<00:34,  2.47it/s]"
     ]
    },
    {
     "name": "stdout",
     "output_type": "stream",
     "text": [
      "Copied /Volumes/One Touch/BWH_PD_DBS_MixedTarget/vtas/sub-0097/stimulation/sub-0097__sim-binary_model-simbio_hemi-bl_preprocessed_generated_nifti.nii to /Users/cu135/Dropbox (Partners HealthCare)/resources/datasets/BWH_PD_DBS_STN/compound_vtas\n"
     ]
    },
    {
     "name": "stderr",
     "output_type": "stream",
     "text": [
      " 37%|███▋      | 50/134 [00:23<00:38,  2.19it/s]"
     ]
    },
    {
     "name": "stdout",
     "output_type": "stream",
     "text": [
      "Copied /Volumes/One Touch/BWH_PD_DBS_MixedTarget/vtas/sub-0098/stimulation/sub-0098__sim-binary_model-simbio_hemi-bl_preprocessed_generated_nifti.nii to /Users/cu135/Dropbox (Partners HealthCare)/resources/datasets/BWH_PD_DBS_STN/compound_vtas\n"
     ]
    },
    {
     "name": "stderr",
     "output_type": "stream",
     "text": [
      " 38%|███▊      | 51/134 [00:24<00:48,  1.72it/s]"
     ]
    },
    {
     "name": "stdout",
     "output_type": "stream",
     "text": [
      "Copied /Volumes/One Touch/BWH_PD_DBS_MixedTarget/vtas/sub-0099/stimulation/sub-0099__sim-binary_model-simbio_hemi-bl_preprocessed_generated_nifti.nii to /Users/cu135/Dropbox (Partners HealthCare)/resources/datasets/BWH_PD_DBS_STN/compound_vtas\n"
     ]
    },
    {
     "name": "stderr",
     "output_type": "stream",
     "text": [
      " 40%|███▉      | 53/134 [00:25<00:31,  2.54it/s]"
     ]
    },
    {
     "name": "stdout",
     "output_type": "stream",
     "text": [
      "Copied /Volumes/One Touch/BWH_PD_DBS_MixedTarget/vtas/sub-0101/stimulation/sub-0101__sim-binary_model-simbio_hemi-bl_preprocessed_generated_nifti.nii to /Users/cu135/Dropbox (Partners HealthCare)/resources/datasets/BWH_PD_DBS_STN/compound_vtas\n",
      "Copied /Volumes/One Touch/BWH_PD_DBS_MixedTarget/vtas/sub-0102/stimulation/sub-0102__sim-binary_model-simbio_hemi-bl_preprocessed_generated_nifti.nii to /Users/cu135/Dropbox (Partners HealthCare)/resources/datasets/BWH_PD_DBS_STN/compound_vtas\n"
     ]
    },
    {
     "name": "stderr",
     "output_type": "stream",
     "text": [
      " 40%|████      | 54/134 [00:25<00:31,  2.57it/s]"
     ]
    },
    {
     "name": "stdout",
     "output_type": "stream",
     "text": [
      "Copied /Volumes/One Touch/BWH_PD_DBS_MixedTarget/vtas/sub-0103/stimulation/sub-0103__sim-binary_model-simbio_hemi-bl_preprocessed_generated_nifti.nii to /Users/cu135/Dropbox (Partners HealthCare)/resources/datasets/BWH_PD_DBS_STN/compound_vtas\n"
     ]
    },
    {
     "name": "stderr",
     "output_type": "stream",
     "text": [
      " 41%|████      | 55/134 [00:25<00:30,  2.59it/s]"
     ]
    },
    {
     "name": "stdout",
     "output_type": "stream",
     "text": [
      "Copied /Volumes/One Touch/BWH_PD_DBS_MixedTarget/vtas/sub-0104/stimulation/sub-0104__sim-binary_model-simbio_hemi-bl_preprocessed_generated_nifti.nii to /Users/cu135/Dropbox (Partners HealthCare)/resources/datasets/BWH_PD_DBS_STN/compound_vtas\n"
     ]
    },
    {
     "name": "stderr",
     "output_type": "stream",
     "text": [
      " 42%|████▏     | 56/134 [00:26<00:41,  1.86it/s]"
     ]
    },
    {
     "name": "stdout",
     "output_type": "stream",
     "text": [
      "Copied /Volumes/One Touch/BWH_PD_DBS_MixedTarget/vtas/sub-0115/stimulation/sub-0115__sim-binary_model-simbio_hemi-bl_preprocessed_generated_nifti.nii to /Users/cu135/Dropbox (Partners HealthCare)/resources/datasets/BWH_PD_DBS_STN/compound_vtas\n"
     ]
    },
    {
     "name": "stderr",
     "output_type": "stream",
     "text": [
      " 43%|████▎     | 57/134 [00:27<00:46,  1.65it/s]"
     ]
    },
    {
     "name": "stdout",
     "output_type": "stream",
     "text": [
      "Copied /Volumes/One Touch/BWH_PD_DBS_MixedTarget/vtas/sub-0120/stimulation/sub-0120__sim-binary_model-simbio_hemi-bl_preprocessed_generated_nifti.nii to /Users/cu135/Dropbox (Partners HealthCare)/resources/datasets/BWH_PD_DBS_STN/compound_vtas\n"
     ]
    },
    {
     "name": "stderr",
     "output_type": "stream",
     "text": [
      " 43%|████▎     | 58/134 [00:28<00:45,  1.66it/s]"
     ]
    },
    {
     "name": "stdout",
     "output_type": "stream",
     "text": [
      "Copied /Volumes/One Touch/BWH_PD_DBS_MixedTarget/vtas/sub-0126/stimulation/sub-0126__sim-binary_model-simbio_hemi-bl_preprocessed_generated_nifti.nii to /Users/cu135/Dropbox (Partners HealthCare)/resources/datasets/BWH_PD_DBS_STN/compound_vtas\n"
     ]
    },
    {
     "name": "stderr",
     "output_type": "stream",
     "text": [
      " 44%|████▍     | 59/134 [00:29<00:52,  1.43it/s]"
     ]
    },
    {
     "name": "stdout",
     "output_type": "stream",
     "text": [
      "Copied /Volumes/One Touch/BWH_PD_DBS_MixedTarget/vtas/sub-0127/stimulation/sub-0127__sim-binary_model-simbio_hemi-bl_preprocessed_generated_nifti.nii to /Users/cu135/Dropbox (Partners HealthCare)/resources/datasets/BWH_PD_DBS_STN/compound_vtas\n"
     ]
    },
    {
     "name": "stderr",
     "output_type": "stream",
     "text": [
      " 45%|████▍     | 60/134 [00:29<00:45,  1.61it/s]"
     ]
    },
    {
     "name": "stdout",
     "output_type": "stream",
     "text": [
      "Copied /Volumes/One Touch/BWH_PD_DBS_MixedTarget/vtas/sub-0128/stimulation/sub-0128__sim-binary_model-simbio_hemi-bl_preprocessed_generated_nifti.nii to /Users/cu135/Dropbox (Partners HealthCare)/resources/datasets/BWH_PD_DBS_STN/compound_vtas\n"
     ]
    },
    {
     "name": "stderr",
     "output_type": "stream",
     "text": [
      " 46%|████▌     | 61/134 [00:30<00:46,  1.56it/s]"
     ]
    },
    {
     "name": "stdout",
     "output_type": "stream",
     "text": [
      "Copied /Volumes/One Touch/BWH_PD_DBS_MixedTarget/vtas/sub-0129/stimulation/sub-0129__sim-binary_model-simbio_hemi-bl_preprocessed_generated_nifti.nii to /Users/cu135/Dropbox (Partners HealthCare)/resources/datasets/BWH_PD_DBS_STN/compound_vtas\n"
     ]
    },
    {
     "name": "stderr",
     "output_type": "stream",
     "text": [
      " 46%|████▋     | 62/134 [00:30<00:48,  1.48it/s]"
     ]
    },
    {
     "name": "stdout",
     "output_type": "stream",
     "text": [
      "Copied /Volumes/One Touch/BWH_PD_DBS_MixedTarget/vtas/sub-0131/stimulation/sub-0131__sim-binary_model-simbio_hemi-bl_preprocessed_generated_nifti.nii to /Users/cu135/Dropbox (Partners HealthCare)/resources/datasets/BWH_PD_DBS_STN/compound_vtas\n"
     ]
    },
    {
     "name": "stderr",
     "output_type": "stream",
     "text": [
      " 47%|████▋     | 63/134 [00:31<00:43,  1.65it/s]"
     ]
    },
    {
     "name": "stdout",
     "output_type": "stream",
     "text": [
      "Copied /Volumes/One Touch/BWH_PD_DBS_MixedTarget/vtas/sub-0152/stimulation/sub-0152__sim-binary_model-simbio_hemi-bl_preprocessed_generated_nifti.nii to /Users/cu135/Dropbox (Partners HealthCare)/resources/datasets/BWH_PD_DBS_STN/compound_vtas\n"
     ]
    },
    {
     "name": "stderr",
     "output_type": "stream",
     "text": [
      " 48%|████▊     | 64/134 [00:32<00:44,  1.57it/s]"
     ]
    },
    {
     "name": "stdout",
     "output_type": "stream",
     "text": [
      "Copied /Volumes/One Touch/BWH_PD_DBS_MixedTarget/vtas/sub-0156/stimulation/sub-0156__sim-binary_model-simbio_hemi-bl_preprocessed_generated_nifti.nii to /Users/cu135/Dropbox (Partners HealthCare)/resources/datasets/BWH_PD_DBS_STN/compound_vtas\n"
     ]
    },
    {
     "name": "stderr",
     "output_type": "stream",
     "text": [
      " 49%|████▊     | 65/134 [00:33<00:51,  1.33it/s]"
     ]
    },
    {
     "name": "stdout",
     "output_type": "stream",
     "text": [
      "Copied /Volumes/One Touch/BWH_PD_DBS_MixedTarget/vtas/sub-0160/stimulation/sub-0160__sim-binary_model-simbio_hemi-bl_preprocessed_generated_nifti.nii to /Users/cu135/Dropbox (Partners HealthCare)/resources/datasets/BWH_PD_DBS_STN/compound_vtas\n"
     ]
    },
    {
     "name": "stderr",
     "output_type": "stream",
     "text": [
      " 49%|████▉     | 66/134 [00:33<00:50,  1.36it/s]"
     ]
    },
    {
     "name": "stdout",
     "output_type": "stream",
     "text": [
      "Copied /Volumes/One Touch/BWH_PD_DBS_MixedTarget/vtas/sub-0171/stimulation/sub-0171__sim-binary_model-simbio_hemi-bl_preprocessed_generated_nifti.nii to /Users/cu135/Dropbox (Partners HealthCare)/resources/datasets/BWH_PD_DBS_STN/compound_vtas\n"
     ]
    },
    {
     "name": "stderr",
     "output_type": "stream",
     "text": [
      " 50%|█████     | 67/134 [00:34<00:40,  1.64it/s]"
     ]
    },
    {
     "name": "stdout",
     "output_type": "stream",
     "text": [
      "Copied /Volumes/One Touch/BWH_PD_DBS_MixedTarget/vtas/sub-0173/stimulation/sub-0173__sim-binary_model-simbio_hemi-bl_preprocessed_generated_nifti.nii to /Users/cu135/Dropbox (Partners HealthCare)/resources/datasets/BWH_PD_DBS_STN/compound_vtas\n"
     ]
    },
    {
     "name": "stderr",
     "output_type": "stream",
     "text": [
      " 51%|█████     | 68/134 [00:34<00:34,  1.91it/s]"
     ]
    },
    {
     "name": "stdout",
     "output_type": "stream",
     "text": [
      "Copied /Volumes/One Touch/BWH_PD_DBS_MixedTarget/vtas/sub-0174/stimulation/sub-0174__sim-binary_model-simbio_hemi-bl_preprocessed_generated_nifti.nii to /Users/cu135/Dropbox (Partners HealthCare)/resources/datasets/BWH_PD_DBS_STN/compound_vtas\n"
     ]
    },
    {
     "name": "stderr",
     "output_type": "stream",
     "text": [
      " 51%|█████▏    | 69/134 [00:34<00:29,  2.21it/s]"
     ]
    },
    {
     "name": "stdout",
     "output_type": "stream",
     "text": [
      "Copied /Volumes/One Touch/BWH_PD_DBS_MixedTarget/vtas/sub-0176/stimulation/sub-0176__sim-binary_model-simbio_hemi-bl_preprocessed_generated_nifti.nii to /Users/cu135/Dropbox (Partners HealthCare)/resources/datasets/BWH_PD_DBS_STN/compound_vtas\n"
     ]
    },
    {
     "name": "stderr",
     "output_type": "stream",
     "text": [
      " 53%|█████▎    | 71/134 [00:35<00:20,  3.09it/s]"
     ]
    },
    {
     "name": "stdout",
     "output_type": "stream",
     "text": [
      "Copied /Volumes/One Touch/BWH_PD_DBS_MixedTarget/vtas/sub-0180/stimulation/sub-0180__sim-binary_model-simbio_hemi-bl_preprocessed_generated_nifti.nii to /Users/cu135/Dropbox (Partners HealthCare)/resources/datasets/BWH_PD_DBS_STN/compound_vtas\n",
      "Copied /Volumes/One Touch/BWH_PD_DBS_MixedTarget/vtas/sub-0181/stimulation/sub-0181__sim-binary_model-simbio_hemi-bl_preprocessed_generated_nifti.nii to /Users/cu135/Dropbox (Partners HealthCare)/resources/datasets/BWH_PD_DBS_STN/compound_vtas\n"
     ]
    },
    {
     "name": "stderr",
     "output_type": "stream",
     "text": [
      " 54%|█████▎    | 72/134 [00:35<00:26,  2.31it/s]"
     ]
    },
    {
     "name": "stdout",
     "output_type": "stream",
     "text": [
      "Copied /Volumes/One Touch/BWH_PD_DBS_MixedTarget/vtas/sub-0184/stimulation/sub-0184__sim-binary_model-simbio_hemi-bl_preprocessed_generated_nifti.nii to /Users/cu135/Dropbox (Partners HealthCare)/resources/datasets/BWH_PD_DBS_STN/compound_vtas\n"
     ]
    },
    {
     "name": "stderr",
     "output_type": "stream",
     "text": [
      " 54%|█████▍    | 73/134 [00:36<00:28,  2.13it/s]"
     ]
    },
    {
     "name": "stdout",
     "output_type": "stream",
     "text": [
      "Copied /Volumes/One Touch/BWH_PD_DBS_MixedTarget/vtas/sub-0185/stimulation/sub-0185__sim-binary_model-simbio_hemi-bl_preprocessed_generated_nifti.nii to /Users/cu135/Dropbox (Partners HealthCare)/resources/datasets/BWH_PD_DBS_STN/compound_vtas\n"
     ]
    },
    {
     "name": "stderr",
     "output_type": "stream",
     "text": [
      " 55%|█████▌    | 74/134 [00:37<00:32,  1.87it/s]"
     ]
    },
    {
     "name": "stdout",
     "output_type": "stream",
     "text": [
      "Copied /Volumes/One Touch/BWH_PD_DBS_MixedTarget/vtas/sub-0186/stimulation/sub-0186__sim-binary_model-simbio_hemi-bl_preprocessed_generated_nifti.nii to /Users/cu135/Dropbox (Partners HealthCare)/resources/datasets/BWH_PD_DBS_STN/compound_vtas\n"
     ]
    },
    {
     "name": "stderr",
     "output_type": "stream",
     "text": [
      " 56%|█████▌    | 75/134 [00:37<00:28,  2.07it/s]"
     ]
    },
    {
     "name": "stdout",
     "output_type": "stream",
     "text": [
      "Copied /Volumes/One Touch/BWH_PD_DBS_MixedTarget/vtas/sub-0187/stimulation/sub-0187__sim-binary_model-simbio_hemi-bl_preprocessed_generated_nifti.nii to /Users/cu135/Dropbox (Partners HealthCare)/resources/datasets/BWH_PD_DBS_STN/compound_vtas\n"
     ]
    },
    {
     "name": "stderr",
     "output_type": "stream",
     "text": [
      " 57%|█████▋    | 76/134 [00:37<00:25,  2.27it/s]"
     ]
    },
    {
     "name": "stdout",
     "output_type": "stream",
     "text": [
      "Copied /Volumes/One Touch/BWH_PD_DBS_MixedTarget/vtas/sub-0190/stimulation/sub-0190__sim-binary_model-simbio_hemi-bl_preprocessed_generated_nifti.nii to /Users/cu135/Dropbox (Partners HealthCare)/resources/datasets/BWH_PD_DBS_STN/compound_vtas\n"
     ]
    },
    {
     "name": "stderr",
     "output_type": "stream",
     "text": [
      " 57%|█████▋    | 77/134 [00:38<00:26,  2.19it/s]"
     ]
    },
    {
     "name": "stdout",
     "output_type": "stream",
     "text": [
      "Copied /Volumes/One Touch/BWH_PD_DBS_MixedTarget/vtas/sub-0201/stimulation/sub-0201__sim-binary_model-simbio_hemi-bl_preprocessed_generated_nifti.nii to /Users/cu135/Dropbox (Partners HealthCare)/resources/datasets/BWH_PD_DBS_STN/compound_vtas\n"
     ]
    },
    {
     "name": "stderr",
     "output_type": "stream",
     "text": [
      " 59%|█████▉    | 79/134 [00:38<00:18,  2.95it/s]"
     ]
    },
    {
     "name": "stdout",
     "output_type": "stream",
     "text": [
      "Copied /Volumes/One Touch/BWH_PD_DBS_MixedTarget/vtas/sub-0203/stimulation/sub-0203__sim-binary_model-simbio_hemi-bl_preprocessed_generated_nifti.nii to /Users/cu135/Dropbox (Partners HealthCare)/resources/datasets/BWH_PD_DBS_STN/compound_vtas\n",
      "Copied /Volumes/One Touch/BWH_PD_DBS_MixedTarget/vtas/sub-0205/stimulation/sub-0205__sim-binary_model-simbio_hemi-bl_preprocessed_generated_nifti.nii to /Users/cu135/Dropbox (Partners HealthCare)/resources/datasets/BWH_PD_DBS_STN/compound_vtas\n",
      "Copied /Volumes/One Touch/BWH_PD_DBS_MixedTarget/vtas/sub-0206/stimulation/sub-0206__sim-binary_model-simbio_hemi-bl_preprocessed_generated_nifti.nii to /Users/cu135/Dropbox (Partners HealthCare)/resources/datasets/BWH_PD_DBS_STN/compound_vtas\n"
     ]
    },
    {
     "name": "stderr",
     "output_type": "stream",
     "text": [
      " 60%|██████    | 81/134 [00:38<00:12,  4.22it/s]"
     ]
    },
    {
     "name": "stdout",
     "output_type": "stream",
     "text": [
      "Copied /Volumes/One Touch/BWH_PD_DBS_MixedTarget/vtas/sub-0208/stimulation/sub-0208__sim-binary_model-simbio_hemi-bl_preprocessed_generated_nifti.nii to /Users/cu135/Dropbox (Partners HealthCare)/resources/datasets/BWH_PD_DBS_STN/compound_vtas\n"
     ]
    },
    {
     "name": "stderr",
     "output_type": "stream",
     "text": [
      " 62%|██████▏   | 83/134 [00:39<00:11,  4.27it/s]"
     ]
    },
    {
     "name": "stdout",
     "output_type": "stream",
     "text": [
      "Copied /Volumes/One Touch/BWH_PD_DBS_MixedTarget/vtas/sub-0209/stimulation/sub-0209__sim-binary_model-simbio_hemi-bl_preprocessed_generated_nifti.nii to /Users/cu135/Dropbox (Partners HealthCare)/resources/datasets/BWH_PD_DBS_STN/compound_vtas\n",
      "Copied /Volumes/One Touch/BWH_PD_DBS_MixedTarget/vtas/sub-0211/stimulation/sub-0211__sim-binary_model-simbio_hemi-bl_preprocessed_generated_nifti.nii to /Users/cu135/Dropbox (Partners HealthCare)/resources/datasets/BWH_PD_DBS_STN/compound_vtas\n"
     ]
    },
    {
     "name": "stderr",
     "output_type": "stream",
     "text": [
      " 63%|██████▎   | 85/134 [00:39<00:09,  4.92it/s]"
     ]
    },
    {
     "name": "stdout",
     "output_type": "stream",
     "text": [
      "Copied /Volumes/One Touch/BWH_PD_DBS_MixedTarget/vtas/sub-0214/stimulation/sub-0214__sim-binary_model-simbio_hemi-bl_preprocessed_generated_nifti.nii to /Users/cu135/Dropbox (Partners HealthCare)/resources/datasets/BWH_PD_DBS_STN/compound_vtas\n",
      "Copied /Volumes/One Touch/BWH_PD_DBS_MixedTarget/vtas/sub-0215/stimulation/sub-0215__sim-binary_model-simbio_hemi-bl_preprocessed_generated_nifti.nii to /Users/cu135/Dropbox (Partners HealthCare)/resources/datasets/BWH_PD_DBS_STN/compound_vtas\n"
     ]
    },
    {
     "name": "stderr",
     "output_type": "stream",
     "text": [
      " 65%|██████▍   | 87/134 [00:40<00:08,  5.84it/s]"
     ]
    },
    {
     "name": "stdout",
     "output_type": "stream",
     "text": [
      "Copied /Volumes/One Touch/BWH_PD_DBS_MixedTarget/vtas/sub-0221/stimulation/sub-0221__sim-binary_model-simbio_hemi-bl_preprocessed_generated_nifti.nii to /Users/cu135/Dropbox (Partners HealthCare)/resources/datasets/BWH_PD_DBS_STN/compound_vtas\n",
      "Copied /Volumes/One Touch/BWH_PD_DBS_MixedTarget/vtas/sub-0223/stimulation/sub-0223__sim-binary_model-simbio_hemi-bl_preprocessed_generated_nifti.nii to /Users/cu135/Dropbox (Partners HealthCare)/resources/datasets/BWH_PD_DBS_STN/compound_vtas\n"
     ]
    },
    {
     "name": "stderr",
     "output_type": "stream",
     "text": [
      " 66%|██████▋   | 89/134 [00:40<00:07,  5.74it/s]"
     ]
    },
    {
     "name": "stdout",
     "output_type": "stream",
     "text": [
      "Copied /Volumes/One Touch/BWH_PD_DBS_MixedTarget/vtas/sub-0224/stimulation/sub-0224__sim-binary_model-simbio_hemi-bl_preprocessed_generated_nifti.nii to /Users/cu135/Dropbox (Partners HealthCare)/resources/datasets/BWH_PD_DBS_STN/compound_vtas\n",
      "Copied /Volumes/One Touch/BWH_PD_DBS_MixedTarget/vtas/sub-0230/stimulation/sub-0230__sim-binary_model-simbio_hemi-bl_preprocessed_generated_nifti.nii to /Users/cu135/Dropbox (Partners HealthCare)/resources/datasets/BWH_PD_DBS_STN/compound_vtas\n"
     ]
    },
    {
     "name": "stderr",
     "output_type": "stream",
     "text": [
      " 68%|██████▊   | 91/134 [00:40<00:07,  5.49it/s]"
     ]
    },
    {
     "name": "stdout",
     "output_type": "stream",
     "text": [
      "Copied /Volumes/One Touch/BWH_PD_DBS_MixedTarget/vtas/sub-0231/stimulation/sub-0231__sim-binary_model-simbio_hemi-bl_preprocessed_generated_nifti.nii to /Users/cu135/Dropbox (Partners HealthCare)/resources/datasets/BWH_PD_DBS_STN/compound_vtas\n",
      "Copied /Volumes/One Touch/BWH_PD_DBS_MixedTarget/vtas/sub-0232/stimulation/sub-0232__sim-binary_model-simbio_hemi-bl_preprocessed_generated_nifti.nii to /Users/cu135/Dropbox (Partners HealthCare)/resources/datasets/BWH_PD_DBS_STN/compound_vtas\n"
     ]
    },
    {
     "name": "stderr",
     "output_type": "stream",
     "text": [
      " 69%|██████▉   | 93/134 [00:41<00:08,  5.06it/s]"
     ]
    },
    {
     "name": "stdout",
     "output_type": "stream",
     "text": [
      "Copied /Volumes/One Touch/BWH_PD_DBS_MixedTarget/vtas/sub-0233/stimulation/sub-0233__sim-binary_model-simbio_hemi-bl_preprocessed_generated_nifti.nii to /Users/cu135/Dropbox (Partners HealthCare)/resources/datasets/BWH_PD_DBS_STN/compound_vtas\n",
      "Copied /Volumes/One Touch/BWH_PD_DBS_MixedTarget/vtas/sub-0235/stimulation/sub-0235__sim-binary_model-simbio_hemi-bl_preprocessed_generated_nifti.nii to /Users/cu135/Dropbox (Partners HealthCare)/resources/datasets/BWH_PD_DBS_STN/compound_vtas\n"
     ]
    },
    {
     "name": "stderr",
     "output_type": "stream",
     "text": [
      " 72%|███████▏  | 96/134 [00:41<00:05,  6.60it/s]"
     ]
    },
    {
     "name": "stdout",
     "output_type": "stream",
     "text": [
      "Copied /Volumes/One Touch/BWH_PD_DBS_MixedTarget/vtas/sub-0237/stimulation/sub-0237__sim-binary_model-simbio_hemi-bl_preprocessed_generated_nifti.nii to /Users/cu135/Dropbox (Partners HealthCare)/resources/datasets/BWH_PD_DBS_STN/compound_vtas\n",
      "Copied /Volumes/One Touch/BWH_PD_DBS_MixedTarget/vtas/sub-0238/stimulation/sub-0238__sim-binary_model-simbio_hemi-bl_preprocessed_generated_nifti.nii to /Users/cu135/Dropbox (Partners HealthCare)/resources/datasets/BWH_PD_DBS_STN/compound_vtas\n",
      "Copied /Volumes/One Touch/BWH_PD_DBS_MixedTarget/vtas/sub-0242/stimulation/sub-0242__sim-binary_model-simbio_hemi-bl_preprocessed_generated_nifti.nii to /Users/cu135/Dropbox (Partners HealthCare)/resources/datasets/BWH_PD_DBS_STN/compound_vtas\n"
     ]
    },
    {
     "name": "stderr",
     "output_type": "stream",
     "text": [
      " 74%|███████▍  | 99/134 [00:41<00:04,  8.63it/s]"
     ]
    },
    {
     "name": "stdout",
     "output_type": "stream",
     "text": [
      "Copied /Volumes/One Touch/BWH_PD_DBS_MixedTarget/vtas/sub-0243/stimulation/sub-0243__sim-binary_model-simbio_hemi-bl_preprocessed_generated_nifti.nii to /Users/cu135/Dropbox (Partners HealthCare)/resources/datasets/BWH_PD_DBS_STN/compound_vtas\n",
      "Copied /Volumes/One Touch/BWH_PD_DBS_MixedTarget/vtas/sub-0247/stimulation/sub-0247__sim-binary_model-simbio_hemi-bl_preprocessed_generated_nifti.nii to /Users/cu135/Dropbox (Partners HealthCare)/resources/datasets/BWH_PD_DBS_STN/compound_vtas\n"
     ]
    },
    {
     "name": "stderr",
     "output_type": "stream",
     "text": [
      " 75%|███████▌  | 101/134 [00:42<00:04,  7.27it/s]"
     ]
    },
    {
     "name": "stdout",
     "output_type": "stream",
     "text": [
      "Copied /Volumes/One Touch/BWH_PD_DBS_MixedTarget/vtas/sub-0248/stimulation/sub-0248__sim-binary_model-simbio_hemi-bl_preprocessed_generated_nifti.nii to /Users/cu135/Dropbox (Partners HealthCare)/resources/datasets/BWH_PD_DBS_STN/compound_vtas\n",
      "Copied /Volumes/One Touch/BWH_PD_DBS_MixedTarget/vtas/sub-0249/stimulation/sub-0249__sim-binary_model-simbio_hemi-bl_preprocessed_generated_nifti.nii to /Users/cu135/Dropbox (Partners HealthCare)/resources/datasets/BWH_PD_DBS_STN/compound_vtas\n"
     ]
    },
    {
     "name": "stderr",
     "output_type": "stream",
     "text": [
      " 76%|███████▌  | 102/134 [00:42<00:04,  6.81it/s]"
     ]
    },
    {
     "name": "stdout",
     "output_type": "stream",
     "text": [
      "Copied /Volumes/One Touch/BWH_PD_DBS_MixedTarget/vtas/sub-0251/stimulation/sub-0251__sim-binary_model-simbio_hemi-bl_preprocessed_generated_nifti.nii to /Users/cu135/Dropbox (Partners HealthCare)/resources/datasets/BWH_PD_DBS_STN/compound_vtas\n"
     ]
    },
    {
     "name": "stderr",
     "output_type": "stream",
     "text": [
      " 78%|███████▊  | 104/134 [00:42<00:05,  5.87it/s]"
     ]
    },
    {
     "name": "stdout",
     "output_type": "stream",
     "text": [
      "Copied /Volumes/One Touch/BWH_PD_DBS_MixedTarget/vtas/sub-0254/stimulation/sub-0254__sim-binary_model-simbio_hemi-bl_preprocessed_generated_nifti.nii to /Users/cu135/Dropbox (Partners HealthCare)/resources/datasets/BWH_PD_DBS_STN/compound_vtas\n",
      "Copied /Volumes/One Touch/BWH_PD_DBS_MixedTarget/vtas/sub-0255/stimulation/sub-0255__sim-binary_model-simbio_hemi-bl_preprocessed_generated_nifti.nii to /Users/cu135/Dropbox (Partners HealthCare)/resources/datasets/BWH_PD_DBS_STN/compound_vtas\n"
     ]
    },
    {
     "name": "stderr",
     "output_type": "stream",
     "text": [
      " 78%|███████▊  | 105/134 [00:43<00:04,  6.27it/s]"
     ]
    },
    {
     "name": "stdout",
     "output_type": "stream",
     "text": [
      "Copied /Volumes/One Touch/BWH_PD_DBS_MixedTarget/vtas/sub-0256/stimulation/sub-0256__sim-binary_model-simbio_hemi-bl_preprocessed_generated_nifti.nii to /Users/cu135/Dropbox (Partners HealthCare)/resources/datasets/BWH_PD_DBS_STN/compound_vtas\n",
      "Copied /Volumes/One Touch/BWH_PD_DBS_MixedTarget/vtas/sub-0257/stimulation/sub-0257__sim-binary_model-simbio_hemi-bl_preprocessed_generated_nifti.nii to /Users/cu135/Dropbox (Partners HealthCare)/resources/datasets/BWH_PD_DBS_STN/compound_vtas\n"
     ]
    },
    {
     "name": "stderr",
     "output_type": "stream",
     "text": [
      " 81%|████████  | 108/134 [00:43<00:03,  6.92it/s]"
     ]
    },
    {
     "name": "stdout",
     "output_type": "stream",
     "text": [
      "Copied /Volumes/One Touch/BWH_PD_DBS_MixedTarget/vtas/sub-0258/stimulation/sub-0258__sim-binary_model-simbio_hemi-bl_preprocessed_generated_nifti.nii to /Users/cu135/Dropbox (Partners HealthCare)/resources/datasets/BWH_PD_DBS_STN/compound_vtas\n",
      "Copied /Volumes/One Touch/BWH_PD_DBS_MixedTarget/vtas/sub-0260/stimulation/sub-0260__sim-binary_model-simbio_hemi-bl_preprocessed_generated_nifti.nii to /Users/cu135/Dropbox (Partners HealthCare)/resources/datasets/BWH_PD_DBS_STN/compound_vtas\n"
     ]
    },
    {
     "name": "stderr",
     "output_type": "stream",
     "text": [
      " 81%|████████▏ | 109/134 [00:43<00:06,  3.98it/s]"
     ]
    },
    {
     "name": "stdout",
     "output_type": "stream",
     "text": [
      "Copied /Volumes/One Touch/BWH_PD_DBS_MixedTarget/vtas/sub-0261/stimulation/sub-0261__sim-binary_model-simbio_hemi-bl_preprocessed_generated_nifti.nii to /Users/cu135/Dropbox (Partners HealthCare)/resources/datasets/BWH_PD_DBS_STN/compound_vtas\n"
     ]
    },
    {
     "name": "stderr",
     "output_type": "stream",
     "text": [
      " 82%|████████▏ | 110/134 [00:44<00:08,  2.87it/s]"
     ]
    },
    {
     "name": "stdout",
     "output_type": "stream",
     "text": [
      "Copied /Volumes/One Touch/BWH_PD_DBS_MixedTarget/vtas/sub-0264/stimulation/sub-0264__sim-binary_model-simbio_hemi-bl_preprocessed_generated_nifti.nii to /Users/cu135/Dropbox (Partners HealthCare)/resources/datasets/BWH_PD_DBS_STN/compound_vtas\n"
     ]
    },
    {
     "name": "stderr",
     "output_type": "stream",
     "text": [
      " 83%|████████▎ | 111/134 [00:44<00:07,  3.20it/s]"
     ]
    },
    {
     "name": "stdout",
     "output_type": "stream",
     "text": [
      "Copied /Volumes/One Touch/BWH_PD_DBS_MixedTarget/vtas/sub-0265/stimulation/sub-0265__sim-binary_model-simbio_hemi-bl_preprocessed_generated_nifti.nii to /Users/cu135/Dropbox (Partners HealthCare)/resources/datasets/BWH_PD_DBS_STN/compound_vtas\n"
     ]
    },
    {
     "name": "stderr",
     "output_type": "stream",
     "text": [
      " 84%|████████▎ | 112/134 [00:45<00:06,  3.21it/s]"
     ]
    },
    {
     "name": "stdout",
     "output_type": "stream",
     "text": [
      "Copied /Volumes/One Touch/BWH_PD_DBS_MixedTarget/vtas/sub-0266/stimulation/sub-0266__sim-binary_model-simbio_hemi-bl_preprocessed_generated_nifti.nii to /Users/cu135/Dropbox (Partners HealthCare)/resources/datasets/BWH_PD_DBS_STN/compound_vtas\n"
     ]
    },
    {
     "name": "stderr",
     "output_type": "stream",
     "text": [
      " 84%|████████▍ | 113/134 [00:45<00:08,  2.53it/s]"
     ]
    },
    {
     "name": "stdout",
     "output_type": "stream",
     "text": [
      "Copied /Volumes/One Touch/BWH_PD_DBS_MixedTarget/vtas/sub-0267/stimulation/sub-0267__sim-binary_model-simbio_hemi-bl_preprocessed_generated_nifti.nii to /Users/cu135/Dropbox (Partners HealthCare)/resources/datasets/BWH_PD_DBS_STN/compound_vtas\n"
     ]
    },
    {
     "name": "stderr",
     "output_type": "stream",
     "text": [
      " 85%|████████▌ | 114/134 [00:45<00:07,  2.81it/s]"
     ]
    },
    {
     "name": "stdout",
     "output_type": "stream",
     "text": [
      "Copied /Volumes/One Touch/BWH_PD_DBS_MixedTarget/vtas/sub-0270/stimulation/sub-0270__sim-binary_model-simbio_hemi-bl_preprocessed_generated_nifti.nii to /Users/cu135/Dropbox (Partners HealthCare)/resources/datasets/BWH_PD_DBS_STN/compound_vtas\n"
     ]
    },
    {
     "name": "stderr",
     "output_type": "stream",
     "text": [
      " 87%|████████▋ | 116/134 [00:46<00:05,  3.45it/s]"
     ]
    },
    {
     "name": "stdout",
     "output_type": "stream",
     "text": [
      "Copied /Volumes/One Touch/BWH_PD_DBS_MixedTarget/vtas/sub-0272/stimulation/sub-0272__sim-binary_model-simbio_hemi-bl_preprocessed_generated_nifti.nii to /Users/cu135/Dropbox (Partners HealthCare)/resources/datasets/BWH_PD_DBS_STN/compound_vtas\n",
      "Copied /Volumes/One Touch/BWH_PD_DBS_MixedTarget/vtas/sub-0280/stimulation/sub-0280__sim-binary_model-simbio_hemi-bl_preprocessed_generated_nifti.nii to /Users/cu135/Dropbox (Partners HealthCare)/resources/datasets/BWH_PD_DBS_STN/compound_vtas\n"
     ]
    },
    {
     "name": "stderr",
     "output_type": "stream",
     "text": [
      " 87%|████████▋ | 117/134 [00:46<00:04,  3.60it/s]"
     ]
    },
    {
     "name": "stdout",
     "output_type": "stream",
     "text": [
      "Copied /Volumes/One Touch/BWH_PD_DBS_MixedTarget/vtas/sub-0281/stimulation/sub-0281__sim-binary_model-simbio_hemi-bl_preprocessed_generated_nifti.nii to /Users/cu135/Dropbox (Partners HealthCare)/resources/datasets/BWH_PD_DBS_STN/compound_vtas\n"
     ]
    },
    {
     "name": "stderr",
     "output_type": "stream",
     "text": [
      " 88%|████████▊ | 118/134 [00:47<00:06,  2.54it/s]"
     ]
    },
    {
     "name": "stdout",
     "output_type": "stream",
     "text": [
      "Copied /Volumes/One Touch/BWH_PD_DBS_MixedTarget/vtas/sub-0282/stimulation/sub-0282__sim-binary_model-simbio_hemi-bl_preprocessed_generated_nifti.nii to /Users/cu135/Dropbox (Partners HealthCare)/resources/datasets/BWH_PD_DBS_STN/compound_vtas\n"
     ]
    },
    {
     "name": "stderr",
     "output_type": "stream",
     "text": [
      " 89%|████████▉ | 119/134 [00:47<00:06,  2.33it/s]"
     ]
    },
    {
     "name": "stdout",
     "output_type": "stream",
     "text": [
      "Copied /Volumes/One Touch/BWH_PD_DBS_MixedTarget/vtas/sub-0283/stimulation/sub-0283__sim-binary_model-simbio_hemi-bl_preprocessed_generated_nifti.nii to /Users/cu135/Dropbox (Partners HealthCare)/resources/datasets/BWH_PD_DBS_STN/compound_vtas\n"
     ]
    },
    {
     "name": "stderr",
     "output_type": "stream",
     "text": [
      " 90%|████████▉ | 120/134 [00:48<00:07,  1.76it/s]"
     ]
    },
    {
     "name": "stdout",
     "output_type": "stream",
     "text": [
      "Copied /Volumes/One Touch/BWH_PD_DBS_MixedTarget/vtas/sub-0287/stimulation/sub-0287__sim-binary_model-simbio_hemi-bl_preprocessed_generated_nifti.nii to /Users/cu135/Dropbox (Partners HealthCare)/resources/datasets/BWH_PD_DBS_STN/compound_vtas\n"
     ]
    },
    {
     "name": "stderr",
     "output_type": "stream",
     "text": [
      " 90%|█████████ | 121/134 [00:49<00:08,  1.51it/s]"
     ]
    },
    {
     "name": "stdout",
     "output_type": "stream",
     "text": [
      "Copied /Volumes/One Touch/BWH_PD_DBS_MixedTarget/vtas/sub-0288/stimulation/sub-0288__sim-binary_model-simbio_hemi-bl_preprocessed_generated_nifti.nii to /Users/cu135/Dropbox (Partners HealthCare)/resources/datasets/BWH_PD_DBS_STN/compound_vtas\n"
     ]
    },
    {
     "name": "stderr",
     "output_type": "stream",
     "text": [
      " 91%|█████████ | 122/134 [00:50<00:07,  1.63it/s]"
     ]
    },
    {
     "name": "stdout",
     "output_type": "stream",
     "text": [
      "Copied /Volumes/One Touch/BWH_PD_DBS_MixedTarget/vtas/sub-0289/stimulation/sub-0289__sim-binary_model-simbio_hemi-bl_preprocessed_generated_nifti.nii to /Users/cu135/Dropbox (Partners HealthCare)/resources/datasets/BWH_PD_DBS_STN/compound_vtas\n"
     ]
    },
    {
     "name": "stderr",
     "output_type": "stream",
     "text": [
      " 93%|█████████▎| 124/134 [00:50<00:03,  2.52it/s]"
     ]
    },
    {
     "name": "stdout",
     "output_type": "stream",
     "text": [
      "Copied /Volumes/One Touch/BWH_PD_DBS_MixedTarget/vtas/sub-0290/stimulation/sub-0290__sim-binary_model-simbio_hemi-bl_preprocessed_generated_nifti.nii to /Users/cu135/Dropbox (Partners HealthCare)/resources/datasets/BWH_PD_DBS_STN/compound_vtas\n",
      "Copied /Volumes/One Touch/BWH_PD_DBS_MixedTarget/vtas/sub-0291/stimulation/sub-0291__sim-binary_model-simbio_hemi-bl_preprocessed_generated_nifti.nii to /Users/cu135/Dropbox (Partners HealthCare)/resources/datasets/BWH_PD_DBS_STN/compound_vtas\n"
     ]
    },
    {
     "name": "stderr",
     "output_type": "stream",
     "text": [
      " 94%|█████████▍| 126/134 [00:51<00:02,  3.05it/s]"
     ]
    },
    {
     "name": "stdout",
     "output_type": "stream",
     "text": [
      "Copied /Volumes/One Touch/BWH_PD_DBS_MixedTarget/vtas/sub-0293/stimulation/sub-0293__sim-binary_model-simbio_hemi-bl_preprocessed_generated_nifti.nii to /Users/cu135/Dropbox (Partners HealthCare)/resources/datasets/BWH_PD_DBS_STN/compound_vtas\n",
      "Copied /Volumes/One Touch/BWH_PD_DBS_MixedTarget/vtas/sub-0294/stimulation/sub-0294__sim-binary_model-simbio_hemi-bl_preprocessed_generated_nifti.nii to /Users/cu135/Dropbox (Partners HealthCare)/resources/datasets/BWH_PD_DBS_STN/compound_vtas\n"
     ]
    },
    {
     "name": "stderr",
     "output_type": "stream",
     "text": [
      " 95%|█████████▍| 127/134 [00:51<00:02,  3.50it/s]"
     ]
    },
    {
     "name": "stdout",
     "output_type": "stream",
     "text": [
      "Copied /Volumes/One Touch/BWH_PD_DBS_MixedTarget/vtas/sub-0298/stimulation/sub-0298__sim-binary_model-simbio_hemi-bl_preprocessed_generated_nifti.nii to /Users/cu135/Dropbox (Partners HealthCare)/resources/datasets/BWH_PD_DBS_STN/compound_vtas\n"
     ]
    },
    {
     "name": "stderr",
     "output_type": "stream",
     "text": [
      " 96%|█████████▋| 129/134 [00:51<00:01,  4.21it/s]"
     ]
    },
    {
     "name": "stdout",
     "output_type": "stream",
     "text": [
      "Copied /Volumes/One Touch/BWH_PD_DBS_MixedTarget/vtas/sub-0300/stimulation/sub-0300__sim-binary_model-simbio_hemi-bl_preprocessed_generated_nifti.nii to /Users/cu135/Dropbox (Partners HealthCare)/resources/datasets/BWH_PD_DBS_STN/compound_vtas\n",
      "Copied /Volumes/One Touch/BWH_PD_DBS_MixedTarget/vtas/sub-0301/stimulation/sub-0301__sim-binary_model-simbio_hemi-bl_preprocessed_generated_nifti.nii to /Users/cu135/Dropbox (Partners HealthCare)/resources/datasets/BWH_PD_DBS_STN/compound_vtas\n"
     ]
    },
    {
     "name": "stderr",
     "output_type": "stream",
     "text": [
      " 97%|█████████▋| 130/134 [00:51<00:00,  4.20it/s]"
     ]
    },
    {
     "name": "stdout",
     "output_type": "stream",
     "text": [
      "Copied /Volumes/One Touch/BWH_PD_DBS_MixedTarget/vtas/sub-0302/stimulation/sub-0302__sim-binary_model-simbio_hemi-bl_preprocessed_generated_nifti.nii to /Users/cu135/Dropbox (Partners HealthCare)/resources/datasets/BWH_PD_DBS_STN/compound_vtas\n"
     ]
    },
    {
     "name": "stderr",
     "output_type": "stream",
     "text": [
      " 98%|█████████▊| 131/134 [00:52<00:01,  2.34it/s]"
     ]
    },
    {
     "name": "stdout",
     "output_type": "stream",
     "text": [
      "Copied /Volumes/One Touch/BWH_PD_DBS_MixedTarget/vtas/sub-0305/stimulation/sub-0305__sim-binary_model-simbio_hemi-bl_preprocessed_generated_nifti.nii to /Users/cu135/Dropbox (Partners HealthCare)/resources/datasets/BWH_PD_DBS_STN/compound_vtas\n"
     ]
    },
    {
     "name": "stderr",
     "output_type": "stream",
     "text": [
      " 99%|█████████▊| 132/134 [00:53<00:00,  2.20it/s]"
     ]
    },
    {
     "name": "stdout",
     "output_type": "stream",
     "text": [
      "Copied /Volumes/One Touch/BWH_PD_DBS_MixedTarget/vtas/sub-0307/stimulation/sub-0307__sim-binary_model-simbio_hemi-bl_preprocessed_generated_nifti.nii to /Users/cu135/Dropbox (Partners HealthCare)/resources/datasets/BWH_PD_DBS_STN/compound_vtas\n"
     ]
    },
    {
     "name": "stderr",
     "output_type": "stream",
     "text": [
      " 99%|█████████▉| 133/134 [00:53<00:00,  2.04it/s]"
     ]
    },
    {
     "name": "stdout",
     "output_type": "stream",
     "text": [
      "Copied /Volumes/One Touch/BWH_PD_DBS_MixedTarget/vtas/sub-0311/stimulation/sub-0311__sim-binary_model-simbio_hemi-bl_preprocessed_generated_nifti.nii to /Users/cu135/Dropbox (Partners HealthCare)/resources/datasets/BWH_PD_DBS_STN/compound_vtas\n"
     ]
    },
    {
     "name": "stderr",
     "output_type": "stream",
     "text": [
      "100%|██████████| 134/134 [00:54<00:00,  2.46it/s]"
     ]
    },
    {
     "name": "stdout",
     "output_type": "stream",
     "text": [
      "Copied /Volumes/One Touch/BWH_PD_DBS_MixedTarget/vtas/sub-0316/stimulation/sub-0316__sim-binary_model-simbio_hemi-bl_preprocessed_generated_nifti.nii to /Users/cu135/Dropbox (Partners HealthCare)/resources/datasets/BWH_PD_DBS_STN/compound_vtas\n"
     ]
    },
    {
     "name": "stderr",
     "output_type": "stream",
     "text": [
      "\n"
     ]
    }
   ],
   "source": [
    "copy_files_to_new_location(root_dir=root_dir, file_pattern=file_pattern, new_location=destination_folder)"
   ]
  },
  {
   "cell_type": "code",
   "execution_count": null,
   "metadata": {},
   "outputs": [],
   "source": []
  }
 ],
 "metadata": {
  "kernelspec": {
   "display_name": "nimlab_py310",
   "language": "python",
   "name": "python3"
  },
  "language_info": {
   "codemirror_mode": {
    "name": "ipython",
    "version": 3
   },
   "file_extension": ".py",
   "mimetype": "text/x-python",
   "name": "python",
   "nbconvert_exporter": "python",
   "pygments_lexer": "ipython3",
   "version": "3.10.8"
  }
 },
 "nbformat": 4,
 "nbformat_minor": 2
}
